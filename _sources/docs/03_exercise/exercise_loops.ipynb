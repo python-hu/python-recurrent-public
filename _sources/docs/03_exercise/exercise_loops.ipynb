{
 "cells": [
  {
   "cell_type": "markdown",
   "metadata": {},
   "source": [
    "# 繰り返し処理（演習）\n",
    "\n",
    "---"
   ]
  },
  {
   "cell_type": "markdown",
   "metadata": {},
   "source": [
    "## 演習1:`for`文による繰り返し処理"
   ]
  },
  {
   "cell_type": "markdown",
   "metadata": {},
   "source": [
    "### 演習1-1\n",
    "${0,1,2,...,10}$ の値を要素として持つリスト `l` を定義して，以下の出力例となるように各要素を `for` 文を使って出力せよ． \n",
    "\n",
    "**出力**\n",
    "```python\n",
    "0\n",
    "1\n",
    "2\n",
    "3\n",
    "4\n",
    "5\n",
    "6\n",
    "7\n",
    "8\n",
    "9\n",
    "10\n",
    "```"
   ]
  },
  {
   "cell_type": "code",
   "execution_count": null,
   "metadata": {},
   "outputs": [],
   "source": [
    "# 解答用セル"
   ]
  },
  {
   "cell_type": "markdown",
   "metadata": {},
   "source": [
    "### 演習1-2\n",
    "以下の出力結果となるように`range`関数と`for`文を用いて${0,1,2,...,10}$の値を出力する処理を作成せよ\n",
    "\n",
    "**出力**\n",
    "```python\n",
    "0\n",
    "1\n",
    "2\n",
    "3\n",
    "4\n",
    "5\n",
    "6\n",
    "7\n",
    "8\n",
    "9\n",
    "10\n",
    "```"
   ]
  },
  {
   "cell_type": "code",
   "execution_count": null,
   "metadata": {},
   "outputs": [],
   "source": [
    "# 解答用セル"
   ]
  },
  {
   "cell_type": "markdown",
   "metadata": {},
   "source": [
    "### 演習1-3\n",
    "以下の出力結果となるように`range`関数と`for`文を用いて処理を作成せよ．\n",
    "\n",
    "**出力**\n",
    "```python\n",
    "1\n",
    "2\n",
    "4\n",
    "8\n",
    "16\n",
    "32\n",
    "64\n",
    "128\n",
    "256\n",
    "512\n",
    "1024\n",
    "```"
   ]
  },
  {
   "cell_type": "code",
   "execution_count": null,
   "metadata": {},
   "outputs": [],
   "source": [
    "# 解答用セル"
   ]
  },
  {
   "cell_type": "markdown",
   "metadata": {},
   "source": [
    "### 演習1-4\n",
    "`range`関数と`for`文を用いて以下の要素を持つリストを作成せよ．\n",
    "\n",
    "ヒント：`append`関数を使うとリストに要素を追加できる．\n",
    "\n",
    "**出力**\n",
    "```python\n",
    "[0, 2, 4, 6, 8, 10, 12, 14, 16, 18, 20]\n",
    "```"
   ]
  },
  {
   "cell_type": "code",
   "execution_count": null,
   "metadata": {},
   "outputs": [],
   "source": [
    "# 解答用セル"
   ]
  },
  {
   "cell_type": "markdown",
   "metadata": {},
   "source": [
    "### 演習1-5\n",
    "文字列`hiroshima`を作成し，以下の出力結果となるように`for`文を用いて繰り返し処理を作成せよ．\n",
    "\n",
    "**出力**\n",
    "```python\n",
    "h\n",
    "i\n",
    "r\n",
    "o\n",
    "s\n",
    "h\n",
    "i\n",
    "m\n",
    "a\n",
    "```"
   ]
  },
  {
   "cell_type": "code",
   "execution_count": null,
   "metadata": {},
   "outputs": [],
   "source": [
    "# 解答用セル"
   ]
  },
  {
   "cell_type": "markdown",
   "metadata": {},
   "source": [
    "### 演習1-6\n",
    "文字列`hiroshima`を作成し，以下の出力結果となるような繰り返し処理を作成せよ．\n",
    "\n",
    "**出力**\n",
    "```python\n",
    "h-1\n",
    "i-2\n",
    "r-3\n",
    "o-4\n",
    "s-5\n",
    "h-6\n",
    "i-7\n",
    "m-8\n",
    "a-9\n",
    "```"
   ]
  },
  {
   "cell_type": "code",
   "execution_count": null,
   "metadata": {},
   "outputs": [],
   "source": [
    "# 解答用セル"
   ]
  },
  {
   "cell_type": "markdown",
   "metadata": {},
   "source": [
    "### 演習1-7\n",
    "文字列`hiroshima`を作成し，以下の出力結果となるような繰り返し処理を作成せよ．\n",
    "\n",
    "**出力**\n",
    "```python\n",
    "h\n",
    "ii\n",
    "rrr\n",
    "oooo\n",
    "sssss\n",
    "hhhhhh\n",
    "iiiiiii\n",
    "mmmmmmmm\n",
    "aaaaaaaaa\n",
    "```"
   ]
  },
  {
   "cell_type": "code",
   "execution_count": null,
   "metadata": {},
   "outputs": [],
   "source": [
    "# 解答用セル"
   ]
  },
  {
   "cell_type": "markdown",
   "metadata": {},
   "source": [
    "### 演習1-8\n",
    "文字列`hiroshima`を作成し，文字列の長さを繰り返し処理を用いて求めよ．ただし，`len`関数を用いてはならない．\n",
    "今回の `hiroshima` 例の場合，文字列の長さは `9` である．"
   ]
  },
  {
   "cell_type": "code",
   "execution_count": null,
   "metadata": {},
   "outputs": [],
   "source": [
    "# 解答用セル"
   ]
  },
  {
   "cell_type": "markdown",
   "metadata": {},
   "source": [
    "## 演習2:繰り返し処理と条件分岐"
   ]
  },
  {
   "cell_type": "markdown",
   "metadata": {},
   "source": [
    "### 演習2-1\n",
    "1から20までの整数を出力する際に，その数が偶数であれば\"偶数\"，奇数であれば\"奇数\"と出力するプログラムを繰り返し処理を用いて作成せよ\n",
    "\n",
    "**出力**\n",
    "```python\n",
    "1: 奇数\n",
    "2: 偶数\n",
    "3: 奇数\n",
    "4: 偶数\n",
    "...\n",
    "```"
   ]
  },
  {
   "cell_type": "code",
   "execution_count": null,
   "metadata": {},
   "outputs": [],
   "source": [
    "# 解答用セル"
   ]
  },
  {
   "cell_type": "markdown",
   "metadata": {},
   "source": [
    "### 演習2-2\n",
    "以下の点数リストが与えられたとき，70点以上の点数を取った人は何人いるかを計算するプログラムを作成せよ．\n",
    "\n",
    "点数リスト: `[45, 78, 62, 89, 73, 55, 81, 68]`"
   ]
  },
  {
   "cell_type": "code",
   "execution_count": null,
   "metadata": {},
   "outputs": [],
   "source": [
    "# 解答用セル"
   ]
  },
  {
   "cell_type": "markdown",
   "metadata": {},
   "source": [
    "### 演習2-3\n",
    "以下の点数リストが与えられたとき，平均点を計算するプログラムを作成せよ．\n",
    "\n",
    "点数リスト: `[45, 78, 62, 89, 73, 55, 81, 68]`"
   ]
  },
  {
   "cell_type": "code",
   "execution_count": null,
   "metadata": {},
   "outputs": [],
   "source": [
    "# 解答用セル"
   ]
  },
  {
   "cell_type": "markdown",
   "metadata": {},
   "source": [
    "### 演習2-4\n",
    "文字列 `faehoieanfeaobasbaksfae` の中に含まれる `a` の数を繰り返し処理を用いて計算せよ．"
   ]
  },
  {
   "cell_type": "code",
   "execution_count": null,
   "metadata": {},
   "outputs": [],
   "source": [
    "# 解答用セル"
   ]
  },
  {
   "cell_type": "markdown",
   "metadata": {},
   "source": [
    "### 演習2-5\n",
    "以下の出力のように${1,2,...,999}$の数の中で$123$で割り切れる値をすべて出力せよ\n",
    "\n",
    "**出力**\n",
    "```python\n",
    "123\n",
    "246\n",
    "369\n",
    "492\n",
    "615\n",
    "738\n",
    "861\n",
    "984\n",
    "```"
   ]
  },
  {
   "cell_type": "code",
   "execution_count": null,
   "metadata": {},
   "outputs": [],
   "source": [
    "# 解答用セル"
   ]
  },
  {
   "cell_type": "markdown",
   "metadata": {},
   "source": [
    "### 演習2-6\n",
    "以下の出力となるような繰り返し処理を作成せよ．ただし，`文字列.upper()`で小文字から大文字へ変換できるとする．\n",
    "\n",
    "**出力**\n",
    "```python\n",
    "h\n",
    "II\n",
    "rrr\n",
    "OOOO\n",
    "sssss\n",
    "HHHHHH\n",
    "iiiiiii\n",
    "MMMMMMMM\n",
    "aaaaaaaaa\n",
    "```"
   ]
  },
  {
   "cell_type": "code",
   "execution_count": null,
   "metadata": {},
   "outputs": [],
   "source": [
    "# サンプルコード\n",
    "s = 'hiroshima'\n",
    "print(s)\n",
    "\n",
    "print(s.upper())"
   ]
  },
  {
   "cell_type": "code",
   "execution_count": null,
   "metadata": {},
   "outputs": [],
   "source": [
    "# 解答用セル"
   ]
  },
  {
   "cell_type": "markdown",
   "metadata": {},
   "source": [
    "## 演習3:繰り返し処理と数列"
   ]
  },
  {
   "cell_type": "markdown",
   "metadata": {},
   "source": [
    "### 演習3-1\n",
    "1から10までの整数の総和（与えられた複数の数を全て足した和のこと）を求めるプログラムを`for`文を使用して作成せよ\n",
    "\n",
    "**出力**\n",
    "```python\n",
    "55\n",
    "```"
   ]
  },
  {
   "cell_type": "code",
   "execution_count": null,
   "metadata": {},
   "outputs": [],
   "source": [
    "# 解答用セル"
   ]
  },
  {
   "cell_type": "markdown",
   "metadata": {},
   "source": [
    "### 演習3-2\n",
    "1から5までの整数の総乗（与えられた複数の数を全て掛けた積のこと）を求めるプログラムを`for`文を使用して作成せよ\n",
    "\n",
    "**出力**\n",
    "```python\n",
    "120\n",
    "```"
   ]
  },
  {
   "cell_type": "code",
   "execution_count": null,
   "metadata": {},
   "outputs": [],
   "source": [
    "# 解答用セル"
   ]
  },
  {
   "cell_type": "markdown",
   "metadata": {},
   "source": [
    "### 演習3-3\n",
    "1から`n`までの整数の総和と総乗を求めるプログラムを`for`文を使用して作成せよ．\n",
    "\n",
    "ただし出力時は `n` に6以上の任意の値を代入せよ．\n",
    "\n",
    "**出力 (n=5の場合)**\n",
    "```python\n",
    "総和: 15\n",
    "総乗: 120\n",
    "```"
   ]
  },
  {
   "cell_type": "code",
   "execution_count": null,
   "metadata": {},
   "outputs": [],
   "source": [
    "# 解答用セル"
   ]
  },
  {
   "cell_type": "markdown",
   "metadata": {},
   "source": [
    "## 演習4:発展課題\n",
    "これ以降は発展的な演習課題となります． 解くことは必須ではありませんがぜひチャレンジしてみてください．"
   ]
  },
  {
   "cell_type": "markdown",
   "metadata": {},
   "source": [
    "### 演習4-1\n",
    "繰り返し処理を使って以下の出力を得よ．\n",
    "\n",
    "**出力**\n",
    "```:python\n",
    "         H\n",
    "        III\n",
    "       RRRRR\n",
    "      OOOOOOO\n",
    "     SSSSSSSSS\n",
    "    HHHHHHHHHHH\n",
    "   IIIIIIIIIIIII\n",
    "  MMMMMMMMMMMMMMM\n",
    " AAAAAAAAAAAAAAAAA\n",
    "```"
   ]
  },
  {
   "cell_type": "code",
   "execution_count": null,
   "metadata": {},
   "outputs": [],
   "source": [
    "# 解答用セル"
   ]
  },
  {
   "cell_type": "markdown",
   "metadata": {},
   "source": [
    "### 演習4-2\n",
    "\n",
    "条件分岐の発展課題のFizzBuzz問題を繰り返し処理で拡張する．\n",
    "変数 `number` の値を `1` から `20` まで繰り返し，`number` が\n",
    "\n",
    "- `3` で割り切れて `5` で割り切れないときは「`Fizz`」と出力\n",
    "- `5` で割り切れて `3` で割り切れない時は「`Buzz`」と出力\n",
    "- 両方で割り切れるときは「`FizzBuzz`」と出力\n",
    "- 両方で割り切れないときは，入力した数をそのまま出力\n",
    "\n",
    "とされるような繰り返し処理を実装せよ．\n",
    "\n",
    "出力例は以下である．\n",
    "\n",
    "**出力**\n",
    "```:python\n",
    "1\n",
    "2\n",
    "Fizz\n",
    "4\n",
    "Buzz\n",
    "Fizz\n",
    "7\n",
    "8\n",
    "Fizz\n",
    "Buzz\n",
    "11\n",
    "Fizz\n",
    "13\n",
    "14\n",
    "FizzBuzz\n",
    "16\n",
    "17\n",
    "Fizz\n",
    "19\n",
    "Buzz\n",
    "```"
   ]
  },
  {
   "cell_type": "code",
   "execution_count": null,
   "metadata": {},
   "outputs": [],
   "source": [
    "# 解答用セル"
   ]
  }
 ],
 "metadata": {
  "kernelspec": {
   "display_name": "Python 3.8.8 ('py38-ml')",
   "language": "python",
   "name": "python3"
  },
  "language_info": {
   "codemirror_mode": {
    "name": "ipython",
    "version": 3
   },
   "file_extension": ".py",
   "mimetype": "text/x-python",
   "name": "python",
   "nbconvert_exporter": "python",
   "pygments_lexer": "ipython3",
   "version": "3.8.8"
  },
  "orig_nbformat": 4,
  "vscode": {
   "interpreter": {
    "hash": "393df73654aeede13ebb91076020de1190a2bd60e987ac18d822283f0caa6730"
   }
  }
 },
 "nbformat": 4,
 "nbformat_minor": 2
}
