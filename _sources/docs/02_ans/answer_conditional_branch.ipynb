{
 "cells": [
  {
   "cell_type": "markdown",
   "metadata": {},
   "source": [
    "# 条件分岐（解答）"
   ]
  },
  {
   "cell_type": "markdown",
   "metadata": {},
   "source": [
    "## 演習1：真偽値と条件式\n",
    "\n",
    "### 例題\n",
    "\n",
    "「`x` は `y` より小さい」を，比較演算子を用いて記述せよ．\n",
    "なお，変数 `x` と `y` にはあらかじめ条件式が「`True`」となる適当な数値を代入しておくこと．"
   ]
  },
  {
   "cell_type": "code",
   "execution_count": 3,
   "metadata": {},
   "outputs": [
    {
     "data": {
      "text/plain": [
       "True"
      ]
     },
     "execution_count": 3,
     "metadata": {},
     "output_type": "execute_result"
    }
   ],
   "source": [
    "# 解答用セルの記入例\n",
    "x = 1\n",
    "y = 2\n",
    "\n",
    "x < y"
   ]
  },
  {
   "cell_type": "markdown",
   "metadata": {},
   "source": [
    "### 演習1-1\n",
    "\n",
    "「`x` は `y` より大きい」を，比較演算子を用いて記述せよ．\n",
    "なお，変数 `x` と `y` にはあらかじめ条件式が「`True`」となる適当な数値を代入しておくこと．"
   ]
  },
  {
   "cell_type": "code",
   "execution_count": 4,
   "metadata": {},
   "outputs": [
    {
     "data": {
      "text/plain": [
       "True"
      ]
     },
     "execution_count": 4,
     "metadata": {},
     "output_type": "execute_result"
    }
   ],
   "source": [
    "# 解答例\n",
    "x = 5\n",
    "y = 3\n",
    "\n",
    "x > y"
   ]
  },
  {
   "cell_type": "markdown",
   "metadata": {},
   "source": [
    "### 演習1-2\n",
    "\n",
    "「`x` は `y` と等しい」を，比較演算子を用いて記述せよ．\n",
    "なお，変数 `x` と `y` にはあらかじめ条件式が「`True`」となる適当な数値を代入しておくこと．"
   ]
  },
  {
   "cell_type": "code",
   "execution_count": 5,
   "metadata": {},
   "outputs": [
    {
     "data": {
      "text/plain": [
       "True"
      ]
     },
     "execution_count": 5,
     "metadata": {},
     "output_type": "execute_result"
    }
   ],
   "source": [
    "# 解答例\n",
    "x = 3\n",
    "y = 3\n",
    "\n",
    "x == y"
   ]
  },
  {
   "cell_type": "markdown",
   "metadata": {},
   "source": [
    "### 演習1-3\n",
    "\n",
    "「`x` は `y` と等しくない」を，比較演算子を用いて記述せよ．\n",
    "なお，変数 `x` と `y` にはあらかじめ条件式が「`True`」となる適当な数値を代入しておくこと．"
   ]
  },
  {
   "cell_type": "code",
   "execution_count": 6,
   "metadata": {},
   "outputs": [
    {
     "data": {
      "text/plain": [
       "True"
      ]
     },
     "execution_count": 6,
     "metadata": {},
     "output_type": "execute_result"
    }
   ],
   "source": [
    "# 解答例\n",
    "x = 3\n",
    "y = 1\n",
    "\n",
    "x != y"
   ]
  },
  {
   "cell_type": "markdown",
   "metadata": {},
   "source": [
    "### 演習1-4\n",
    "\n",
    "「`x` は `y` 以上である」を，比較演算子を用いて記述せよ．\n",
    "なお，変数 `x` と `y` にはあらかじめ条件式が「`True`」となる適当な数値を代入しておくこと．"
   ]
  },
  {
   "cell_type": "code",
   "execution_count": 7,
   "metadata": {},
   "outputs": [
    {
     "data": {
      "text/plain": [
       "True"
      ]
     },
     "execution_count": 7,
     "metadata": {},
     "output_type": "execute_result"
    }
   ],
   "source": [
    "# 解答例\n",
    "x = 5\n",
    "y = 3\n",
    "\n",
    "x >= y"
   ]
  },
  {
   "cell_type": "markdown",
   "metadata": {},
   "source": [
    "### 演習1-5\n",
    "\n",
    "「`x` は `y` 以下である」を，比較演算子を用いて記述せよ．\n",
    "なお，変数 `x` と `y` にはあらかじめ条件式が「`True`」となる適当な数値を代入しておくこと．"
   ]
  },
  {
   "cell_type": "code",
   "execution_count": 9,
   "metadata": {},
   "outputs": [
    {
     "data": {
      "text/plain": [
       "True"
      ]
     },
     "execution_count": 9,
     "metadata": {},
     "output_type": "execute_result"
    }
   ],
   "source": [
    "# 解答例\n",
    "x = 3\n",
    "y = 5\n",
    "\n",
    "x <= y"
   ]
  },
  {
   "cell_type": "markdown",
   "metadata": {},
   "source": [
    "### 演習1-6\n",
    "\n",
    "「リスト `[1, 3, 5, 7, 9]` の中に `6` が含まれているか？」を比較演算子を用いて記述せよ．\n",
    "\n",
    "**出力例**\n",
    "\n",
    "```python\n",
    "False\n",
    "```"
   ]
  },
  {
   "cell_type": "code",
   "execution_count": 2,
   "metadata": {},
   "outputs": [
    {
     "data": {
      "text/plain": [
       "False"
      ]
     },
     "execution_count": 2,
     "metadata": {},
     "output_type": "execute_result"
    }
   ],
   "source": [
    "# 解答例\n",
    "6 in [1, 3, 5, 7, 9]"
   ]
  },
  {
   "cell_type": "markdown",
   "metadata": {},
   "source": [
    "### 演習1-7\n",
    "\n",
    "「文字列 `I have an apple` に，部分文字列 `apple` が含まれているか？」を，比較演算子を用いて記述せよ．\n",
    "\n",
    "**出力例**\n",
    "\n",
    "```python\n",
    "True\n",
    "```"
   ]
  },
  {
   "cell_type": "code",
   "execution_count": 1,
   "metadata": {},
   "outputs": [
    {
     "data": {
      "text/plain": [
       "True"
      ]
     },
     "execution_count": 1,
     "metadata": {},
     "output_type": "execute_result"
    }
   ],
   "source": [
    "# 解答例\n",
    "'apple' in 'I have an apple'"
   ]
  },
  {
   "cell_type": "markdown",
   "metadata": {},
   "source": [
    "### 演習1-8\n",
    "\n",
    "「文字列 `programming` の長さが10文字以上か？」を，比較演算子を用いて記述せよ．\n",
    "\n",
    "**ヒント**\n",
    "\n",
    "文字列の長さを取得するには，どうすればよかったか思い出そう．\n",
    "忘れた人は，[前回の教材](../02/variables_and_data_types.ipynb) を確認されたい．\n",
    "\n",
    "**出力例**\n",
    "\n",
    "```python\n",
    "True\n",
    "```"
   ]
  },
  {
   "cell_type": "code",
   "execution_count": 4,
   "metadata": {},
   "outputs": [
    {
     "data": {
      "text/plain": [
       "True"
      ]
     },
     "execution_count": 4,
     "metadata": {},
     "output_type": "execute_result"
    }
   ],
   "source": [
    "# 解答例\n",
    "len(\"programming\") >= 10"
   ]
  },
  {
   "cell_type": "markdown",
   "metadata": {},
   "source": [
    "## 演習2：`if`文\n",
    "\n",
    "### 演習2-1\n",
    "\n",
    "変数 `a` の値が `5` と等しければ「5と等しいです」と表示するプログラムを書け．\n",
    "なお，変数 `a` には適当な値を代入しておき，プログラムの実行結果も表示せよ．"
   ]
  },
  {
   "cell_type": "code",
   "execution_count": 12,
   "metadata": {},
   "outputs": [
    {
     "name": "stdout",
     "output_type": "stream",
     "text": [
      "5と等しいです．\n"
     ]
    }
   ],
   "source": [
    "# 解答例\n",
    "a = 5\n",
    "\n",
    "if a == 5:\n",
    "    print('5と等しいです．')"
   ]
  },
  {
   "cell_type": "markdown",
   "metadata": {},
   "source": [
    "### 演習2-2\n",
    "\n",
    "文字列の変数 `s` が部分文字列 `apple` を含む場合、「appleが含まれています」と表示するプログラムを書け．なお，変数 `s` には適当な値を代入しておき，プログラムの実行結果も表示せよ．"
   ]
  },
  {
   "cell_type": "code",
   "execution_count": 6,
   "metadata": {},
   "outputs": [
    {
     "name": "stdout",
     "output_type": "stream",
     "text": [
      "appleが含まれています．\n"
     ]
    }
   ],
   "source": [
    "# 解答例\n",
    "s = 'I like apple pie.'\n",
    "\n",
    "if 'apple' in s:\n",
    "    print('appleが含まれています．')"
   ]
  },
  {
   "cell_type": "markdown",
   "metadata": {},
   "source": [
    "## 演習3：`if　... else`文\n",
    "\n",
    "### 演習3-1\n",
    "\n",
    "変数 `a` の値が `3` で割り切れるときは「`3で割り切れます`」，そうでないときには「`3で割り切れません`」と表示するプログラムを作成せよ．\n",
    "なお，変数 `a` には適当な値を代入しておき，プログラムの実行結果も表示せよ．\n",
    "\n",
    "**ヒント**\n",
    "\n",
    "「割り切れる」を表現するためには，`a` を `3` で割った余りが `0` と等しくなればよい．\n",
    "余りの計算方法は [第1回](../01/introduction_and_setup.ipynb) または [第2回](../02/variables_and_data_types.ipynb) の教材を参照されたい．"
   ]
  },
  {
   "cell_type": "code",
   "execution_count": 7,
   "metadata": {},
   "outputs": [
    {
     "name": "stdout",
     "output_type": "stream",
     "text": [
      "3で割り切れます\n"
     ]
    }
   ],
   "source": [
    "# 解答例\n",
    "a = 15\n",
    "\n",
    "if a % 3 == 0:\n",
    "    print('3で割り切れます')\n",
    "else:\n",
    "    print('3で割り切れません')"
   ]
  },
  {
   "cell_type": "markdown",
   "metadata": {},
   "source": [
    "### 演習3-2\n",
    "\n",
    "人数に応じて，団体割が適用されるかどうかを判定するプログラムを考える．ここでは，人数が15名以上だったら団体割が適用されるとする．\n",
    "\n",
    "人数を表す変数 `number` の値が `15` 以上であれば「`団体割が適用されます`」，そうでなければ「`団体割が適用されません`」と表示するプログラムを作成せよ．\n",
    "なお，変数 `number` には任意の値を代入し，プログラムの実行結果も表示せよ．"
   ]
  },
  {
   "cell_type": "code",
   "execution_count": 13,
   "metadata": {},
   "outputs": [
    {
     "name": "stdout",
     "output_type": "stream",
     "text": [
      "団体割が適用されません\n"
     ]
    }
   ],
   "source": [
    "# 解答例\n",
    "number = 13\n",
    "\n",
    "if number >= 15:\n",
    "    print('団体割が適用されます')\n",
    "else:\n",
    "    print('団体割が適用されません')"
   ]
  },
  {
   "cell_type": "markdown",
   "metadata": {},
   "source": [
    "## 演習4：`if ... elif ... else`文\n",
    "\n",
    "参加者の年齢に応じて，適切な入場料金を表示するプログラムを考える．\n",
    "ここでは，3歳児以下は無料，15歳児以下は子供料金，そうでなければ大人料金となるとする．\n",
    "\n",
    "年齢を表す変数 `age` の値が `3` 以下であれば「`入場料は無料です`」，`15` 以下であれば「`子供料金が必要です`」，そうでなければ「`大人料金が必要です`」と表示するプログラムを作成せよ．\n",
    "なお，変数 `age` には任意の値を代入し，プログラムの実行結果も表示せよ．"
   ]
  },
  {
   "cell_type": "code",
   "execution_count": 15,
   "metadata": {},
   "outputs": [
    {
     "name": "stdout",
     "output_type": "stream",
     "text": [
      "子供料金が必要です\n"
     ]
    }
   ],
   "source": [
    "# 解答例\n",
    "age = 13\n",
    "\n",
    "if age <= 3:\n",
    "    print('入場料は無料です')\n",
    "elif age <= 15:\n",
    "    print('子供料金が必要です')\n",
    "else:\n",
    "    print('大人料金が必要です')"
   ]
  },
  {
   "cell_type": "markdown",
   "metadata": {},
   "source": [
    "## 演習5：複数条件の組み合わせ"
   ]
  },
  {
   "cell_type": "markdown",
   "metadata": {},
   "source": [
    "### 演習5-1\n",
    "\n",
    "文字列の変数 `s` が，部分文字列 `apple` または `banana` を含む場合，「`果物が含まれています`」と表示するプログラムを書け．\n",
    "なお，変数 `s` には適当な値を代入しておき，プログラムの実行結果も表示せよ．"
   ]
  },
  {
   "cell_type": "code",
   "execution_count": 12,
   "metadata": {},
   "outputs": [
    {
     "name": "stdout",
     "output_type": "stream",
     "text": [
      "果物が含まれています．\n"
     ]
    }
   ],
   "source": [
    "# 解答例\n",
    "s = 'I like apple pie.'\n",
    "\n",
    "if 'apple' in s or 'banana' in s:\n",
    "    print('果物が含まれています．')"
   ]
  },
  {
   "cell_type": "markdown",
   "metadata": {},
   "source": [
    "### 演習5-2\n",
    "\n",
    "変数 `x` の値が「0でなく」かつ「2で割り切れる」場合のみ「`条件に合致します`」と表示し，そうでない場合に「`条件に合致しません`」と表示するプログラムを作成せよ．\n",
    "なお，変数 `x` には適当な値を代入しておき，プログラムの実行結果も表示せよ．"
   ]
  },
  {
   "cell_type": "code",
   "execution_count": 11,
   "metadata": {},
   "outputs": [
    {
     "name": "stdout",
     "output_type": "stream",
     "text": [
      "条件に合致します\n"
     ]
    }
   ],
   "source": [
    "# 解答例\n",
    "x = 2\n",
    "\n",
    "if x != 0 and x % 2 == 0:\n",
    "    print('条件に合致します')\n",
    "else:\n",
    "    print('条件に合致しません')"
   ]
  },
  {
   "cell_type": "markdown",
   "metadata": {},
   "source": [
    "## 演習6：発展課題\n",
    "\n",
    "これ以降は発展的な演習課題となります．\n",
    "解くことは必須ではありませんが，条件分岐を応用する良い練習になるので，ぜひチャレンジしてみてください．\n",
    "\n",
    "### 演習6-1：FizzBuzz問題\n",
    "\n",
    "変数 `number` の値に対し，次のことを出力せよ．\n",
    "\n",
    "- `3` で割り切れて `5` で割り切れないときは「`Fizz`」と出力\n",
    "- `5` で割り切れて `3` で割り切れない時は「`Buzz`」と出力\n",
    "- 両方で割り切れるときは「`FizzBuzz`」と出力\n",
    "- 両方で割り切れないときは，入力した数をそのまま出力\n",
    "\n",
    "なお，変数 `number` には適当な値を代入し，プログラムの実行結果も表示せよ．"
   ]
  },
  {
   "cell_type": "code",
   "execution_count": 6,
   "metadata": {},
   "outputs": [
    {
     "name": "stdout",
     "output_type": "stream",
     "text": [
      "FizzBuzz\n"
     ]
    }
   ],
   "source": [
    "# 解答例①\n",
    "# 上記の要件をそのままプログラムに落とし込むと以下のようになる（ただしやや冗長な書き方である）．\n",
    "number = 15\n",
    "\n",
    "if number % 3 == 0 and number % 5 != 0:\n",
    "    print('Fizz')\n",
    "elif number % 5 == 0 and number % 3 != 0:\n",
    "    print('Buzz')\n",
    "elif number % 5 == 0 and number % 3 == 0:\n",
    "    print('FizzBuzz')\n",
    "else:\n",
    "    print(number)"
   ]
  },
  {
   "cell_type": "code",
   "execution_count": 25,
   "metadata": {},
   "outputs": [
    {
     "name": "stdout",
     "output_type": "stream",
     "text": [
      "FizzBuzz\n"
     ]
    }
   ],
   "source": [
    "# 解答例②\n",
    "# もう少しコンパクトに書いた場合．条件式は上から順番に判定されることを利用している．\n",
    "number = 15\n",
    "\n",
    "if number % 3 == 0 and number % 5 == 0:\n",
    "    print('FizzBuzz')\n",
    "elif number % 3 == 0:\n",
    "    print('Fizz')\n",
    "elif number % 5 == 0:\n",
    "    print('Buzz')\n",
    "else:\n",
    "    print(number) "
   ]
  },
  {
   "cell_type": "markdown",
   "metadata": {},
   "source": "### 演習6-2：うるう年判定プログラム\n\n年（西暦）を表す変数 `year` の値が，うるう年かどうかを判定するプログラムを作成せよ．\nなお，変数 `year` には適当な値を代入し，プログラムの実行結果も表示せよ．\n\n> **💡 うるう年の規則**\n> \n> - 「400で割り切れる」年はうるう年\n>     - たとえば，2000年はこれを満たすのでうるう年\n> - 「4で割り切れる」かつ「100で割り切れない」年はうるう年\n>     - たとえば，2020年はこれを満たすのでうるう年\n> - 上記の両方とも満たさない場合はうるう年ではない\n>     - たとえば，2100年は4で割り切れるが，100でも割り切れるので，うるう年ではない"
  },
  {
   "cell_type": "code",
   "execution_count": 5,
   "metadata": {},
   "outputs": [
    {
     "name": "stdout",
     "output_type": "stream",
     "text": [
      "うるう年です\n"
     ]
    }
   ],
   "source": [
    "# 解答例\n",
    "year = 2020\n",
    "\n",
    "if (year % 400 == 0) or (year % 4 == 0 and year % 100 != 0):\n",
    "    print('うるう年です')\n",
    "else:\n",
    "    print('うるう年ではありません')"
   ]
  },
  {
   "cell_type": "markdown",
   "metadata": {},
   "source": [
    "### 演習6-3：3の倍数と3のつく数\n",
    "\n",
    "変数 `number` の値に対し，3の倍数と3のつく数の時だけ「3に関する数です」と出力するプログラムを作成せよ．なお，変数 `number` には適当な値を代入し，プログラムの実行結果も表示せよ．"
   ]
  },
  {
   "cell_type": "code",
   "execution_count": 19,
   "metadata": {},
   "outputs": [
    {
     "name": "stdout",
     "output_type": "stream",
     "text": [
      "3に関する値です\n"
     ]
    }
   ],
   "source": [
    "# 解答例\n",
    "number = 13\n",
    "\n",
    "if (number % 3 == 0) or ('3' in str(number)):\n",
    "    print('3に関する値です')"
   ]
  },
  {
   "cell_type": "markdown",
   "metadata": {},
   "source": "> **💡 解答の解説**\n> \n> おそらく躓きやすいポイントとしては，「3のつく数かどうか」を条件式としてどのように表現するか，であろう．\n> \n> 上記の解答例では，第4回で学んだ 文字列に対する`in` を用いて，「`number` の中に `3` が含まれているか？」を条件式として表現している．\n> ただし，変数 `number` には数値が格納されているため，`str()` を用いて文字列型に変換している（`str()` の復習は [こちら](../02/variables_and_data_types.html#id43)）．\n> \n> 例えば `number = 13` の場合，「文字列 `'13'` の中に文字 `'3'` が含まれているか？」という条件式を考えていることになる．"
  }
 ],
 "metadata": {
  "kernelspec": {
   "display_name": "Python 3 (ipykernel)",
   "language": "python",
   "name": "python3"
  },
  "language_info": {
   "codemirror_mode": {
    "name": "ipython",
    "version": 3
   },
   "file_extension": ".py",
   "mimetype": "text/x-python",
   "name": "python",
   "nbconvert_exporter": "python",
   "pygments_lexer": "ipython3",
   "version": "3.9.7"
  },
  "vscode": {
   "interpreter": {
    "hash": "13b92c06b6e5ed457c2ffbe8aafd0597ab041ad1a918995ab3a6bf23080bab16"
   }
  }
 },
 "nbformat": 4,
 "nbformat_minor": 2
}