{
 "cells": [
  {
   "cell_type": "markdown",
   "metadata": {},
   "source": [
    "# 機械学習入門（演習）\n",
    "\n",
    "---"
   ]
  },
  {
   "cell_type": "markdown",
   "metadata": {},
   "source": [
    "## 必要なライブラリのimportとデータのダウンロード\n",
    "以下のセルで演習に必要なライブラリの`import`とデータをダウンロードしています．初めに実行してください．"
   ]
  },
  {
   "cell_type": "code",
   "execution_count": null,
   "metadata": {},
   "outputs": [],
   "source": [
    "import numpy as np\n",
    "import matplotlib.pyplot as plt\n",
    "%matplotlib inline\n",
    "\n",
    "from matplotlib import rcParams\n",
    "rcParams['font.family'] = 'sans-serif'\n",
    "rcParams['font.sans-serif'] = ['Hiragino Sans', 'Yu Gothic', 'Meirio', 'Takao', 'IPAexGothic', 'IPAPGothic', 'VL PGothic', 'Noto Sans CJK JP']"
   ]
  },
  {
   "cell_type": "code",
   "execution_count": null,
   "metadata": {},
   "outputs": [],
   "source": [
    "!mkdir -p data\n",
    "\n",
    "!wget -P data https://raw.githubusercontent.com/ground-zero-programming/zero-pro-data/refs/heads/main/data/machine_learning/exercise/data_N.npy -O data/data_N.npy\n",
    "!wget -P data https://raw.githubusercontent.com/ground-zero-programming/zero-pro-data/refs/heads/main/data/machine_learning/exercise/target_N.npy -O data/target_N.npy\n",
    "\n",
    "!wget -P data https://raw.githubusercontent.com/ground-zero-programming/zero-pro-data/refs/heads/main/data/machine_learning/exercise/data_noise_scale.npy -O data/data_noise_scale.npy\n",
    "!wget -P data https://raw.githubusercontent.com/ground-zero-programming/zero-pro-data/refs/heads/main/data/machine_learning/exercise/target_noise_scale.npy -O data/target_noise_scale.npy\n",
    "\n",
    "!wget -P data https://raw.githubusercontent.com/ground-zero-programming/zero-pro-data/refs/heads/main/data/machine_learning/exercise/data_a.npy -O data/data_a.npy\n",
    "!wget -P data https://raw.githubusercontent.com/ground-zero-programming/zero-pro-data/refs/heads/main/data/machine_learning/exercise/target_a.npy -O data/target_a.npy\n",
    "\n",
    "!wget -P data https://raw.githubusercontent.com/ground-zero-programming/zero-pro-data/refs/heads/main/data/machine_learning/exercise/data_b.npy -O data/data_b.npy\n",
    "!wget -P data https://raw.githubusercontent.com/ground-zero-programming/zero-pro-data/refs/heads/main/data/machine_learning/exercise/target_b.npy -O data/target_b.npy"
   ]
  },
  {
   "cell_type": "markdown",
   "metadata": {},
   "source": [
    "## 演習1: 線形回帰\n",
    "### 演習1-1: データの読み込みと可視化\n",
    "以下に示すようにデータ数 `N`，ノイズの大きさ `noise_scale`，データを生成するときの関数の傾きと切片 `a`と`b`のパラメータを講義資料から変更したデータを用意した．\n",
    "1. データ数 `N` を変更したデータのパス\n",
    "    - X: 'data/data_N.npy'\n",
    "    - y: 'data/target_N.npy'\n",
    "2. ノイズの大きさ `noise_scale` を変更したデータのパス\n",
    "    - X: 'data/data_noise_scale.npy'\n",
    "    - y: 'data/target_noise_scale.npy'\n",
    "3. データを生成するときの関数の傾き `a` を変更したデータのパス\n",
    "    - X: 'data/data_a.npy'\n",
    "    - y: 'data/target_a.npy'\n",
    "4. データを生成するときの関数の切片 `b` を変更したデータのパス\n",
    "    - X: 'data/data_b.npy'\n",
    "    - y: 'data/target_b.npy'\n",
    "\n",
    "どれか一つで良いので `np.load`関数を使って読み込み，読み込んだデータを可視化せよ．"
   ]
  },
  {
   "cell_type": "code",
   "execution_count": null,
   "metadata": {},
   "outputs": [],
   "source": [
    "# 解答用セル"
   ]
  },
  {
   "cell_type": "markdown",
   "metadata": {},
   "source": [
    "### 演習1-2: 線形回帰\n",
    "読み込んだデータを使って線形回帰を実行せよ．また得られた傾きと切片を元に結果を可視化せよ．"
   ]
  },
  {
   "cell_type": "code",
   "execution_count": null,
   "metadata": {},
   "outputs": [],
   "source": [
    "# 解答用セル"
   ]
  },
  {
   "cell_type": "markdown",
   "metadata": {},
   "source": [
    "## 発展演習1: Numpyの操作\n",
    "\n",
    "これ以降は発展的な演習課題となります． \n",
    "解くことは必須ではありませんが，ぜひチャレンジしてみてください．"
   ]
  },
  {
   "cell_type": "markdown",
   "metadata": {},
   "source": [
    "### 発展演習1-1: ベクトルの定義\n",
    "`Numpy`を用いて以下に示すベクトル $\\mathbf{a},\\mathbf{b}$ を定義して`.shape`でベクトルの形状を以下の目標出力に従って出力せよ．\n",
    "\n",
    "$$\n",
    "\\mathbf{a}=\\begin{bmatrix}\n",
    "1 \\\\\n",
    "2 \\\\\n",
    "3 \\\\\n",
    "4\n",
    "\\end{bmatrix},\n",
    "\\mathbf{b}=\\begin{bmatrix}\n",
    "5 \\\\\n",
    "6 \\\\\n",
    "7 \\\\\n",
    "8\n",
    "\\end{bmatrix}\n",
    "$$\n",
    "\n",
    "**目標出力**\n",
    "\n",
    "```python\n",
    "a.shape: (4, 1), b.shape: (4, 1)\n",
    "```"
   ]
  },
  {
   "cell_type": "code",
   "execution_count": null,
   "metadata": {},
   "outputs": [],
   "source": [
    "# 解答用セル"
   ]
  },
  {
   "cell_type": "markdown",
   "metadata": {},
   "source": [
    "### 発展演習1-2: ベクトルの内積\n",
    "定義したベクトル $\\mathbf{a},\\mathbf{b}$ の内積 $\\mathbf{a}^\\top \\mathbf{b}$ を`Numpy`を用いて計算せよ．"
   ]
  },
  {
   "cell_type": "code",
   "execution_count": null,
   "metadata": {},
   "outputs": [],
   "source": [
    "# 解答用セル"
   ]
  },
  {
   "cell_type": "markdown",
   "metadata": {},
   "source": [
    "### 発展演習1-3: Numpyを用いない実装\n",
    "演習1-1,1-2を`Numpy`を用いずリストと繰り返し文のみを使って実装せよ．"
   ]
  },
  {
   "cell_type": "code",
   "execution_count": null,
   "metadata": {},
   "outputs": [],
   "source": [
    "# 解答用セル"
   ]
  },
  {
   "cell_type": "markdown",
   "metadata": {},
   "source": [
    "### 発展演習1-4: 行列の定義\n",
    "`Numpy`を用いて以下に示す行列 $\\mathbf{A},\\mathbf{B}$ を定義し，`.shape`で行列の形状を以下の目標出力に従って出力せよ．\n",
    "\n",
    "$$\n",
    "\\mathbf{A}=\\begin{bmatrix}\n",
    "1 & 2 & 3 \\\\\n",
    "4 & 5 & 6 \\\\\n",
    "\\end{bmatrix},\n",
    "\\mathbf{B}=\\begin{bmatrix}\n",
    "1 & 2 \\\\\n",
    "3 & 4 \\\\\n",
    "5 & 6 \\\\\n",
    "\\end{bmatrix}\n",
    "$$\n",
    "\n",
    "**目標出力**\n",
    "\n",
    "```python\n",
    "A.shape: (2, 3), B.shape: (3, 2)\n",
    "```"
   ]
  },
  {
   "cell_type": "code",
   "execution_count": null,
   "metadata": {},
   "outputs": [],
   "source": [
    "# 解答用セル"
   ]
  },
  {
   "cell_type": "markdown",
   "metadata": {},
   "source": [
    "### 発展演習1-5: 行列の積\n",
    "定義した行列 $\\mathbf{A},\\mathbf{B}$ の積 $\\mathbf{A}\\mathbf{B}$ を`Numpy`を用いて計算せよ．"
   ]
  },
  {
   "cell_type": "code",
   "execution_count": null,
   "metadata": {},
   "outputs": [],
   "source": [
    "# 解答用セル"
   ]
  },
  {
   "cell_type": "markdown",
   "metadata": {},
   "source": [
    "### 発展演習1-6: 固有値計算\n",
    "以下の行列 $\\mathbf{C}$ の固有値と固有ベクトルを計算せよ．ただし，Numpy, Sympy, Scipy,...など利用するライブラリや計算方法は自由で良い．講義中で固有値計算の話題に触れていないので各自利用するライブラリのリファレンス等を参考に取り組むこと．\n",
    "\n",
    "$$\n",
    "\\mathbf{C}=\\begin{bmatrix}\n",
    "3 & 0 \\\\\n",
    "1 & 2 \\\\\n",
    "\\end{bmatrix}\n",
    "$$"
   ]
  },
  {
   "cell_type": "code",
   "execution_count": null,
   "metadata": {},
   "outputs": [],
   "source": [
    "# 解答用セル"
   ]
  },
  {
   "cell_type": "markdown",
   "metadata": {},
   "source": [
    "## 発展演習2: 線形回帰\n",
    "講義で扱った線形回帰は $y=ax+b$ という線形のモデルを仮定してデータを当てはめる．利用する入出力のペア $(x,y)$ が $y=ax+b$ ではなく二次関数 $y=ax^2+bx+c$ から生成されるときどのような結果となるかPythonのプログラミングを通して検証せよ．ただし，パラメータ`N, noise_scale, a, b, c`は自由に設定して良い．"
   ]
  },
  {
   "cell_type": "code",
   "execution_count": null,
   "metadata": {},
   "outputs": [],
   "source": [
    "# 解答用セル"
   ]
  }
 ],
 "metadata": {
  "kernelspec": {
   "display_name": "Python 3 (ipykernel)",
   "language": "python",
   "name": "python3"
  },
  "language_info": {
   "codemirror_mode": {
    "name": "ipython",
    "version": 3
   },
   "file_extension": ".py",
   "mimetype": "text/x-python",
   "name": "python",
   "nbconvert_exporter": "python",
   "pygments_lexer": "ipython3",
   "version": "3.9.13"
  },
  "vscode": {
   "interpreter": {
    "hash": "393df73654aeede13ebb91076020de1190a2bd60e987ac18d822283f0caa6730"
   }
  }
 },
 "nbformat": 4,
 "nbformat_minor": 2
}
