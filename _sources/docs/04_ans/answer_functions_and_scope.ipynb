{
 "cells": [
  {
   "cell_type": "markdown",
   "metadata": {},
   "source": [
    "# 関数（解答）"
   ]
  },
  {
   "cell_type": "markdown",
   "metadata": {},
   "source": [
    "## 演習1：関数の基礎\n",
    "\n",
    "### 演習1-1\n",
    "\n",
    "以下の関数 `simple_function` は不完全な関数である（そのまま実行してもエラーが出る）．\n",
    "\n",
    "```python\n",
    "def simple_function():\n",
    "    print(3 * x + 1)\n",
    "```\n",
    "\n",
    "引数として `x` を設定し，`x` に渡された数値を用いて $3x + 1$ の計算結果を出力するように修正せよ．\n",
    "\n",
    "また，実際に `x` に何かしらの値を設定して関数を呼び出し，計算結果が正しく表示されることを確認せよ（例えば `x` に `10` を設定すると `31` が表示されるはず）．"
   ]
  },
  {
   "cell_type": "code",
   "execution_count": 2,
   "metadata": {},
   "outputs": [
    {
     "name": "stdout",
     "output_type": "stream",
     "text": [
      "31\n"
     ]
    }
   ],
   "source": [
    "# 解答例\n",
    "def simple_function(x):\n",
    "    print(3 * x + 1)\n",
    "\n",
    "simple_function(10)"
   ]
  },
  {
   "cell_type": "markdown",
   "metadata": {},
   "source": [
    "### 演習1-2\n",
    "\n",
    "先ほどの関数 `simple_function` を修正し， $3x + 1$ の計算結果を戻り値として返すように変更せよ．\n",
    "\n",
    "また，実際に `x` に何かしらの値を設定して関数を実行し，返ってきた戻り値を変数 `result` に格納せよ．\n",
    "この `result` の値を `print` 文で表示し，正しく計算できていることを確認せよ．"
   ]
  },
  {
   "cell_type": "code",
   "execution_count": 3,
   "metadata": {},
   "outputs": [
    {
     "name": "stdout",
     "output_type": "stream",
     "text": [
      "31\n"
     ]
    }
   ],
   "source": [
    "# 解答例\n",
    "def simple_function(x):\n",
    "    return 3 * x + 1\n",
    "\n",
    "result = simple_function(10)\n",
    "print(result)"
   ]
  },
  {
   "cell_type": "markdown",
   "metadata": {},
   "source": [
    "### 演習1-3\n",
    "\n",
    "演習1-2の関数 `simple_function` をさらに修正し，2つの引数 `x`, `y` に対して $3x^2 + 2y + 1$ を計算するように変更せよ．\n",
    "\n",
    "また，実際に `x`, `y` に何かしらの値を設定して関数を実行し，返ってきた戻り値を変数 `result` に格納せよ．\n",
    "この `result` の値を `print` 文で表示し，正しく計算できていることを確認せよ．"
   ]
  },
  {
   "cell_type": "code",
   "execution_count": 5,
   "metadata": {},
   "outputs": [
    {
     "name": "stdout",
     "output_type": "stream",
     "text": [
      "15\n"
     ]
    }
   ],
   "source": [
    "# 解答例\n",
    "def simple_function(x, y):\n",
    "    return 3 * x**2 + 2 * y + 1\n",
    "\n",
    "result = simple_function(2, 1)\n",
    "print(result)"
   ]
  },
  {
   "cell_type": "markdown",
   "metadata": {},
   "source": [
    "## 演習2：関数の実践\n",
    "\n",
    "以下の例題を参考に，課題2-1〜2-5の各課題の条件に合う関数を作成せよ．\n",
    "プログラムには，その関数を呼び出す命令文を含めること．\n",
    "関数に戻り値がある場合は，受け取った戻り値を出力すること（`return` 文を使って戻り値を設定するかどうかは課題ごとに判断せよ）．\n",
    "\n",
    "課題を解くためには，前の回で学んだ条件分岐やループ処理に関する知識が必要になるので，不安な人は復習しておこう．\n",
    "\n",
    "### 例題\n",
    "\n",
    "関数名：　　　`get_rectangle_area`<br>\n",
    "引数：　　　　`width`, `height`<br>\n",
    "処理の内容：　引数で渡された幅（`width`）と高さ（`height`）の値を持つ長方形の面積を返す．\n",
    "\n",
    "**解答例** "
   ]
  },
  {
   "cell_type": "code",
   "execution_count": 2,
   "metadata": {},
   "outputs": [
    {
     "name": "stdout",
     "output_type": "stream",
     "text": [
      "24\n"
     ]
    }
   ],
   "source": [
    "def get_rectangle_area(width, height):\n",
    "    return width * height\n",
    "\n",
    "result = get_rectangle_area(8, 3) # 関数を呼び出す命令文を書く\n",
    "print(result) # 戻り値がある場合は，受け取った戻り値を出力する"
   ]
  },
  {
   "cell_type": "markdown",
   "metadata": {},
   "source": [
    "### 演習2-1\n",
    "\n",
    "関数名：　　　`say_hello`<br>\n",
    "引数：　　　　`count`<br>\n",
    "処理の内容：　引数で渡された `count` の数だけ，`Hello` という文字列を出力する．<br>\n",
    "\n",
    "**出力例（`count = 3` を引数とした場合）：**\n",
    "\n",
    "```\n",
    "Hello\n",
    "Hello\n",
    "Hello\n",
    "```"
   ]
  },
  {
   "cell_type": "code",
   "execution_count": 6,
   "metadata": {},
   "outputs": [
    {
     "name": "stdout",
     "output_type": "stream",
     "text": [
      "Hello\n",
      "Hello\n",
      "Hello\n"
     ]
    }
   ],
   "source": [
    "# 解答例\n",
    "def say_hello(count):\n",
    "    for i in range(count):\n",
    "        print('Hello')\n",
    "\n",
    "say_hello(3)"
   ]
  },
  {
   "cell_type": "markdown",
   "metadata": {},
   "source": [
    "### 演習2-2\n",
    "\n",
    "関数名：　　　`get_triangle_area`<br>\n",
    "引数：　　　　`base`, `height`<br>\n",
    "処理の内容：　底辺の長さが `base`，高さが `height` で表される三角形の面積を返す"
   ]
  },
  {
   "cell_type": "code",
   "execution_count": 7,
   "metadata": {},
   "outputs": [
    {
     "name": "stdout",
     "output_type": "stream",
     "text": [
      "5.0\n"
     ]
    }
   ],
   "source": [
    "# 解答例\n",
    "def get_triangle_area(base, height):\n",
    "    return base * height / 2\n",
    "\n",
    "result = get_triangle_area(5, 2)\n",
    "print(result)"
   ]
  },
  {
   "cell_type": "markdown",
   "metadata": {},
   "source": [
    "### 演習2-3\n",
    "\n",
    "関数名：　　　`get_bigger_number`<br>\n",
    "引数：　　　　`a`, `b`<br>\n",
    "処理の内容：　引数で渡された2つの数字（`a`, `b`）のうち，大きな方の値を返す（値が等しい場合はどちらを返してもよい）．"
   ]
  },
  {
   "cell_type": "code",
   "execution_count": 12,
   "metadata": {},
   "outputs": [
    {
     "name": "stdout",
     "output_type": "stream",
     "text": [
      "10\n"
     ]
    }
   ],
   "source": [
    "# 解答例\n",
    "def get_bigger_number(a, b):\n",
    "    if a > b:\n",
    "        return a\n",
    "    else:\n",
    "        return b\n",
    "\n",
    "result = get_bigger_number(10, 3)\n",
    "print(result)"
   ]
  },
  {
   "cell_type": "markdown",
   "metadata": {},
   "source": [
    "### 演習2-4\n",
    "\n",
    "関数名：　　　`get_absolute_value`<br>\n",
    "引数：　　　　`value`<br>\n",
    "処理の内容：　引数で渡された `value` の値の絶対値を返す．<br>\n",
    "※ `5.2` の絶対値は `5.2`，`-3.3` の絶対値は `3.3`．<br>\n",
    "※ 組み込み関数の `abs` は使わないこと．"
   ]
  },
  {
   "cell_type": "code",
   "execution_count": 13,
   "metadata": {},
   "outputs": [
    {
     "name": "stdout",
     "output_type": "stream",
     "text": [
      "3.3\n"
     ]
    }
   ],
   "source": [
    "# 解答例\n",
    "def get_absolute_value(value):\n",
    "    if value < 0:\n",
    "        return -1 * value\n",
    "    else:\n",
    "        return value\n",
    "\n",
    "result = get_absolute_value(-3.3)\n",
    "print(result)"
   ]
  },
  {
   "cell_type": "markdown",
   "metadata": {},
   "source": [
    "### 演習2-5\n",
    "\n",
    "関数名：　　　`print_each_character`<br>\n",
    "引数：　　　　`string`<br>\n",
    "処理の内容：　引数で渡された文字列 `string` に含まれる文字を1文字ずつ表示する\n",
    "\n",
    "**実行・出力例**\n",
    "\n",
    "```python\n",
    "print_each_character('Hello')\n",
    "```\n",
    "\n",
    "```:python\n",
    "H\n",
    "e\n",
    "l\n",
    "l\n",
    "o\n",
    "```"
   ]
  },
  {
   "cell_type": "code",
   "execution_count": 14,
   "metadata": {},
   "outputs": [
    {
     "name": "stdout",
     "output_type": "stream",
     "text": [
      "H\n",
      "e\n",
      "l\n",
      "l\n",
      "o\n"
     ]
    }
   ],
   "source": [
    "# 解答例\n",
    "def print_each_character(string):\n",
    "    for c in string:\n",
    "        print(c)\n",
    "\n",
    "print_each_character('Hello')"
   ]
  },
  {
   "cell_type": "markdown",
   "metadata": {},
   "source": [
    "## 演習3：発展課題\n",
    "\n",
    "これ以降は発展的な演習課題となります． 解くことは必須ではありませんが，関数を応用する良い練習になるので，ぜひチャレンジしてみてください．\n",
    "\n",
    "\n",
    "演習2と同様に，以下の条件に合う関数を作成せよ．\n",
    "課題を解く上での要件は演習2を参照．\n",
    "\n",
    "\n",
    "### 演習3-1\n",
    "\n",
    "関数名：　　　`get_even`<br>\n",
    "引数：　　　　`numbers`（整数が格納されたリスト）<br>\n",
    "処理の内容：　引数で渡された整数のリスト（`numbers`）の中に，偶数が何個含まれているかカウントし，そのカウント数を返す．<br>\n",
    "※ 例：`get_even([1, 2, 4])` とすると，値 `2` を返すようにする．"
   ]
  },
  {
   "cell_type": "code",
   "execution_count": 15,
   "metadata": {},
   "outputs": [
    {
     "name": "stdout",
     "output_type": "stream",
     "text": [
      "5\n"
     ]
    }
   ],
   "source": [
    "# 解答例\n",
    "def get_even(numbers):\n",
    "    n_even = 0\n",
    "    for num in numbers:\n",
    "        if num % 2 == 0:\n",
    "            n_even = n_even + 1\n",
    "    \n",
    "    return n_even\n",
    "\n",
    "result = get_even([1, 2, 3, 4, 5, 6, 7, 8, 9, 10])\n",
    "print(result)"
   ]
  },
  {
   "cell_type": "markdown",
   "metadata": {},
   "source": [
    "### 演習3-2\n",
    "\n",
    "関数名：　　　`get_even_and_odd`<br>\n",
    "引数：　　　　`numbers`（整数が格納されたリスト）<br>\n",
    "処理の内容：　引数で渡された整数のリスト（`numbers`）の中に，偶数が何個含まれているか，および奇数が何個含まれているかをカウントし，それぞれのカウント数を返す．<br>\n",
    "※ 例：`get_even_and_odd([1, 2, 4])` とすると，タプル `2, 1` を返すようにする．"
   ]
  },
  {
   "cell_type": "code",
   "execution_count": 17,
   "metadata": {},
   "outputs": [
    {
     "name": "stdout",
     "output_type": "stream",
     "text": [
      "偶数の数: 5,  奇数の数: 5\n"
     ]
    }
   ],
   "source": [
    "# 解答例\n",
    "def get_even_and_odd(numbers):\n",
    "    n_even = 0\n",
    "    n_odd = 0\n",
    "    for num in numbers:\n",
    "        if num % 2 == 0:\n",
    "            n_even = n_even + 1\n",
    "        else:\n",
    "            n_odd = n_odd + 1\n",
    "    \n",
    "    return n_even, n_odd\n",
    "\n",
    "result1, result2 = get_even_and_odd([1, 2, 3, 4, 5, 6, 7, 8, 9, 10])\n",
    "print(f'偶数の数: {result1},  奇数の数: {result2}')"
   ]
  },
  {
   "cell_type": "markdown",
   "metadata": {},
   "source": [
    "### 演習3-3\n",
    "\n",
    "関数名：　　　`countdown`<br>\n",
    "引数：　　　　`start`, `end=0`<br>\n",
    "処理の内容：　`start` に指定した整数から1つずつカウントダウンを行い，`end` に到達するまでカウントダウンの結果を表示するプログラムを作成せよ．例えば，`start=5`, `end=0` と指定した場合，`5`, `4`, `3`, `2`, `1`, `0` を表示せよ．なお，`end` はデフォルト引数として定義し，呼び出し時に値が指定されない場合は `0` が設定されるようにせよ．\n",
    "\n",
    "**実行・出力例1**\n",
    "\n",
    "```python\n",
    "countdown(10, 2)\n",
    "```\n",
    "\n",
    "```:python\n",
    "10\n",
    "9\n",
    "8\n",
    "7\n",
    "6\n",
    "5\n",
    "4\n",
    "3\n",
    "2\n",
    "```\n",
    "\n",
    "**実行・出力例2**（`end` に値を指定しない場合，`end=0` として扱われる）\n",
    "\n",
    "```python\n",
    "countdown(4)\n",
    "```\n",
    "\n",
    "```:python\n",
    "4\n",
    "3\n",
    "2\n",
    "1\n",
    "0\n",
    "```"
   ]
  },
  {
   "cell_type": "code",
   "execution_count": 2,
   "metadata": {},
   "outputs": [
    {
     "name": "stdout",
     "output_type": "stream",
     "text": [
      "7\n",
      "6\n",
      "5\n",
      "4\n",
      "3\n"
     ]
    }
   ],
   "source": [
    "# 解答例\n",
    "def countdown(start, end=0):\n",
    "    counter = start\n",
    "    while counter >= end:\n",
    "        print(counter)\n",
    "        counter -= 1\n",
    "\n",
    "countdown(7, 3)"
   ]
  },
  {
   "cell_type": "markdown",
   "metadata": {},
   "source": [
    "### 演習3-4\n",
    "\n",
    "関数名：　　　`get_max`<br>\n",
    "引数：　　　　`*values`<br>\n",
    "処理の内容：　可変長引数で渡された複数の引数の中で，最も大きな値を返す．<br>\n",
    "※ 例：`get_max(1,9,5,3)` とすると，値 `9` が返されるようにする．"
   ]
  },
  {
   "cell_type": "code",
   "execution_count": 15,
   "metadata": {},
   "outputs": [
    {
     "data": {
      "text/plain": [
       "10"
      ]
     },
     "execution_count": 15,
     "metadata": {},
     "output_type": "execute_result"
    }
   ],
   "source": [
    "# 解答例\n",
    "def get_max(*values):\n",
    "    max = 0\n",
    "    for v in values:\n",
    "        if max < v:\n",
    "            max = v\n",
    "\n",
    "    return max\n",
    "\n",
    "get_max(1, 9, 5, 3, 2, 10, 7)"
   ]
  },
  {
   "cell_type": "markdown",
   "metadata": {},
   "source": [
    "### 演習3-5\n",
    "\n",
    "関数名：　　　`apply_function`<br>\n",
    "引数：　　　　`numbers`（数値が格納されたリスト）, `func`（関数）<br>\n",
    "処理の内容：　第1引数として与えられたリストの各要素に対して，第2引数として与えられた関数を適用し，結果を返す．<br>\n",
    "※第2引数に指定する関数としては，以下の `inversion` 関数を使用せよ．\n",
    "\n",
    "```python\n",
    "# 受け取った数値の符号を反転させる\n",
    "def inversion(value):\n",
    "    return -1 * value\n",
    "```\n",
    "\n",
    "**実行・出力例**\n",
    "```python\n",
    "numbers = [-2, -1, 0, 5, 8]\n",
    "\n",
    "result = apply_function(numbers, inversion)\n",
    "print(result)\n",
    "```\n",
    "\n",
    "```:python\n",
    "[2, 1, 0, -5, -8]\n",
    "```"
   ]
  },
  {
   "cell_type": "code",
   "execution_count": 18,
   "metadata": {},
   "outputs": [
    {
     "name": "stdout",
     "output_type": "stream",
     "text": [
      "[2, 1, 0, -5, -8]\n"
     ]
    }
   ],
   "source": [
    "# 解答例\n",
    "def inversion(value):\n",
    "    return -1 * value\n",
    "\n",
    "def apply_function(numbers, func):\n",
    "    applied_list = []\n",
    "    for num in numbers:\n",
    "        applied_list.append(func(num))\n",
    "    return applied_list\n",
    "\n",
    "numbers = [-2, -1, 0, 5, 8]\n",
    "result = apply_function(numbers, inversion)\n",
    "print(result)"
   ]
  },
  {
   "cell_type": "markdown",
   "metadata": {},
   "source": [
    "### 演習3-6\n",
    "\n",
    "先ほどの演習3-5の課題について， `inversion` 関数を定義せずに，ラムダ式を用いて同様の処理を実現せよ．"
   ]
  },
  {
   "cell_type": "code",
   "execution_count": 20,
   "metadata": {},
   "outputs": [
    {
     "name": "stdout",
     "output_type": "stream",
     "text": [
      "[2, 1, 0, -5, -8]\n"
     ]
    }
   ],
   "source": [
    "# 解答例\n",
    "def apply_function(numbers, func):\n",
    "    applied_list = []\n",
    "    for num in numbers:\n",
    "        applied_list.append(func(num))\n",
    "    return applied_list\n",
    "\n",
    "numbers = [-2, -1, 0, 5, 8]\n",
    "result = apply_function(numbers, lambda value: -1 * value)\n",
    "print(result)"
   ]
  }
 ],
 "metadata": {
  "kernelspec": {
   "display_name": "Python 3 (ipykernel)",
   "language": "python",
   "name": "python3"
  },
  "language_info": {
   "codemirror_mode": {
    "name": "ipython",
    "version": 3
   },
   "file_extension": ".py",
   "mimetype": "text/x-python",
   "name": "python",
   "nbconvert_exporter": "python",
   "pygments_lexer": "ipython3",
   "version": "3.9.7"
  },
  "vscode": {
   "interpreter": {
    "hash": "13b92c06b6e5ed457c2ffbe8aafd0597ab041ad1a918995ab3a6bf23080bab16"
   }
  }
 },
 "nbformat": 4,
 "nbformat_minor": 2
}
