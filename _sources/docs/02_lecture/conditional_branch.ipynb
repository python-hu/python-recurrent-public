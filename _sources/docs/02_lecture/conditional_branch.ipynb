{
 "cells": [
  {
   "cell_type": "markdown",
   "metadata": {},
   "source": [
    "# 条件分岐（講義）\n",
    "\n",
    "担当：古居彬"
   ]
  },
  {
   "cell_type": "markdown",
   "metadata": {},
   "source": [
    "## 内容\n",
    "\n",
    "条件分岐では，与えられた条件式に応じて処理を切り替える仕組みについて学ぶ．\n",
    "条件分岐を用いることで，例えばユーザの入力した内容に応じて処理を変えたり，プログラム内で計算した値に応じて細かい処理を切り替えることが可能になる．\n",
    "具体的には，以下の内容を身につけることを目指す．\n",
    "\n",
    "- 条件式と，それによって得られる真偽値を理解する\n",
    "- 条件式を用いて，数値や文字列の比較を行う方法を理解する\n",
    "- Pythonのインデント構文を理解する\n",
    "- 条件分岐を行うための `if` 文，`if...else` 文，`if...elif...else` 文について学ぶ\n",
    "- より複雑な条件分岐について学ぶ"
   ]
  },
  {
   "cell_type": "markdown",
   "metadata": {},
   "source": [
    "## 条件分岐とは？\n",
    "\n",
    "日常生活において，何かしらの「条件」に基づき，もし〇〇ならXXする，そうでなければ△△するというような場面は多くあるだろう．\n",
    "\n",
    "![](figs/if-image.png)\n",
    "\n",
    "> **💡 身の回りの条件分岐の例**\n",
    "> \n",
    "> - もし明日晴れていたら畑を耕す，そうでなければ家で読書する\n",
    "> - もしアイスが100円以下なら買う，そうでなければ買わない\n",
    "\n",
    "このように条件に応じて処理内容を変える処理をコンピュータに指示するために，**条件分岐** という仕組みがサポートされている．\n",
    "\n",
    "通常，プログラムは上から順番に実行されるが，条件分岐を行うと途中で処理を分岐できるようになり，より柔軟なプログラムを作成することができる．\n",
    "このような条件分岐処理を行うためには，まず「もし〇〇なら〜」という条件の部分をプログラミング的に表現する必要がある．"
   ]
  },
  {
   "cell_type": "markdown",
   "metadata": {},
   "source": [
    "## 真偽値と条件式\n",
    "\n",
    "**真偽値（bool）** とは，**真**（`True`）であるか **偽**（`False`）であるかの二値を取る型のことであり，**条件** が満たされているか？満たされてないか？を表す変数の型として用いられる（**論理値** とも呼ばれる）．\n",
    "この真偽値は，条件を分岐する上で非常に重要な概念となる．\n",
    "\n",
    "皆さんが中学・高校で勉強した値の比較から真偽値について確認しよう．\n",
    "例えば，$2$ と $3$ の値を比較したとき，$2 < 3$ は明らかに真である．\n",
    "この不等式のような式を，プログラミングでは **条件式** と呼ぶ．\n",
    "この条件式の結果に応じて，真偽値が得られる．\n",
    "\n",
    "> **💡 条件式と真偽値の例**\n",
    "> \n",
    "> - $2 < 3$ のときは式は真なので `True` が得られる．\n",
    "> - $2 > 3$ や $2 = 3$ の式は偽なので `False` が得られる．\n",
    "\n",
    "このように，条件式とその結果（真偽値）によって条件分岐を制御する．"
   ]
  },
  {
   "cell_type": "markdown",
   "metadata": {},
   "source": [
    "### 代表的な比較演算子と条件式\n",
    "\n",
    "二つの変数に対する条件式を構成する演算子（`<` や `>` や `=`など）のことを **比較演算子** と呼ぶ．\n",
    "以下に，代表的な比較演算子を用いた条件式とその意味を示す．\n",
    "\n",
    "| 条件式 | 意味 | Trueの例 | Falseの例 |\n",
    "| --- | --- | --- | --- |\n",
    "| `x < y` | `x` は `y` より小さい | `2 < 3` | `3 < 2` |\n",
    "| `x <= y` | `x` は `y` 以下である | `4 <= 7`, `5 <= 5` | `7 <= 4` |\n",
    "| `x > y` | `x` は `y` より大きい | `3 > 2` | `2 > 3` |\n",
    "| `x >= y` | `x` は `y` 以上である | `7 >= 4`, `5 >= 5` | `4 >= 7` |\n",
    "| `x != y` | `x` と `y` は等しくない | `9 != 8` | `9 != 9` |\n",
    "| `x == y` | `x` と `y` は等しい | `10 == 10` | `10 == 4` |\n",
    "| `x in y` | `y` の中に `x` という要素が存在する | `3 in [1, 3, 5]` | `3 in [2, 4, 6]` |\n",
    "| `x not in y` | `y` の中に `x` という要素が存在しない | `3 not in [2, 4, 6]` | `3 not in [1, 3, 5]` |\n",
    "\n",
    "  \n",
    "> **💡 「等しい」の表し方**\n",
    "> \n",
    "> 「`x` と `y` は等しい」を通常の数式で表現すると $x = y$ だが，Pythonにおいて等号 `=` は「代入」の意味を持つので，条件式では使えない（詳しくは [前回](../01_lecture/variables_and_data_types.ipynb) を参照）．\n",
    "> 代わりに，等号を2つ続けた演算子 `==` を用いて `x == y` と書くことで，「`x` と `y` は等しい」という条件式を表現できる．\n",
    "> \n",
    "> この点は特に間違いやすいので，注意しよう．"
   ]
  },
  {
   "cell_type": "markdown",
   "metadata": {},
   "source": [
    "## 数値の比較"
   ]
  },
  {
   "cell_type": "markdown",
   "metadata": {},
   "source": [
    "いくつか条件式の練習をしてみよう．\n",
    "条件式が満たされているかどうか，またそれに応じて出力が `True` と `False` のどちらになるのか注意して実行してみて欲しい．"
   ]
  },
  {
   "cell_type": "code",
   "execution_count": null,
   "metadata": {},
   "outputs": [],
   "source": [
    "2 < 3"
   ]
  },
  {
   "cell_type": "code",
   "execution_count": null,
   "metadata": {},
   "outputs": [],
   "source": [
    "2 < 1"
   ]
  },
  {
   "cell_type": "code",
   "execution_count": null,
   "metadata": {},
   "outputs": [],
   "source": [
    "2 == 2"
   ]
  },
  {
   "cell_type": "code",
   "execution_count": null,
   "metadata": {},
   "outputs": [],
   "source": [
    "2 != 2"
   ]
  },
  {
   "cell_type": "markdown",
   "metadata": {},
   "source": [
    "### 真偽値を変数に代入する\n",
    "\n",
    "真偽値は他のデータ型と同様に変数に代入することができる．"
   ]
  },
  {
   "cell_type": "code",
   "execution_count": null,
   "metadata": {},
   "outputs": [],
   "source": [
    "is_student = True\n",
    "is_adult = False\n",
    "print(f'学生ですか？ {is_student}')\n",
    "print(f'大人ですか？ {is_adult}')"
   ]
  },
  {
   "cell_type": "code",
   "execution_count": null,
   "metadata": {},
   "outputs": [],
   "source": [
    "# 条件式の結果を変数に代入することも可能\n",
    "age = 20\n",
    "is_adult = age >= 18\n",
    "\n",
    "print(f'年齢: {age}歳')\n",
    "print(f'成人ですか？ {is_adult}')"
   ]
  },
  {
   "cell_type": "markdown",
   "metadata": {},
   "source": [
    "## 文字列の比較\n",
    "\n",
    "数値だけでなく，文字列同士の比較も可能である．"
   ]
  },
  {
   "cell_type": "code",
   "execution_count": null,
   "metadata": {},
   "outputs": [],
   "source": [
    "'Hello' == 'Hello'"
   ]
  },
  {
   "cell_type": "code",
   "execution_count": null,
   "metadata": {},
   "outputs": [],
   "source": [
    "'Hello' == 'Bonjour'"
   ]
  },
  {
   "cell_type": "code",
   "execution_count": null,
   "metadata": {},
   "outputs": [],
   "source": [
    "'Hello' > 'Bonjour'"
   ]
  },
  {
   "cell_type": "markdown",
   "metadata": {},
   "source": [
    "なお，文字列の大小関係（順番）は，文字コードで判定される．\n",
    "詳しい説明は省略するが，英字の場合，基本的にはアルファベットの順番がそのまま大小関係になるという認識で良い．\n",
    "\n",
    "例えば上記の`Hello`と`Bonjour`の場合だと，`Hello`の1文字目「H」と`Bonjour`の1文字目「B」がまず比較され，アルファベット順で「B < H」となるため（Bの方が順番が若い），`\"Hello\" > \"Bonjour\"` は `True` となる．\n",
    "なお，1文字目が同じなら2文字目，3文字目，…と順番に評価される．"
   ]
  },
  {
   "cell_type": "code",
   "execution_count": null,
   "metadata": {},
   "outputs": [],
   "source": [
    "'a' < 'b'"
   ]
  },
  {
   "cell_type": "code",
   "execution_count": null,
   "metadata": {},
   "outputs": [],
   "source": [
    "'aa' < 'ab'"
   ]
  },
  {
   "cell_type": "markdown",
   "metadata": {},
   "source": [
    "なお，大文字と小文字は別物として扱われ，大文字の方が小文字よりも順番が若い．"
   ]
  },
  {
   "cell_type": "code",
   "execution_count": null,
   "metadata": {},
   "outputs": [],
   "source": [
    "'A' == 'a'"
   ]
  },
  {
   "cell_type": "code",
   "execution_count": null,
   "metadata": {},
   "outputs": [],
   "source": [
    "'A' < 'a'"
   ]
  },
  {
   "cell_type": "markdown",
   "metadata": {},
   "source": [
    "## `in` 演算子\n",
    "\n",
    "`in` という演算子を使うことで，リストや文字列など複数の要素が格納されたデータ型に対して，「ある要素が含まれているか？」という条件式を定義できる．\n",
    "より数式的に説明すると，`in` という演算子を使うことで，右辺に左辺の値が含まれているかどうかを判定することが可能である．\n",
    "例として，`x in y` のように書くと，`x` が `y` に含まれていると `True`，含まれていないと `False` を返す条件式となる．\n",
    "\n",
    "### 基本的な使い方\n",
    "\n",
    "例えばリストの中に特定の値が含まれているかどうかを判定したい場合は，以下のように書けば良い．"
   ]
  },
  {
   "cell_type": "code",
   "execution_count": null,
   "metadata": {},
   "outputs": [],
   "source": [
    "1 in [0, 1, 2] # リスト[0, 1, 2]の中に 1 が存在するかどうかの判定"
   ]
  },
  {
   "cell_type": "code",
   "execution_count": null,
   "metadata": {},
   "outputs": [],
   "source": [
    "100 in [0, 1, 2]"
   ]
  },
  {
   "cell_type": "code",
   "execution_count": null,
   "metadata": {},
   "outputs": [],
   "source": [
    "'Hiroshima' in ['Yamaguchi', 'Hiroshima', 'Shimane', 'Tottori', 'Okayama']"
   ]
  },
  {
   "cell_type": "markdown",
   "metadata": {},
   "source": [
    "リストのほか，タプルや集合，`range` などのイテラブルオブジェクトに対する演算が可能である（`range`については「繰り返し処理」で説明する）．"
   ]
  },
  {
   "cell_type": "code",
   "execution_count": null,
   "metadata": {},
   "outputs": [],
   "source": [
    "1 in (0, 1, 2) # タプル"
   ]
  },
  {
   "cell_type": "code",
   "execution_count": null,
   "metadata": {},
   "outputs": [],
   "source": [
    "1 in {0, 1, 2} # 集合"
   ]
  },
  {
   "cell_type": "code",
   "execution_count": null,
   "metadata": {},
   "outputs": [],
   "source": [
    "1 in range(3)"
   ]
  },
  {
   "cell_type": "markdown",
   "metadata": {},
   "source": [
    "### 文字列に対する `in`\n",
    "\n",
    "文字列に対しては，ある部分文字列が含まれているか？といった判定が可能である．"
   ]
  },
  {
   "cell_type": "code",
   "execution_count": null,
   "metadata": {},
   "outputs": [],
   "source": [
    "'a' in 'abc' # 文字列 'abc' の中に文字 'a' が含まれるかどうかの判定"
   ]
  },
  {
   "cell_type": "code",
   "execution_count": null,
   "metadata": {},
   "outputs": [],
   "source": [
    "'x' in 'abc'"
   ]
  },
  {
   "cell_type": "code",
   "execution_count": null,
   "metadata": {},
   "outputs": [],
   "source": [
    "'ab' in 'abc' # 文字列 'abc' の中に文字列 'ab' が含まれるかどうかの判定"
   ]
  },
  {
   "cell_type": "markdown",
   "metadata": {},
   "source": [
    "### `not in` による否定\n",
    "\n",
    "`in` 演算子の否定には，`not in` を用いる．\n",
    "つまり，`x not in y` と書くと，`y` に `x` が含まれていない場合に `True` となる．"
   ]
  },
  {
   "cell_type": "code",
   "execution_count": null,
   "metadata": {},
   "outputs": [],
   "source": [
    "100 not in [1, 2, 3]"
   ]
  },
  {
   "cell_type": "markdown",
   "metadata": {},
   "source": [
    "> **📝 真偽値と条件式のまとめ**\n",
    "> \n",
    "> - 「条件を満たす」あるいは「条件を満たさない」の判断に用いる式を条件式と呼ぶ．\n",
    "> - 条件式の結果は真偽値で表現され，条件を満たす場合には `True`，満たさない場合には `False` となる．\n",
    "> - 条件式は，`<`，`>`，`<=`，`>=`，`==`，`!=` などの比較演算子を用いて記述する．\n",
    ">     - 数値だけでなく，文字列の比較も行える"
   ]
  },
  {
   "cell_type": "markdown",
   "metadata": {},
   "source": [
    "## インデント構文\n",
    "\n",
    "条件式を用いた分岐処理（条件分岐）について説明する前に，Pythonのインデント（行頭の空白，字下げ）について説明する．\n",
    "\n",
    "これまで書いてきたプログラムは，ほとんどが1行で書けるような短い「文」だったが，実際には複数行にわたる「文」で構成される．\n",
    "基本的には，記述した順番に上から一文ずつ実行されていくが，いくつかの文の「グループ」を作成することで，条件分岐のような特殊な処理ができるようになる．\n",
    "このようなグループのことを **ブロック** または **コードブロック** と呼ぶ．\n",
    "\n",
    "例えば，以下は `if` 文（後ほど詳しく述べます）を用いて条件分岐を行なっているプログラムである．\n",
    "具体的には，条件式 `condition == 'ok'` が成り立つ（つまり `True` となる）ときに `condition: ○` を表示するような処理になっている．\n",
    "\n",
    "```python\n",
    "if condition == 'ok':\n",
    "    print('condition: ○')\n",
    "```\n",
    "\n",
    "上記のプログラムをみたとき，`print` の前に空白（スペース）が含まれていることに気がついただろうか？\n",
    "このような空白は **インデント** と呼び，Pythonではこのインデントによってコードブロックを表現するという決まりがある．\n",
    "\n",
    "> **💡 【発展】他のプログラミング言語におけるコードブロックの作り方**\n",
    "> \n",
    "> コードブロックの表現方法は，プログラミング言語によって異なる．\n",
    "> 詳しくは省略するが，大きく分けると以下のような方法がある．\n",
    "> \n",
    "> - 括弧で囲む方法：C/C++，Java，Rなど\n",
    "> - キーワードで囲む方法：Visual Basic，Rubyなど\n",
    "> - インデントで区別する方法：Pythonなど\n",
    "> \n",
    "> 複数の言語を学んでいるとこのあたりを混同してしまうことがあるので，気をつけよう．\n",
    "\n",
    "Pythonでは，このインデントの深さによって，プログラム文は異なるブロックとして扱われる．\n",
    "具体的には，「キーワード + コロン (`:`)」でブロックが始まり，続くブロックはインデントで表現される．\n",
    "インデントの深さが戻るまで，プログラム文は同じブロックに属することになる．\n",
    "\n",
    "まとめると次のようなイメージである．\n",
    "\n",
    "![](figs/indent_1.png)\n",
    "\n",
    "1行目の `if condition == 'ok':` は， `if` 文の条件式 `condition == 'ok'` が `True` の場合，コードブロックの処理を実行することを意味している．\n",
    "末尾にコロン (`:`) があるので，その次の行からインデントが開始され，コードブロックが作られている．\n",
    "3行目でインデントが戻っているので，ここで `if` 文が作るブロックは終わりである．\n",
    "\n",
    "また，以下の図のように異なる深さのインデントが存在する場合，それぞれに対応するブロックが作られる．\n",
    "\n",
    "![](figs/indent_2.png)\n",
    "\n",
    "インデントの深さが戻るまで，プログラム文は同じブロックに属することに注意されたい．\n",
    "\n",
    "> **💡 補足**\n",
    "> \n",
    "> やや抽象的な説明だったので具体的なイメージが持ちにくいかもしれないが，ひとまずこれ以降のプログラム中にインデント（行頭の空白）が登場したら，何かしら特殊な意味を持っていると解釈しよう．\n",
    "> どういう意図でインデントが入っているのかを見抜くためには，インデントが最初に始まっている箇所の真上の一行（末尾に `:` があるはず）を見ればよい．\n",
    "> 例えば `if ...` から始まっていれば，条件分岐を行うためのインデントである．\n",
    "> インデント構文は条件分岐以外でも様々用いられるので，今後の講義の中で一つ一つ身につけていこう．\n",
    "\n",
    "### インデントの作成方法\n",
    "\n",
    "なお，Colaboratoryでは，コードセル中の行頭で「Tab」キーを入力すると自動的にインデントが挿入される．\n",
    "また，末尾にコロン（`:`）がある状態で「Enter」キーを押した場合でも同様にインデントの挿入が行われる．\n",
    "インデントを戻すときは「Shift + Tab」を押せばよい．\n",
    "\n",
    "Pythonではインデントとして半角スペース4つが広く利用されており，本教材でもその表記を採用している．\n",
    "ただしColaboratoryでは，インデントの幅は半角スペース2つ分となっているので，注意されたい．\n",
    "\n",
    "> **💡 Colaboratoryでインデント幅を半角スペース4つ分にしたい場合**\n",
    "> \n",
    "> Google Colaboratoryのメニューバーから「ツール -> 設定 -> エディタ」を選択し，「インデント幅」を「4」にすればよい．\n",
    "> \n",
    "> ![](figs/colab_tab_setting.png)\n",
    "\n",
    "> **📝 インデント構文のまとめ**\n",
    "> \n",
    "> - インデント構文は，プログラム中でコードブロックを定義するために用いられる．\n",
    ">     - 通常，インデントは半角スペース4個分で表現される．\n",
    "> - インデント構文が使われている箇所は，条件分岐や繰り返し処理など，何かしら特殊な役割を持っている箇所である．"
   ]
  },
  {
   "cell_type": "markdown",
   "metadata": {},
   "source": [
    "## `if` 文"
   ]
  },
  {
   "cell_type": "markdown",
   "metadata": {},
   "source": [
    "`if` 文を用いると，「もし〇〇ならA」のような条件式を満たす（`True`）か満たさない（`False`）に応じて処理を分岐することができる．\n",
    "これを，`if` 文による **条件分岐** と呼ぶ．\n",
    "\n",
    "![](figs/if.png)\n",
    "\n",
    "Pythonで `if` 文を書く際には，以下のように書く．\n",
    "\n",
    "```python\n",
    "if 条件式:\n",
    "    処理内容\n",
    "```\n",
    "\n",
    "> **❗ 重要なポイント**\n",
    "> \n",
    "> - `if`と条件式の間には半角スペースを空ける\n",
    "> - 条件式の後にはコロン「`:`」を付ける\n",
    "> - 処理内容の前にインデントを入れる\n",
    "\n",
    "`if` に続けて書いた条件式が `True` のとき（つまり条件を満たすとき），インデントされたブロック内の処理が実行される．\n",
    "一方，条件式が `False` のとき（つまり条件を満たさないとき）には処理は実行されない．\n",
    "\n",
    "以下のコードは `int` 型変数 `a`，`b` を定義し，「`a` と `b` が等しい」 とき文字列を出力するコードである．実行して確認してみよう．"
   ]
  },
  {
   "cell_type": "code",
   "execution_count": null,
   "metadata": {},
   "outputs": [],
   "source": [
    "a = 3\n",
    "b = 3\n",
    "if a == b:\n",
    "    print(f'{a}と{b}は等しいです．')"
   ]
  },
  {
   "cell_type": "markdown",
   "metadata": {},
   "source": [
    "なお，上記のプリント文では f-string表記を利用した．詳しくは [前回](../01_lecture/variables_and_data_types.ipynb) のprint文を参照されたい．\n",
    "以降，このf-string表記を利用してprint文を表記することが増えるので，注意しておこう．\n",
    "\n",
    "上記プログラムの `a` と `b` の値を色々変えてみて，出力がそれに応じて変化することを確認せよ．\n",
    "\n",
    "> **💡 Tip**\n",
    "> \n",
    "> `if 条件式:` の後にインデントを入れ忘れると，`IndentationError: expected an indented block` というエラーメッセージが表示される．\n",
    "> 慣れないうちはインデントを入れ忘れてこのようなエラーにたびたび遭遇するかもしれないが，焦らず対処しよう．\n",
    "> \n",
    "> 実際に以下のコードを実行して，エラーメッセージを確認してみよう．"
   ]
  },
  {
   "cell_type": "code",
   "execution_count": null,
   "metadata": {},
   "outputs": [],
   "source": [
    "a = 3\n",
    "b = 3\n",
    "if a == b:\n",
    "print(f'{a}と{b}は等しいです．') # if文の後にインデントを入れ忘れている"
   ]
  },
  {
   "cell_type": "markdown",
   "metadata": {},
   "source": [
    "## `if ... else`文\n",
    "\n",
    "「もし〇〇ならA，そうでなければB」のような処理を行いたい場合，`else` を用いる．\n",
    "\n",
    "![](figs/if_else.png)\n",
    "\n",
    "```python\n",
    "if 条件式:\n",
    "    処理内容1\n",
    "else:\n",
    "    処理内容2\n",
    "```\n",
    "\n",
    "条件式が `True` であれば `if` 直後のブロックが，`False` であれば `else` 直後のブロックがそれぞれ実行される．\n",
    "なお，`True` であった場合，`else` 直後のブロックは実行されない．\n",
    "\n",
    "以下のコードは `int` 変数で定義した `a`，`b` に関する `if ... else` 文の例である．\n",
    "セルを実行して確認してみよう．"
   ]
  },
  {
   "cell_type": "code",
   "execution_count": null,
   "metadata": {},
   "outputs": [],
   "source": [
    "a = 2\n",
    "b = 6\n",
    "\n",
    "if a == b:\n",
    "    print(f'{a}と{b}は等しいです．')\n",
    "else:\n",
    "    print(f'{a}と{b}は等しくありません．')"
   ]
  },
  {
   "cell_type": "markdown",
   "metadata": {},
   "source": [
    "`a` と `b` の値を色々変えてみて，出力がそれに応じて変化することを確認せよ．"
   ]
  },
  {
   "cell_type": "markdown",
   "metadata": {},
   "source": [
    "## `if ... elif ... else` 文\n",
    "\n",
    "「もし〇〇ならA，そうでない場合で△△ならばB」のような処理を行いたい場合，`elif`（else if）を用いる．\n",
    "\n",
    "![](figs/if_elif_else.png)\n",
    "\n",
    "```python\n",
    "if 条件式1:\n",
    "    処理内容1\n",
    "elif 条件式2:\n",
    "    処理内容2\n",
    "elif 条件式3:\n",
    "    処理内容3\n",
    "else:\n",
    "    処理内容4\n",
    "```\n",
    "\n",
    "それぞれの条件式は上から順番に評価され，条件式が `True` であった場合，直後のブロックのみが実行されて条件式の評価は終了する．\n",
    "すべての条件式が `False` であった場合，`else` 直後のブロックが実行される（なお `else` が不要な場合は省略しても良い）．\n",
    "また，`elif` は必要に応じて何個でも用いることができる．\n",
    "\n",
    "ポイントとしては，複数の処理内容のうち，最初に条件を満たした一つのブロックのみが実行されるということである．\n",
    "\n",
    "以下，`if ... elif ... else` 文の例を示す．セルを実行して確認してみよう．"
   ]
  },
  {
   "cell_type": "code",
   "execution_count": null,
   "metadata": {},
   "outputs": [],
   "source": [
    "a = 5\n",
    "b = 8\n",
    "\n",
    "if a == b:\n",
    "    print(f'{a}と{b}は等しいです．')\n",
    "elif a > b:\n",
    "    print(f'{a}は{b}より大きいです．')\n",
    "else:\n",
    "    print(f'{a}は{b}より小さいです．')"
   ]
  },
  {
   "cell_type": "markdown",
   "metadata": {},
   "source": [
    "`a` と `b` の値を色々変えてみて，出力がそれに応じて変化することを確認せよ．"
   ]
  },
  {
   "cell_type": "markdown",
   "metadata": {},
   "source": [
    "## 複数の条件の組み合わせ\n",
    "\n"
   ]
  },
  {
   "cell_type": "markdown",
   "metadata": {},
   "source": [
    "### `if` 文の入れ子構造\n",
    "\n",
    "実現したい条件分岐が複雑な場合，`if` 文の中にさらに `if` 文を記述して，**入れ子** 構造の条件分岐を作ることができる．\n",
    "このような場合，インデントは以下のようにさらに深くなる．\n",
    "\n",
    "```python\n",
    "if 条件式1:\n",
    "    処理1\n",
    "    if 条件式2:\n",
    "        処理2\n",
    "        if 条件式3:\n",
    "            処理3\n",
    "```\n",
    "\n",
    "このような入れ子構造の `if` 文では，深いインデントにおける `if` 文は，上位の条件式が満たされた場合のみ実行されることに注意する．\n",
    "例えば，4行目の `処理2` のブロックは，`条件式1` と `条件式2` の両方が `True` の時に実行される．\n",
    "同様に，6行目の `処理3`　のブロックは， `条件式1`, `条件式2`, `条件式3` の全てが `True` の時のみ実行される．\n",
    "\n",
    "このように複数の条件が同時に成り立つ場合に処理を実行したい場合は，入れ子構造を使わずに，次に示す `and` や `or` といった **論理演算子** を使うこともできる．\n",
    "\n",
    "例えば，上記の `処理2` は以下のように書き換えることができる：\n",
    "\n",
    "```python\n",
    "if 条件式1 and 条件式2:\n",
    "    処理2\n",
    "```\n",
    "\n",
    "以下に，論理演算子の一覧を示す．\n",
    "\n",
    "| 演算子 | 役割 | `True` となる条件 | 例 |\n",
    "| --- | --- | --- | --- |\n",
    "| `A and B` | 論理積 | 条件式 `A` と条件式 `B` の両方が成り立つとき | `a > 0 and b < 0` |\n",
    "| `A or B` | 論理和 | 条件式 `A` と条件式 `B` のどちらか一方が成り立つとき | `a > 0 or b < 0` |\n",
    "| `not A` | 否定 | 条件式 `A` が成り立たないとき | `not a < 0` |\n",
    "\n",
    "なお，`not` は複数条件の組み合わせではなく，「ある条件が満たされない」という条件式を記述するときに利用される．"
   ]
  },
  {
   "cell_type": "markdown",
   "metadata": {},
   "source": [
    "### 条件式Aかつ条件式Bが成り立つなら\n",
    "\n",
    "複数の条件が両方成り立った場合のみ処理を実行したい場合，`and` を用いて各条件式を結合して書くことができる．\n",
    "\n",
    "```python\n",
    "if 条件式A and 条件式B:\n",
    "    処理\n",
    "```\n",
    "\n",
    "上記の例だと，`条件式A` と `条件式B` の両方が `True` であった場合のみ処理が実行される．"
   ]
  },
  {
   "cell_type": "markdown",
   "metadata": {},
   "source": [
    "### 条件式Aまたは条件式Bが成り立つなら\n",
    "\n",
    "複数の条件のうち，いずれかが成り立った場合のみ処理を実行したい場合，`or` を用いて各条件式を結合して書くことができる．\n",
    "\n",
    "```python\n",
    "if 条件式A or 条件式B:\n",
    "    処理\n",
    "```\n",
    "\n",
    "上記の例だと，`条件式A` と `条件式B` のうち片方が `True` であれば処理が実行される．"
   ]
  },
  {
   "cell_type": "markdown",
   "metadata": {},
   "source": [
    "以下は，変数 `a` と `b` の値の両方またはいずれかがゼロかどうかを判定するコードである．\n",
    "\n",
    "`a` と `b` の値を変えながら，出力が変わることを確認せよ．"
   ]
  },
  {
   "cell_type": "code",
   "execution_count": null,
   "metadata": {},
   "outputs": [],
   "source": [
    "a = 0\n",
    "b = 0\n",
    "\n",
    "if a == 0 and b == 0:\n",
    "    print(f'変数 a={a} と b={b} は両方とも0です．')\n",
    "elif a == 0 or b == 0:\n",
    "    print(f'変数 a={a} と b={b} はどちらかが0です．')\n",
    "else:\n",
    "    print(f'変数 a={a} と b={b} は両方とも0ではありません．')"
   ]
  },
  {
   "cell_type": "markdown",
   "metadata": {},
   "source": [
    "なお可読性のため，論理演算子で繋がれた各条件式を，以下のように括弧で囲って表記することもある．\n",
    "\n",
    "```python\n",
    "if (a == 0) and (b == 0):\n",
    "    処理内容\n",
    "```"
   ]
  },
  {
   "cell_type": "markdown",
   "metadata": {},
   "source": [
    "> **📝 if文などを用いた条件分岐のまとめ**\n",
    "> \n",
    "> - `if` 文，`if ... else` 文，`if ... elif ... else` 文を用いると，条件式に応じて処理を切り替えられる．\n",
    ">     - 「もし〇〇ならばA」： `if` 文\n",
    ">     - 「もし〇〇ならばA，そうでなければB」： `if ... else` 文\n",
    ">     - 「もし〇〇ならばA，そうでない場合で△△ならばB，そうでなければC」： `if ... elif ... else` 文\n",
    "> - `if` 文を入れ子にすることで，複雑な条件分岐を作ることができる．\n",
    "> - 論理演算子を用いることで，複数の条件を組み合わせることができる．\n",
    ">     - どちらも成り立つとき：論理積（`and`）\n",
    ">     - いずれかが成り立つとき：論理和（`or`）"
   ]
  },
  {
   "cell_type": "markdown",
   "metadata": {},
   "source": [
    "## 条件分岐の応用例\n",
    "\n",
    "実際のプログラミングでは，条件分岐を使って様々な判定や処理を行う．以下にいくつかの実用的な例を示す．\n",
    "\n",
    "### 年齢による判定"
   ]
  },
  {
   "cell_type": "code",
   "execution_count": null,
   "metadata": {},
   "outputs": [],
   "source": [
    "age = 17\n",
    "\n",
    "if age >= 20:\n",
    "    print('成人です')\n",
    "elif age >= 18:\n",
    "    print('高校卒業年齢です')\n",
    "elif age >= 13:\n",
    "    print('中高生です')\n",
    "else:\n",
    "    print('小学生以下です')"
   ]
  },
  {
   "cell_type": "markdown",
   "metadata": {},
   "source": [
    "### 成績判定"
   ]
  },
  {
   "cell_type": "code",
   "execution_count": null,
   "metadata": {},
   "outputs": [],
   "source": [
    "score = 85\n",
    "\n",
    "if score >= 90:\n",
    "    grade = 'A'\n",
    "elif score >= 80:\n",
    "    grade = 'B'\n",
    "elif score >= 70:\n",
    "    grade = 'C'\n",
    "elif score >= 60:\n",
    "    grade = 'D'\n",
    "else:\n",
    "    grade = 'F'\n",
    "\n",
    "print(f'点数: {score}点, 成績: {grade}')"
   ]
  },
  {
   "cell_type": "markdown",
   "metadata": {},
   "source": [
    "## 【発展】3項演算子"
   ]
  },
  {
   "cell_type": "markdown",
   "metadata": {},
   "source": [
    "Pythonでは，以下のように1行で `if ... else` 文を書くことができる．\n",
    "\n",
    "```python\n",
    "Trueの場合の処理 if 条件式 else Falseの場合の処理\n",
    "```\n",
    "\n",
    "以下に例を示す．"
   ]
  },
  {
   "cell_type": "code",
   "execution_count": null,
   "metadata": {},
   "outputs": [],
   "source": [
    "x = 0\n",
    "output = '0以上です．' if x >= 0 else '0より小さいです．'\n",
    "print(output)"
   ]
  },
  {
   "cell_type": "markdown",
   "metadata": {},
   "source": [
    "これを普通の `if ~ else` 文で書くと，以下のようになる．"
   ]
  },
  {
   "cell_type": "code",
   "execution_count": null,
   "metadata": {},
   "outputs": [],
   "source": [
    "x = 0\n",
    "if x >= 0:\n",
    "    output = '0以上です．'\n",
    "else:\n",
    "    output = '0より小さいです．'\n",
    "print(output)"
   ]
  }
 ],
 "metadata": {
  "kernelspec": {
   "display_name": "Python 3.9.7 ('zeropro-book')",
   "language": "python",
   "name": "python3"
  },
  "language_info": {
   "codemirror_mode": {
    "name": "ipython",
    "version": 3
   },
   "file_extension": ".py",
   "mimetype": "text/x-python",
   "name": "python",
   "nbconvert_exporter": "python",
   "pygments_lexer": "ipython3",
   "version": "3.9.13"
  },
  "orig_nbformat": 4,
  "vscode": {
   "interpreter": {
    "hash": "13b92c06b6e5ed457c2ffbe8aafd0597ab041ad1a918995ab3a6bf23080bab16"
   }
  }
 },
 "nbformat": 4,
 "nbformat_minor": 2
}
