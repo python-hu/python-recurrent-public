{
 "cells": [
  {
   "cell_type": "markdown",
   "id": "f4a09d36",
   "metadata": {},
   "source": [
    "# ローカル環境でのPythonの動作確認\n",
    "このJupyter Notebookは「はじめてのデータ分析」をローカル環境で実行したい場合の動作確認用です．\n",
    "\n",
    "以下の項目について講義までにご確認いただければ幸いです．\n",
    "\n",
    "1. Pythonの環境構築\n",
    "  - Pythonの環境構築方法に指定はございません．特にこだわりがなければAnacondaでの構築をお勧めします．\n",
    "2. Jupyter Notebookの起動\n",
    "  - 演習ファイルの保存先を `C:\\\\ユーザー\\\\\"自身のユーザーコード\"` で指定しておりますがJupyter Notebookを任意のフォルダ上で起動できれば問題ございません．\n",
    "3. この `check_environment.ipynb` を実行\n",
    "  - このJupyter Notebookに講義で使用するPythonとライブラリを `import` してバージョン出力するセルを用意いたしました．このセルがエラーなく動作すれば，本講義で利用するライブラリはどれも一般的なものであるのでOSが異なっていてもバージョンが異なっていても動作するかと思われます．\n",
    "\n",
    "\n",
    "資料は以下の環境下で作成・動作が確認されています．\n",
    "- macOS Ventura\n",
    "- Python==3.9.13\n",
    "- NumPy==1.21.5\n",
    "- Matplotlib==3.6.2\n",
    "- Pandas==1.5.2\n",
    "- Scikit-Learn==1.0.2"
   ]
  },
  {
   "cell_type": "code",
   "execution_count": null,
   "id": "9352fa1c",
   "metadata": {},
   "outputs": [],
   "source": [
    "import sys\n",
    "import numpy as np\n",
    "import matplotlib\n",
    "import pandas as pd\n",
    "import sklearn\n",
    "\n",
    "# Pythonのバージョンを出力\n",
    "print(f\"Python Version: {sys.version}\")\n",
    "\n",
    "# 各ライブラリのバージョンを出力\n",
    "print(f\"NumPy Version: {np.__version__}\")\n",
    "print(f\"Matplotlib Version: {matplotlib.__version__}\")\n",
    "print(f\"Pandas Version: {pd.__version__}\")\n",
    "print(f\"Scikit-Learn Version: {sklearn.__version__}\")"
   ]
  },
  {
   "cell_type": "code",
   "execution_count": null,
   "id": "6bcd691f",
   "metadata": {},
   "outputs": [],
   "source": []
  }
 ],
 "metadata": {
  "kernelspec": {
   "display_name": "Python 3 (ipykernel)",
   "language": "python",
   "name": "python3"
  },
  "language_info": {
   "codemirror_mode": {
    "name": "ipython",
    "version": 3
   },
   "file_extension": ".py",
   "mimetype": "text/x-python",
   "name": "python",
   "nbconvert_exporter": "python",
   "pygments_lexer": "ipython3",
   "version": "3.9.7"
  },
  "toc": {
   "base_numbering": 1,
   "nav_menu": {},
   "number_sections": true,
   "sideBar": true,
   "skip_h1_title": false,
   "title_cell": "Table of Contents",
   "title_sidebar": "Contents",
   "toc_cell": false,
   "toc_position": {},
   "toc_section_display": true,
   "toc_window_display": false
  }
 },
 "nbformat": 4,
 "nbformat_minor": 5
}
