{
 "cells": [
  {
   "cell_type": "markdown",
   "metadata": {},
   "source": [
    "# 機械学習入門（演習）\n",
    "---"
   ]
  },
  {
   "cell_type": "markdown",
   "metadata": {},
   "source": [
    "## 必要なライブラリのimportとデータのダウンロード\n",
    "以下のセルで演習に必要なライブラリの`import`とデータをダウンロードしています．初めに実行してください．"
   ]
  },
  {
   "cell_type": "code",
   "execution_count": null,
   "metadata": {},
   "outputs": [],
   "source": [
    "import numpy as np\n",
    "import matplotlib.pyplot as plt\n",
    "%matplotlib inline\n",
    "\n",
    "from matplotlib import rcParams\n",
    "rcParams['font.family'] = 'sans-serif'\n",
    "rcParams['font.sans-serif'] = ['Hiragino Sans', 'Yu Gothic', 'Meirio', 'Takao', 'IPAexGothic', 'IPAPGothic', 'VL PGothic', 'Noto Sans CJK JP']"
   ]
  },
  {
   "cell_type": "code",
   "execution_count": null,
   "metadata": {},
   "outputs": [],
   "source": [
    "!mkdir -p data\n",
    "\n",
    "!wget -P data https://raw.githubusercontent.com/ground-zero-programming/zero-pro-data/refs/heads/main/data/machine_learning/exercise/data_N.npy -O data/data_N.npy\n",
    "!wget -P data https://raw.githubusercontent.com/ground-zero-programming/zero-pro-data/refs/heads/main/data/machine_learning/exercise/target_N.npy -O data/target_N.npy\n",
    "\n",
    "!wget -P data https://raw.githubusercontent.com/ground-zero-programming/zero-pro-data/refs/heads/main/data/machine_learning/exercise/data_noise_scale.npy -O data/data_noise_scale.npy\n",
    "!wget -P data https://raw.githubusercontent.com/ground-zero-programming/zero-pro-data/refs/heads/main/data/machine_learning/exercise/target_noise_scale.npy -O data/target_noise_scale.npy\n",
    "\n",
    "!wget -P data https://raw.githubusercontent.com/ground-zero-programming/zero-pro-data/refs/heads/main/data/machine_learning/exercise/data_a.npy -O data/data_a.npy\n",
    "!wget -P data https://raw.githubusercontent.com/ground-zero-programming/zero-pro-data/refs/heads/main/data/machine_learning/exercise/target_a.npy -O data/target_a.npy\n",
    "\n",
    "!wget -P data https://raw.githubusercontent.com/ground-zero-programming/zero-pro-data/refs/heads/main/data/machine_learning/exercise/data_b.npy -O data/data_b.npy\n",
    "!wget -P data https://raw.githubusercontent.com/ground-zero-programming/zero-pro-data/refs/heads/main/data/machine_learning/exercise/target_b.npy -O data/target_b.npy"
   ]
  },
  {
   "cell_type": "markdown",
   "metadata": {},
   "source": [
    "## 演習1: 線形回帰\n",
    "### 演習1-1: データの読み込みと可視化\n",
    "以下に示すようにデータ数 `N`，ノイズの大きさ `noise_scale`，データを生成するときの関数の傾きと切片 `a`と`b`のパラメータを講義資料から変更したデータを用意した．\n",
    "1. データ数 `N` を変更したデータのパス\n",
    "    - X: 'data/data_N.npy'\n",
    "    - y: 'data/target_N.npy'\n",
    "2. ノイズの大きさ `noise_scale` を変更したデータのパス\n",
    "    - X: 'data/data_noise_scale.npy'\n",
    "    - y: 'data/target_noise_scale.npy'\n",
    "3. データを生成するときの関数の傾き `a` を変更したデータのパス\n",
    "    - X: 'data/data_a.npy'\n",
    "    - y: 'data/target_a.npy'\n",
    "4. データを生成するときの関数の切片 `b` を変更したデータのパス\n",
    "    - X: 'data/data_b.npy'\n",
    "    - y: 'data/target_b.npy'\n",
    "\n",
    "どれか一つで良いので `np.load`関数を使って読み込み，読み込んだデータを可視化せよ．"
   ]
  },
  {
   "cell_type": "code",
   "execution_count": null,
   "metadata": {},
   "outputs": [],
   "source": [
    "# 解答例：originalの読み込み\n",
    "X = np.load('data/data_original.npy')\n",
    "y = np.load('data/target_original.npy')\n",
    "\n",
    "plt.scatter(X, y, marker='x', label='観測されたデータ')\n",
    "plt.title('データの可視化')\n",
    "plt.xlabel('x') # x軸のラベルを追加\n",
    "plt.ylabel('y') # y軸のラベルを追加\n",
    "plt.legend()\n"
   ]
  },
  {
   "cell_type": "code",
   "execution_count": null,
   "metadata": {},
   "outputs": [],
   "source": [
    "# 解答例：データ数Nを変更したデータの読み込み\n",
    "X = np.load('data/data_N.npy')\n",
    "y = np.load('data/target_N.npy')\n",
    "\n",
    "plt.scatter(X, y, marker='x', label='観測されたデータ')\n",
    "plt.title('データの可視化')\n",
    "plt.xlabel('x') # x軸のラベルを追加\n",
    "plt.ylabel('y') # y軸のラベルを追加\n",
    "plt.legend()"
   ]
  },
  {
   "cell_type": "code",
   "execution_count": null,
   "metadata": {},
   "outputs": [],
   "source": [
    "# 解答例：ノイズの変動量noise_scaleを変更したデータの読み込み\n",
    "X = np.load('data/data_noise_scale.npy')\n",
    "y = np.load('data/target_noise_scale.npy')\n",
    "\n",
    "plt.scatter(X, y, marker='x', label='観測されたデータ')\n",
    "plt.title('データの可視化')\n",
    "plt.xlabel('x') # x軸のラベルを追加\n",
    "plt.ylabel('y') # y軸のラベルを追加\n",
    "plt.legend()"
   ]
  },
  {
   "cell_type": "code",
   "execution_count": null,
   "metadata": {},
   "outputs": [],
   "source": [
    "# 解答例：傾きaを変更したデータの読み込み\n",
    "X = np.load('data/data_a.npy')\n",
    "y = np.load('data/target_a.npy')\n",
    "\n",
    "plt.scatter(X, y, marker='x', label='観測されたデータ')\n",
    "plt.title('データの可視化')\n",
    "plt.xlabel('x') # x軸のラベルを追加\n",
    "plt.ylabel('y') # y軸のラベルを追加\n",
    "plt.legend()"
   ]
  },
  {
   "cell_type": "code",
   "execution_count": null,
   "metadata": {},
   "outputs": [],
   "source": [
    "# 解答例：切片bを変更したデータの読み込み\n",
    "X = np.load('data/data_b.npy')\n",
    "y = np.load('data/target_b.npy')\n",
    "\n",
    "plt.scatter(X, y, marker='x', label='観測されたデータ')\n",
    "plt.title('データの可視化')\n",
    "plt.xlabel('x') # x軸のラベルを追加\n",
    "plt.ylabel('y') # y軸のラベルを追加\n",
    "plt.legend()"
   ]
  },
  {
   "cell_type": "code",
   "execution_count": null,
   "metadata": {},
   "outputs": [],
   "source": [
    "# 参考：以下のコードは上記のデータを生成するときに利用した\n",
    "import os\n",
    "\n",
    "def make_data(N, a, b, noise_scale):\n",
    "    X = np.linspace(0, 1, N) # xの値\n",
    "    y_gt = a * X + b # y=ax+bの真の値\n",
    "    y = a * X + b + noise_scale * np.random.randn(N) # 一定のノイズがのった観測データ\n",
    "    return (X, y, y_gt)\n",
    "\n",
    "names = ['original', 'N', 'a', 'b', 'noise_scale']\n",
    "params = [[30, 2, 1, 0.1],\n",
    "          [10, 2, 1, 0.1],\n",
    "          [30, -2, 1, 0.1],\n",
    "          [30, 2, -1, 0.1],\n",
    "          [30, 2, 1, 1.0]]\n",
    "\n",
    "os.makedirs('data', exist_ok=True)\n",
    "for name, param in zip(names, params):\n",
    "    N, a, b, noise_scale = param\n",
    "    X, y, y_gt = make_data(N, a, b, noise_scale)\n",
    "    X = X[:,np.newaxis]\n",
    "    y = y[:,np.newaxis]\n",
    "    y_gt = y_gt[:,np.newaxis]\n",
    "    \n",
    "    np.save(f'data/data_{name}.npy', X)\n",
    "    np.save(f'data/target_{name}.npy', y)\n",
    "    np.save(f'data/gt_{name}.npy', y_gt)"
   ]
  },
  {
   "cell_type": "markdown",
   "metadata": {},
   "source": [
    "### 演習1-2: 線形回帰\n",
    "読み込んだデータを使って線形回帰を実行せよ．また得られた傾きと切片を元に結果を可視化せよ．"
   ]
  },
  {
   "cell_type": "code",
   "execution_count": null,
   "metadata": {},
   "outputs": [],
   "source": [
    "# 解答例:\n",
    "from sklearn.linear_model import LinearRegression\n",
    "\n",
    "reg = LinearRegression()\n",
    "reg = reg.fit(X, y)\n",
    "\n",
    "a = reg.coef_[0]\n",
    "b = reg.intercept_\n",
    "y_pred = a * X + b\n",
    "\n",
    "plt.scatter(X, y, marker='x', label='観測されたデータ')\n",
    "plt.plot(X, y_pred, c='g', label='線形回帰によって得られた関数')\n",
    "plt.title('LinearRegressionの結果')\n",
    "plt.xlabel('x') # x軸のラベルを追加\n",
    "plt.ylabel('y') # y軸のラベルを追加\n",
    "plt.legend()"
   ]
  },
  {
   "cell_type": "markdown",
   "metadata": {},
   "source": [
    "## 発展演習1: Numpyの操作"
   ]
  },
  {
   "cell_type": "markdown",
   "metadata": {},
   "source": [
    "### 発展演習1-1: ベクトルの定義\n",
    "`Numpy`を用いて以下に示すベクトル $\\mathbf{a},\\mathbf{b}$ を定義して`.shape`でベクトルの形状を以下の目標出力に従って出力せよ．\n",
    "\n",
    "$$\n",
    "\\mathbf{a}=\\begin{bmatrix}\n",
    "1 \\\\\n",
    "2 \\\\\n",
    "3 \\\\\n",
    "4\n",
    "\\end{bmatrix},\n",
    "\\mathbf{b}=\\begin{bmatrix}\n",
    "5 \\\\\n",
    "6 \\\\\n",
    "7 \\\\\n",
    "8\n",
    "\\end{bmatrix}\n",
    "$$\n",
    "\n",
    "**目標出力**\n",
    "\n",
    "```python\n",
    "a.shape: (4, 1), b.shape: (4, 1)\n",
    "```"
   ]
  },
  {
   "cell_type": "code",
   "execution_count": null,
   "metadata": {},
   "outputs": [],
   "source": [
    "# 解答例\n",
    "a = np.array([[1], [2], [3], [4]])\n",
    "b = np.array([[5], [6], [7], [8]])\n",
    "print(f'a.shape: {a.shape}, b.shape: {b.shape}')"
   ]
  },
  {
   "cell_type": "markdown",
   "metadata": {},
   "source": [
    "### 発展演習1-2: ベクトルの内積\n",
    "定義したベクトル $\\mathbf{a},\\mathbf{b}$ の内積 $\\mathbf{a}^\\top \\mathbf{b}$ を`Numpy`を用いて計算せよ．"
   ]
  },
  {
   "cell_type": "code",
   "execution_count": null,
   "metadata": {},
   "outputs": [],
   "source": [
    "# 解答例\n",
    "np.dot(a.T, b)"
   ]
  },
  {
   "cell_type": "markdown",
   "metadata": {},
   "source": [
    "### 発展演習1-3: Numpyを用いない実装\n",
    "演習1-1,1-2を`Numpy`を用いずリストと繰り返し文のみを使って実装せよ．"
   ]
  },
  {
   "cell_type": "code",
   "execution_count": null,
   "metadata": {},
   "outputs": [],
   "source": [
    "# 解答例\n",
    "a = [1, 2, 3, 4]\n",
    "b = [5, 6, 7, 8]\n",
    "result = 0\n",
    "for i in range(4):\n",
    "    result = result + a[i] * b[i]\n",
    "print(result)"
   ]
  },
  {
   "cell_type": "markdown",
   "metadata": {},
   "source": [
    "### 発展演習1-4: 行列の定義\n",
    "`Numpy`を用いて以下に示す行列 $\\mathbf{A},\\mathbf{B}$ を定義し，`.shape`で行列の形状を以下の目標出力に従って出力せよ．\n",
    "\n",
    "$$\n",
    "\\mathbf{A}=\\begin{bmatrix}\n",
    "1 & 2 & 3 \\\\\n",
    "4 & 5 & 6 \\\\\n",
    "\\end{bmatrix},\n",
    "\\mathbf{B}=\\begin{bmatrix}\n",
    "1 & 2 \\\\\n",
    "3 & 4 \\\\\n",
    "5 & 6 \\\\\n",
    "\\end{bmatrix}\n",
    "$$\n",
    "\n",
    "**目標出力**\n",
    "\n",
    "```python\n",
    "A.shape: (2, 3), B.shape: (3, 2)\n",
    "```"
   ]
  },
  {
   "cell_type": "code",
   "execution_count": null,
   "metadata": {},
   "outputs": [],
   "source": [
    "# 解答例\n",
    "A = np.array([[1, 2, 3],\n",
    "              [4, 5, 6]])\n",
    "B = np.array([[1, 2],[3, 4], [5, 6]])\n",
    "\n",
    "print(f'A.shape: {A.shape}, B.shape: {B.shape}')"
   ]
  },
  {
   "cell_type": "markdown",
   "metadata": {},
   "source": [
    "### 発展演習1-5: 行列の積\n",
    "定義した行列 $\\mathbf{A},\\mathbf{B}$ の積 $\\mathbf{A}\\mathbf{B}$ を`Numpy`を用いて計算せよ．"
   ]
  },
  {
   "cell_type": "code",
   "execution_count": null,
   "metadata": {},
   "outputs": [],
   "source": [
    "# 解答例\n",
    "np.dot(A,B)"
   ]
  },
  {
   "cell_type": "markdown",
   "metadata": {},
   "source": [
    "### 発展演習1-6: 固有値計算\n",
    "以下の行列 $\\mathbf{C}$ の固有値と固有ベクトルを計算せよ．ただし，Numpy, Sympy, Scipy,...など利用するライブラリや計算方法は自由で良い．講義中で固有値計算の話題に触れていないので各自利用するライブラリのリファレンス等を参考に取り組むこと．\n",
    "\n",
    "$$\n",
    "\\mathbf{C}=\\begin{bmatrix}\n",
    "3 & 0 \\\\\n",
    "1 & 2 \\\\\n",
    "\\end{bmatrix}\n",
    "$$"
   ]
  },
  {
   "cell_type": "code",
   "execution_count": null,
   "metadata": {},
   "outputs": [],
   "source": [
    "# 解答例\n",
    "C = np.array([[3, 0], [1, 2]])\n",
    "eigenvalues, eigenvectors = np.linalg.eig(C)\n",
    "print(f'eigenvalues={eigenvalues}')\n",
    "print(f'eigenvectors={eigenvectors}')"
   ]
  },
  {
   "cell_type": "markdown",
   "metadata": {},
   "source": [
    "## 発展演習2: 線形回帰\n",
    "講義で扱った線形回帰は $y=ax+b$ という線形のモデルを仮定してデータを当てはめる．利用する入出力のペア $(x,y)$ が $y=ax+b$ ではなく二次関数 $y=ax^2+bx+c$ から生成されるときどのような結果となるかPythonのプログラミングを通して検証せよ．ただし，パラメータ`N, noise_scale, a, b, c`は自由に設定して良い．"
   ]
  },
  {
   "cell_type": "code",
   "execution_count": null,
   "metadata": {},
   "outputs": [],
   "source": [
    "# 解答例\n",
    "from sklearn.linear_model import LinearRegression\n",
    "\n",
    "N = 50\n",
    "noise_scale = 1.0\n",
    "a = 2\n",
    "b = -1\n",
    "c = 1\n",
    "\n",
    "# データの生成用の関数\n",
    "def make_data(N, noise_scale, a, b, c):\n",
    "    x_data = np.linspace(-1, 3, N)\n",
    "    y_gt = a * (x_data ** 2) + b * x_data + c\n",
    "    y_data = a * (x_data ** 2) + b * x_data + c + noise_scale * np.random.randn(N)\n",
    "    return (x_data, y_data, y_gt)\n",
    "\n",
    "x_data, y_data, y_gt = make_data(N, noise_scale, a, b, c)\n",
    "\n",
    "# 線形回帰の実行\n",
    "X = x_data[:,np.newaxis]\n",
    "y = y_data[:,np.newaxis]\n",
    "\n",
    "reg = LinearRegression()\n",
    "reg = reg.fit(X, y)\n",
    "\n",
    "a = reg.coef_[0]\n",
    "b = reg.intercept_\n",
    "y_pred = a * x_data + b\n",
    "\n",
    "plt.scatter(x_data, y_data, marker='x', label='観測されたデータ')\n",
    "plt.plot(x_data, y_gt, c='r', linestyle='--', label='ノイズがない真の関係性')\n",
    "plt.plot(x_data, y_pred, c='g', label='線形回帰によって得られた関数')\n",
    "plt.title('LinearRegressionの結果')\n",
    "plt.xlabel('x') # x軸のラベルを追加\n",
    "plt.ylabel('y') # y軸のラベルを追加\n",
    "plt.legend()"
   ]
  }
 ],
 "metadata": {
  "kernelspec": {
   "display_name": "Python 3 (ipykernel)",
   "language": "python",
   "name": "python3"
  },
  "language_info": {
   "codemirror_mode": {
    "name": "ipython",
    "version": 3
   },
   "file_extension": ".py",
   "mimetype": "text/x-python",
   "name": "python",
   "nbconvert_exporter": "python",
   "pygments_lexer": "ipython3",
   "version": "3.9.13"
  },
  "vscode": {
   "interpreter": {
    "hash": "393df73654aeede13ebb91076020de1190a2bd60e987ac18d822283f0caa6730"
   }
  }
 },
 "nbformat": 4,
 "nbformat_minor": 2
}
