{
 "cells": [
  {
   "cell_type": "markdown",
   "metadata": {},
   "source": [
    "# データ分析入門（講義）\n",
    "\n",
    "担当：古居彬\n",
    "\n",
    "## 内容\n",
    "\n",
    "データ分析入門では，Pythonを用いた基礎的なデータ分析を体験する．\n",
    "本講義の初回で述べたように，Pythonはデータ分析や機械学習，Webサービスなど幅広い分野で利用されている．\n",
    "その大きな理由として，さまざまな処理を実現するための機能が豊富に準備されていることが挙げられる．\n",
    "このような機能を管理しているのが，**モジュール** と呼ばれる単位である．モジュールには，さまざまな関数が含まれている．\n",
    "データ解析や画像処理といった高度な処理も，それぞれの用途に特化したモジュールを組み合わせることで比較的簡単に実行することができる．\n",
    "また，モジュールを複数集めたものを **ライブラリ** や **パッケージ** と呼ぶ．\n",
    "今回は実践編として，いくつかのモジュールを用いてPythonによる簡単なデータ分析を行っていこう．\n",
    "\n",
    "- モジュール，ライブラリ，パッケージとその使い方を理解する\n",
    "- `Pandas` によるデータ操作を学ぶ\n",
    "- `Matplotlib` によるデータの可視化を学ぶ\n"
   ]
  },
  {
   "cell_type": "markdown",
   "metadata": {},
   "source": "前述の通り，標準ライブラリとはあらかじめ用意されているライブラリである．\n[前回](../04_lecture/functions_and_scope.ipynb) 紹介した組み込み関数も，この標準ライブラリの中に含まれている．\n\n組み込み関数は何もせずそのまま使うことができたが，特殊な機能を持つモジュールは後述する `import` 文で読み込む必要がある．\n\nPythonの標準ライブラリで提供されている関数・モジュールの一覧は以下の公式ページから参照することができる．\n\n[https://docs.python.org/ja/3/library/index.html](https://docs.python.org/ja/3/library/index.html)\n\n### Pythonの外部ライブラリ\n\n標準ライブラリだけでもかなり幅広い処理が実現できるが，データ分析や画像処理，統計解析や科学技術計算など，特定の分野に特化した機能を利用するためには，外部ライブラリを利用する必要がある．\n\n外部ライブラリは，その名の通り外部の団体や個人によって開発，提供されているライブラリである．\n外部ライブラリを利用するためには，まず初めにインストールが必要である．\nインストールされた外部ライブラリは，後述する `import` 文で読み込むことができる．\n\nなお，Google Colaboratoryでは既に主要な外部ライブラリがインストールされており，これらは最初から `import` 文で読み込みが可能である．\n\n> **💡 インストール済ライブラリの表示**\n> \n> Google Colaboratoryにインストールされているライブラリ一覧を表示したい場合は，コードセルにて以下のコマンドを実行すればよい．\n> \n> ```python\n> !pip list\n> ```\n> \n> 以下のように，大量のパッケージが表示されるはずだ．\n> \n> ```bash\n> Package                       Version\n> ----------------------------- ----------------------\n> absl-py                       1.3.0\n> aeppl                         0.0.33\n> aesara                        2.7.9\n> aiohttp                       3.8.3\n> aiosignal                     1.2.0\n> alabaster                     0.7.12\n> albumentations                1.2.1\n> altair                        4.2.0\n> appdirs                       1.4.4\n> arviz                         0.12.1\n> … (以下省略) …\n> ```\n\nなお，本講義で利用する外部ライブラリについても，上記インストール済リストに含まれるため，新たにインストールの手順を踏む必要はない．\n外部ライブラリを自分で追加インストールする方法を学びたい人は，以下の発展項目を参照されたい．\n\n\n> **💡 【発展】外部ライブラリをインストールする方法**\n> \n> Pythonで利用可能な外部ライブラリは，**Python Package Index（PyPl）** というソフトウェアリポジトリで管理されている．\n> ざっくり表現すると，外部ライブラリのカタログのようなものである．\n> \n> 以下のサイトより，インストール可能な外部ライブラリを検索することができる．\n> \n> [https://pypi.org](https://pypi.org)\n> \n> **pip** などのパッケージ管理システムを利用することで，PyPlに登録されているライブラリやパッケージをダウンロード＆インストールすることができる．\n> Google Colaboratoryにおける外部ライブラリも，このpipというシステムによって管理されている．\n> \n> Google Colaboratoryで新しい外部ライブラリをインストールしたい場合，コードセルにて次のコマンドを実行すれば良い．\n> \n> ```bash\n> !pip install ライブラリ名\n> ```"
  },
  {
   "cell_type": "markdown",
   "metadata": {},
   "source": [
    "### モジュール／ライブラリのインポート\n",
    "\n",
    "前述の通り，モジュールやライブラリに含まれる関数やクラスを使用するためには，対象となるモジュール／ライブラリを読み込む（ **インポート** する）必要がある．\n",
    "これには， `import` という文を使う．以下のように記述することでモジュールをインポートできる．\n",
    "\n",
    "```python\n",
    "import モジュール名\n",
    "```\n",
    "\n",
    "または\n",
    "\n",
    "```python\n",
    "import ライブラリ名\n",
    "```\n",
    "\n",
    "モジュール／ライブラリのインポートは，最初に1回記述すればよい．\n",
    "\n",
    "試しに，数学関係の便利な関数をまとめた `math` というモジュールをインポートしてみよう．"
   ]
  },
  {
   "cell_type": "code",
   "execution_count": null,
   "metadata": {},
   "outputs": [],
   "source": [
    "import math"
   ]
  },
  {
   "cell_type": "markdown",
   "metadata": {},
   "source": [
    "これで，`math` モジュールが使えるようになった．\n",
    "`math` モジュールに含まれる関数を使用するためには， `math.関数名` のように記述すればOKである．\n",
    "\n",
    "例えば，平方根を計算したいときは `math.sqrt()` のように記述する．"
   ]
  },
  {
   "cell_type": "code",
   "execution_count": null,
   "metadata": {},
   "outputs": [],
   "source": [
    "math.sqrt(2)"
   ]
  },
  {
   "cell_type": "markdown",
   "metadata": {},
   "source": [
    "ほかにも `math` モジュールには様々な関数が用意されている．\n",
    "以下に，いくつかの例を示す．\n",
    "\n",
    "| 関数  | 説明 |\n",
    "| ---- | ---- |\n",
    "| `sin(x)` | `x` のサイン（正弦）を返す |\n",
    "| `cos(x)` | `x` のコサイン（余弦）を返す |\n",
    "| `tan(x)` | `x` のタンジェント（正接）を返す |\n",
    "| `exp(x)` | 自然対数の底（ネイピア数）の `x` 乗を返す |\n",
    "| `log(x)` | `x` の自然対数を返す |\n",
    "| `sqrt(x)` | `x` の平方根を返す |\n",
    "\n",
    "\n",
    "\n",
    "そのうちいくつかを実行してみよう．"
   ]
  },
  {
   "cell_type": "code",
   "execution_count": null,
   "metadata": {},
   "outputs": [],
   "source": [
    "print(math.log(13)) # 自然対数\n",
    "print(math.sin(math.pi/4)) # 正弦（サイン）"
   ]
  },
  {
   "cell_type": "markdown",
   "metadata": {},
   "source": [
    "また，`math` モジュールには関数の他にも，数学で多用される **定数** も含まれている．\n",
    "以下に代表例を表示してみる．"
   ]
  },
  {
   "cell_type": "code",
   "execution_count": null,
   "metadata": {},
   "outputs": [],
   "source": [
    "print(math.pi) # 円周率\n",
    "print(math.e) # 自然対数の底（ネイピア数）"
   ]
  },
  {
   "cell_type": "markdown",
   "metadata": {},
   "source": [
    "### モジュールに別名をつける\n",
    "\n",
    "モジュールをインポートする際，別の名前（例えば短縮名）を付けることが可能である．\n",
    "\n",
    "```python\n",
    "import モジュール名 as 短縮名\n",
    "```\n",
    "\n",
    "例えば，以下のように書くことで，モジュール `math` に短縮名 `m` を付けてインポートすることができる．"
   ]
  },
  {
   "cell_type": "code",
   "execution_count": null,
   "metadata": {},
   "outputs": [],
   "source": [
    "import math as m"
   ]
  },
  {
   "cell_type": "markdown",
   "metadata": {},
   "source": [
    "このようにインポートすることで，`math` モジュールに含まれる関数を使用する際， `m.関数名` のように簡潔に書けるようになる．"
   ]
  },
  {
   "cell_type": "code",
   "execution_count": null,
   "metadata": {},
   "outputs": [],
   "source": [
    "m.sqrt(2)"
   ]
  },
  {
   "cell_type": "markdown",
   "metadata": {},
   "source": [
    "### 【発展】特定の関数だけを読み込む\n",
    "\n",
    "モジュールやライブラリを用いる際，特定の関数だけを読み込みたいことがある．\n",
    "そのような場合は，以下の表記を用いて指定した関数・クラスだけをインポートすることができる．\n",
    "\n",
    "```python\n",
    "from モジュール名 import 関数名\n",
    "```\n",
    "\n",
    "`from` でモジュール名を指定し，続く `import` に読み込みたい関数・クラスを指定する（複数の関数・クラスを指定したい場合は，カンマ区切りで並べて書く）．\n",
    "\n",
    "このようにしてインポートした場合，モジュール名を記述しなくとも，関数・クラスをそのまま呼び出すことができる．"
   ]
  },
  {
   "cell_type": "code",
   "execution_count": null,
   "metadata": {},
   "outputs": [],
   "source": [
    "from math import sqrt\n",
    "\n",
    "sqrt(3)"
   ]
  },
  {
   "cell_type": "markdown",
   "metadata": {},
   "source": "### 【発展】特定の関数だけを読み込む\n\nモジュールやライブラリを用いる際，特定の関数だけを読み込みたいことがある．\nそのような場合は，以下の表記を用いて指定した関数・クラスだけをインポートすることができる．\n\n```python\nfrom モジュール名 import 関数名\n```\n\n`from` でモジュール名を指定し，続く `import` に読み込みたい関数・クラスを指定する（複数の関数・クラスを指定したい場合は，カンマ区切りで並べて書く）．\n\nこのようにしてインポートした場合，モジュール名を記述しなくとも，関数・クラスをそのまま呼び出すことができる．"
  },
  {
   "cell_type": "markdown",
   "metadata": {},
   "source": "> **💡 モジュール，パッケージ，ライブラリのまとめ**\n> \n> - 複数の関数やクラスをまとめたものをモジュールと呼ぶ\n> - モジュールをさらにまとめたものをパッケージやライブラリと呼ぶ\n> - 外部ライブラリを追加インストールすることで，様々な追加機能が使えるようにある\n> - モジュールやライブラリは `import` 文で読み込むことができる\n\nなお，これ以降は代表的な外部ライブラリである `pandas` と `matplotlib` を用いてデータ分析に取り組んでいく．\nこれら2つのライブラリはそれぞれ膨大な数のモジュールを含んでおり，それらの網羅的な紹介は本講義では行わず，各ライブラリの機能を体験する上で最小限の説明にとどめる．\n\n将来的にPythonでプログラミングをする機会が生じたときに，各自で検索しながら様々な具体的な機能を学んで行って欲しい．\nプログラミングにおいては，網羅的な知識を有しておくよりも，必要に応じて適切に情報を検索し利用する能力の方が重要である．"
  },
  {
   "cell_type": "markdown",
   "metadata": {},
   "source": [
    "## `Pandas` によるデータ操作\n",
    "\n",
    "では，実際にデータ分析の本題に入っていこう．\n",
    "今回は，**Pandas** というライブラリを用いる．\n",
    "Pandasは，データ解析を容易に行うための機能を提供しており，データの操作や加工，分析などさまざまな処理を行うことができる．\n",
    "\n",
    "以下のコマンドで，まずはPandasをインポートしよう．"
   ]
  },
  {
   "cell_type": "code",
   "execution_count": null,
   "metadata": {},
   "outputs": [],
   "source": [
    "import pandas as pd"
   ]
  },
  {
   "cell_type": "markdown",
   "metadata": {},
   "source": "なお，簡単のため `as` を用いて `pd` という短縮名でインポートした．\n\n### Series と DataFrame\n\nPandasでは，**Series（シリーズ）** や **DataFrame（データフレーム）** といった特殊なデータ構造が使用される．\nSeriesは1次元（列形式）のデータ，DataFrameは2次元（行列形式）のデータを扱うための構造である．\n\n実際のデータ分析の場面では2次元のデータを扱うことが多いため，本講義では2次元のデータ構造であるDataFrameを主に扱っていく．\n\nDataFrameは前述の通り，行と列の2次元で表現され，表のような構造となっている．\nそれぞれの列に対して，文字列型や数値型など，一様な型のデータが格納されている．\n\n列と行にはそれぞれ列名と行名（またはインデックス）が付けられており，これらを指定することで，データの集計や抽出，加工に利用することができる．\n\n> **💡 DataFrameからSeriesを抽出する**\n> \n> DataFrameから抽出した1行または1列の情報は，1次元のデータ構造であるSeriesとなる．\n> 逆に，複数のSeriesを結合してDataFrameとして扱うこともできる．\n> \n> このように，DataFrameは複数のSeriesの集合と考えることができる．\n\nDataFrameを作成するには，以下のようなコードを書けば良い．\n\n```python\npd.DataFrame(data=格納するデータ, index=行名, columns=列名)\n```\n\nこのとき，引数の `data` には，リスト型や辞書型の変数を指定することができる（復習 → [変数とデータ型](../01_lecture/variables_and_data_types.ipynb)）．\n\n本講義では，ファイルに格納された情報をDataFrameに取り込んで解析に利用していくこととする．"
  },
  {
   "cell_type": "markdown",
   "metadata": {},
   "source": [
    "### データの読み込み\n",
    "\n",
    "今回は，[アイスクリーム屋さんで学ぶ楽しい統計学](http://kogolab.chillout.jp/elearn/icecream/index.html) というサイトで公開されている架空のデータを用いてデータ分析に取り組んでいく．\n",
    "\n",
    "まず，当該データをダウンロードしよう．\n",
    "以下のセルを実行すると，`data` フォルダの中に `ice_cream.csv` というファイルがダウンロードされる．"
   ]
  },
  {
   "cell_type": "code",
   "execution_count": null,
   "metadata": {},
   "outputs": [],
   "source": [
    "!mkdir -p data\n",
    "!wget -P data https://raw.githubusercontent.com/ground-zero-programming/zero-pro-data/refs/heads/main/data/data_analysis/lecture/ice_cream.csv -O data/ice_cream.csv"
   ]
  },
  {
   "cell_type": "markdown",
   "metadata": {},
   "source": [
    "本講義の範囲内では上記のコードが何をやっているかを意識する必要はないが，簡単に説明しよう．\n",
    "`!mkdir data`でGoogle Colab内に`data`という名前がついたフォルダを作成し，以降の`!wget -P data {URL}`で`URL`にあるファイルを先ほど作成した`data`フォルダにダウンロードするという操作をしている．\n",
    "\n",
    "さて， `ice_cream.csv`には，あるアイスクリームチェーン店における8月の客数データ（2週間 = 14日分）が格納されている．\n",
    "このファイルは **CSVファイル** と呼ばれ，以下のように各データの間がコンマ `,` で区切られている．\n",
    "\n",
    "```csv\n",
    "日付, 最高気温, 客数\n",
    "1, 29, 312\n",
    "2, 30, 348\n",
    "3, 29, 284\n",
    "...\n",
    "```\n",
    "\n",
    "1行目は列のタイトル（ヘッダとも呼ばれる）となっており，2行目から各日付におけるデータが格納されている．\n",
    "また，暑い日にはアイスクリームを食べたいと思う人が増えるかもしれない．\n",
    "そこで，このファイルには各日付における客数以外に，その日の最高気温も含まれている．\n",
    "\n",
    "CSVファイルを読み込むには，Pandasに含まれる `read_csv` という関数が便利である．\n",
    "\n",
    "`read_csv` 関数は，目的とするファイルの保存場所までの経路（これを **パス** といいます）を文字列として引数に渡すことで，そのファイルを開くことができる．\n",
    "今回は `data` というフォルダに入っている `ice_cream.csv` を開きたいので，`'data/ice_cream.csv'` という文字列を渡せばOK．\n",
    "ここで，スラッシュ `/` はパスを記述する際の区切り文字で， `A/B` と書くとフォルダ `A` の中に `B` があることを意味する．"
   ]
  },
  {
   "cell_type": "code",
   "execution_count": null,
   "metadata": {},
   "outputs": [],
   "source": [
    "# ファイルを `df` という変数に読み込む\n",
    "df = pd.read_csv('data/ice_cream.csv') \n",
    "\n",
    "# dfの中身を表示\n",
    "df"
   ]
  },
  {
   "cell_type": "markdown",
   "metadata": {},
   "source": "上の出力の結果から，「日付」，「最高気温」，「客数」の3つの列で構成されるデータが読み込まれていることがわかる．\nなお，一番左の列はPandasによって付けられた行のインデックスである．このインデックスは0からスタートしていることに気をつけよう．\n\n> **💡 列名（ヘッダ）の認識**\n> \n> `read_csv` 関数では，デフォルトでCSVファイル中の1行目の情報を列名（ヘッダ）として解釈してくれる．\n> 先ほど読み込んだ `ice_cream.csv` はまさに1行目にヘッダが入っていたため上手くいったが，場合によってはヘッダのないCSVファイルを読み込むこともあるだろう．\n> \n> そのような場合は，`read_csv` 関数の引数として `header=None` とすればよい．\n> \n> ```python\n> df = pd.read_csv('data/sample_no_header.csv', header=None) \n> ```\n> \n> また，列名を自分で設定したい場合は，引数 `names` で指定できる．\n> \n> ```python\n> df = pd.read_csv('data/sample_no_header.csv', header=None, names=['A', 'B', 'C', 'D']) \n> ```"
  },
  {
   "cell_type": "markdown",
   "metadata": {},
   "source": [
    "### 列の抽出\n",
    "\n",
    "データフレームから任意の列を抽出したい場合，`DataFrame['列名']` のように書けばよい（文字列として指定するため，クォーテーション `'` で囲っていることに注意）．\n",
    "例えば上記 `df` から「最高気温」の列を取り出したい場合は，以下の通りである．"
   ]
  },
  {
   "cell_type": "code",
   "execution_count": null,
   "metadata": {},
   "outputs": [],
   "source": [
    "df['最高気温']"
   ]
  },
  {
   "cell_type": "markdown",
   "metadata": {},
   "source": [
    "同様にして，「客数」の列を取り出してみよう．"
   ]
  },
  {
   "cell_type": "code",
   "execution_count": null,
   "metadata": {},
   "outputs": [],
   "source": [
    "df['客数']"
   ]
  },
  {
   "cell_type": "markdown",
   "metadata": {},
   "source": [
    "なお，複数の列を取り出したい場合は，取り出したい列名のリスト `['列1', '列2', '列3', ...]` を `DataFrame[ ]` の括弧 `[ ]` の中に記述すればよい．\n",
    "\n",
    "```python\n",
    "DataFrame[['列1', '列2', '列3', ...] ]\n",
    "```\n",
    "\n",
    "括弧 `[ ]` が二重になっていることに注意すること．\n",
    "\n",
    "例えば最高気温と客数の両方を取り出したい場合は，以下のような書き方になる．"
   ]
  },
  {
   "cell_type": "code",
   "execution_count": null,
   "metadata": {
    "scrolled": false
   },
   "outputs": [],
   "source": [
    "df[['最高気温', '客数']]"
   ]
  },
  {
   "cell_type": "markdown",
   "metadata": {},
   "source": [
    "### 行の抽出\n",
    "\n",
    "コロン（`:`）で行のインデックスを指定することで，特定の区間の行を抽出することができる．\n",
    "\n",
    "例えば，2行目から5行目までを抽出したい場合は，スライシングを用いて以下のように書けば良い．"
   ]
  },
  {
   "cell_type": "code",
   "execution_count": null,
   "metadata": {},
   "outputs": [],
   "source": [
    "df[2:5]"
   ]
  },
  {
   "cell_type": "markdown",
   "metadata": {},
   "source": [
    "### 【発展】 `iloc` を用いて特定の行・列を抽出\n",
    "\n",
    "`iloc` を利用すると，DataFrameに対して行番号と列番号を指定してデータを抽出することが可能である．\n",
    "\n",
    "```python\n",
    "DataFrame.iloc[行番号, 列番号]\n",
    "```\n",
    "\n",
    "例えば1行目を抽出する場合は，以下のように書けば良い．なお，行番号のみを指定する場合，列番号の指定は省略できる．"
   ]
  },
  {
   "cell_type": "code",
   "execution_count": null,
   "metadata": {},
   "outputs": [],
   "source": [
    "df.iloc[1]"
   ]
  },
  {
   "cell_type": "markdown",
   "metadata": {},
   "source": [
    "また，3行目から6行目を抽出したい場合は，スライシング（復習 → [変数とデータ型](../01_lecture/variables_and_data_types.ipynb)）を利用して以下のように書くことができる．"
   ]
  },
  {
   "cell_type": "code",
   "execution_count": null,
   "metadata": {},
   "outputs": [],
   "source": [
    "df.iloc[3:6]"
   ]
  },
  {
   "cell_type": "markdown",
   "metadata": {},
   "source": [
    "今度は列を考える．\n",
    "例えば2列目を抽出したい場合は，行の指定を `:` （すべての行という意味）とし，列の指定を `2` とする． "
   ]
  },
  {
   "cell_type": "code",
   "execution_count": null,
   "metadata": {},
   "outputs": [],
   "source": [
    "df.iloc[:, 2]"
   ]
  },
  {
   "cell_type": "markdown",
   "metadata": {},
   "source": [
    "これらを組み合わせ，例えば2列目の3行目から6行目を抽出したい場合は，以下のように書けばよい，"
   ]
  },
  {
   "cell_type": "code",
   "execution_count": null,
   "metadata": {},
   "outputs": [],
   "source": [
    "df.iloc[3:6, 2]"
   ]
  },
  {
   "cell_type": "markdown",
   "metadata": {},
   "source": [
    "### 条件による抽出\n",
    "\n",
    "`True` または `False` を返す条件式を指定することで，データフレームから条件を満たす任意の行を抽出することができる．\n",
    "\n",
    "例えば，データフレーム `df` から，「最高気温が30度より大きい」の行だけ抜き出したいとしよう．\n",
    "これを表す条件式は， `df['最高気温'] > 30` となる．\n",
    "実際に実行してみよう．"
   ]
  },
  {
   "cell_type": "code",
   "execution_count": null,
   "metadata": {},
   "outputs": [],
   "source": [
    "df['最高気温'] > 30"
   ]
  },
  {
   "cell_type": "markdown",
   "metadata": {},
   "source": [
    "縦に `True` と `False` がズラッと並んでいるが，これはデータフレーム `df` のうち，どの行が条件式 `df['最高気温'] > 30` を満たすかを表している．\n",
    "上記の出力で条件式が満たされる（つまり `True` になっている）のは，行インデックスが「3, 4, 5, 6, 9, 10, 11」の場合であることがわかる．\n",
    "\n",
    "実際に上の方で出力した `df` の中身と照らし合わせてみよう．\n",
    "`True` となっている行における最高気温が30度よりも大きくなっているはずだ．\n",
    "\n",
    "最終的には， `DataFrame[条件式]` のように書くことで，条件式を満たす行のみを取り出すことができる．"
   ]
  },
  {
   "cell_type": "code",
   "execution_count": null,
   "metadata": {},
   "outputs": [],
   "source": [
    "df[df['最高気温'] > 30]"
   ]
  },
  {
   "cell_type": "markdown",
   "metadata": {},
   "source": [
    "同様に，「客数が400より少ない」行だけを抜き出してみよう．"
   ]
  },
  {
   "cell_type": "code",
   "execution_count": null,
   "metadata": {},
   "outputs": [],
   "source": [
    "df[df['客数'] < 400]"
   ]
  },
  {
   "cell_type": "markdown",
   "metadata": {},
   "source": [
    "このうち，さらに「客数が400より少ない」行について，「最高気温」だけを抜き出したい場合は，`DataFrame[条件式]['列名']` のように，列名を指定する `[ ]` を後ろにくっ付ければよい．"
   ]
  },
  {
   "cell_type": "code",
   "execution_count": null,
   "metadata": {},
   "outputs": [],
   "source": [
    "df[df['客数'] < 400]['最高気温']"
   ]
  },
  {
   "cell_type": "markdown",
   "metadata": {},
   "source": [
    "### 複数条件による抽出\n",
    "\n",
    "単一の条件ではなく，複数の条件を使って行を抽出することもできる．\n",
    "\n",
    "そのためには，[条件分岐の回](../04_lecture/functions_and_scope.ipynb)で学んだ論理演算子の考え方で各条件を繋げればよい．\n",
    "\n",
    "ただし，条件分岐の際とは以下の2点が異なる．\n",
    "\n",
    "- 条件分岐のときに用いた `and` と `or` は使えない．DataFrameに対して複数の条件を設定する際は，`and` の代わりに `&`， `or` の代わりに `|` を使う必要がある．\n",
    "- 各条件は括弧 `()` で囲む必要がある．\n",
    "\n",
    "例えば，「客数が400より少ない」かつ「最高気温が30度以上」の行だけを抽出したい場合は，以下のように書く．"
   ]
  },
  {
   "cell_type": "code",
   "execution_count": null,
   "metadata": {},
   "outputs": [],
   "source": [
    "df[(df['客数'] < 400) & (df['最高気温'] >= 30)]"
   ]
  },
  {
   "cell_type": "markdown",
   "metadata": {},
   "source": [
    "同様に，「最高気温が30度未満」または「最高気温が33度以上」の行だけを抽出したい場合は，以下のように書く．"
   ]
  },
  {
   "cell_type": "code",
   "execution_count": null,
   "metadata": {},
   "outputs": [],
   "source": [
    "df[(df['最高気温'] < 30) | (df['最高気温'] >=33)]"
   ]
  },
  {
   "cell_type": "markdown",
   "metadata": {},
   "source": [
    "### 要約統計量の算出\n",
    "\n",
    "データが与えられた時，生の数字だけを見てもなかなか情報は得られない．\n",
    "多くの場合，データの特徴を要約した数値を計算し，全体の傾向の掴んだり，さまざまな条件で比較したりする．\n",
    "\n",
    "このとき計算される数値のことを **要約統計量** や **記述統計量** と呼ぶ．\n",
    "これには様々な種類があるが，今回は最も基本的な5つの要約統計量を計算してみよう．\n",
    "\n",
    "各統計量は，データフレームに対して以下のように書くことで計算できる．\n",
    "\n",
    "```python\n",
    "DataFrame.統計量()\n",
    "```\n",
    "\n",
    "今回はデータ中の最高気温に対して，各種統計量を計算してみる．"
   ]
  },
  {
   "cell_type": "markdown",
   "metadata": {},
   "source": [
    "**最小値**（`min`）：データに含まれる最も小さい数．"
   ]
  },
  {
   "cell_type": "code",
   "execution_count": null,
   "metadata": {},
   "outputs": [],
   "source": [
    "df['最高気温'].min() # 最小値の計算"
   ]
  },
  {
   "cell_type": "markdown",
   "metadata": {},
   "source": [
    "**最大値**（`max`）：データに含まれる最も大きい数．"
   ]
  },
  {
   "cell_type": "code",
   "execution_count": null,
   "metadata": {},
   "outputs": [],
   "source": [
    "df['最高気温'].max() # 最大値の計算"
   ]
  },
  {
   "cell_type": "markdown",
   "metadata": {},
   "source": [
    "**平均値**（`mean`）：データの中間的な値を表す統計量．$N$ 個のデータ $x_1, x_2, \\ldots, x_N$ に対して，以下のようにデータの合計を個数で割ることで計算される．\n",
    "\n",
    "$$\n",
    "\\bar{x} = \\frac{1}{N} \\sum_{i=1}^N x_i\n",
    "$$"
   ]
  },
  {
   "cell_type": "code",
   "execution_count": null,
   "metadata": {},
   "outputs": [],
   "source": [
    "df['最高気温'].mean() # 平均値の計算"
   ]
  },
  {
   "cell_type": "markdown",
   "metadata": {},
   "source": [
    "**分散**（`var`）：データのばらつき具合を表す統計量．以下の式で計算される．\n",
    "\n",
    "$$\n",
    "s^2 = \\frac{1}{N} \\sum_{i=1}^N (x_i - \\bar{x})^2\n",
    "$$"
   ]
  },
  {
   "cell_type": "code",
   "execution_count": null,
   "metadata": {},
   "outputs": [],
   "source": [
    "df['最高気温'].var() # 分散の計算"
   ]
  },
  {
   "cell_type": "markdown",
   "metadata": {},
   "source": [
    "**標準偏差**（`std`）：分散 $s^2$ の平方根で計算される．分散は各データを2乗した値から求めているため，平均と比較することができない．分散の平方根を計算することで，データのばらつきを平均を比較できるようになる．\n",
    "\n",
    "$$\n",
    "s = \\sqrt{s^2}\n",
    "$$"
   ]
  },
  {
   "cell_type": "code",
   "execution_count": null,
   "metadata": {},
   "outputs": [],
   "source": [
    "df['最高気温'].std() # 標準偏差の計算"
   ]
  },
  {
   "cell_type": "markdown",
   "metadata": {},
   "source": [
    "以上をまとめると，14日間における最高気温は27度から34度の範囲で変化し，平均値は約30.7度，標準偏差は約2.3度なので，値のばらつきはそこまで大きくないことがわかった．\n",
    "\n",
    "なお，上記の例では一つ一つ記述統計量を算出したが，`describe()` メソッドを用いることで，DataFrameの各列に対して複数の要約統計量を一気に計算することもできる．"
   ]
  },
  {
   "cell_type": "code",
   "execution_count": null,
   "metadata": {},
   "outputs": [],
   "source": [
    "df.describe()"
   ]
  },
  {
   "cell_type": "markdown",
   "metadata": {},
   "source": "> **💡 Pandasによるデータ分析のまとめ**\n> \n> - Pandasというライブラリを用いることで，データの収集や整理，加工が容易となる\n> - PandasではDataFrameやSeriesといったデータ構造が利用される\n> - DataFrameの列や行に対してに対して条件式などを用いた用いた抽出が可能である"
  },
  {
   "cell_type": "markdown",
   "metadata": {},
   "source": [
    "## `Matplotlib` によるデータの可視化"
   ]
  },
  {
   "cell_type": "markdown",
   "metadata": {},
   "source": [
    "データ分析において，集計した結果を図やグラフなどを用いて視覚的に表示してみることは非常に重要である．\n",
    "そのデータから読み取ることができる情報と，それに基づく意思決定にまで影響を及ぼす．\n",
    "このような操作を，データの **可視化（visualization）** と呼ぶ．\n",
    "\n",
    "ここでは，グラフ描画用ライブラリである **Matplotlib** のモジュールを使用して，データを可視化するためのグラフを作成していく．\n",
    "\n",
    "Matplotlibライブラリを使用するためには，まず `matplotlib` のモジュールをインポートする．\n",
    "ここでは，基本的なグラフを描画するための `matplotlib.pyplot` というモジュールを使用する．\n",
    "慣例として，同モジュールに `plt` という短縮名を付けて利用しよう．"
   ]
  },
  {
   "cell_type": "code",
   "execution_count": null,
   "metadata": {},
   "outputs": [],
   "source": [
    "import matplotlib.pyplot as plt\n",
    "%matplotlib inline"
   ]
  },
  {
   "cell_type": "markdown",
   "metadata": {},
   "source": [
    "なお，`%matplotlib inline` は，ノートブック内でグラフを表示するために必要なコードである．\n",
    "\n",
    "なお，以下はMatplotlibで日本語フォントを扱うための設定用コードなので，実行だけして中身は無視して構わない．"
   ]
  },
  {
   "cell_type": "code",
   "execution_count": null,
   "metadata": {},
   "outputs": [],
   "source": [
    "from matplotlib import rcParams\n",
    "rcParams['font.family'] = 'sans-serif'\n",
    "rcParams['font.sans-serif'] = ['Hiragino Sans', 'Yu Gothic', 'Meiryo', 'Takao', 'IPAexGothic', 'IPAPGothic', 'VL PGothic', 'Noto Sans CJK JP']"
   ]
  },
  {
   "cell_type": "markdown",
   "metadata": {},
   "source": "> **💡 【補足】上記コードが気になる人向けの解説**\n> \n> 上記のコードについて簡単に解説する（気にならない人はスルーしてよい）．\n> \n> まず一行目では，Matplotlibに含まれる `rcParams` という辞書形式のオブジェクトをインポートしている．\n> ここにはさまざまなデフォルト設定値が格納されており，この設定値を変更することで，プログラム全体のグラフに対して見た目などの変更が可能である．\n> \n> `rcParams['font.family']` を変更することで，グラフ中のフォントを任意に設定できる．\n> ただし，使用しているPC環境（OSやブラウザ）によっては特定のフォントが使えたり使えなかったりするため，フォントの大きなカテゴリ（総称フォントと呼ばれる）である `sans-serif` を設定している．\n> \n> ```python\n> rcParams['font.family'] = 'sans-serif'\n> ```\n> \n> `sans-serif` とは日本語フォントでいうところのゴシック体である．\n> \n> また，`rcParams['font.sans-serif']` を変更することで，`sans-serif` として利用可能なフォントの選択肢を具体的に指定している．\n> \n> ```python\n> rcParams['font.sans-serif'] = ['Hiragino Sans', 'Yu Gothic', 'Meirio', 'Takao', 'IPAexGothic', 'IPAPGothic', 'VL PGothic', 'Noto Sans CJK JP']\n> ```\n> \n> このうち，使用しているPC環境が利用可能なものがグラフ中のフォントとして使用される．\n> 例えば，Macであれば必ず `Hiragino Sans` が利用可能であり，Windowsであれば `Yu Gothic` や `Meirio` が，Ubuntuであれば `Noto Sans CJK JP` が使えるはずである．\n> そのため，一般的なPC環境であれば，OSやブラウザを問わず正しく日本語フォントでグラフを出力できるようになっている．"
  },
  {
   "cell_type": "markdown",
   "metadata": {},
   "source": [
    "### 線グラフ\n",
    "\n",
    "`pyplot`モジュールに含まれている `plot` 関数を用いて，線グラフを描画していこう．\n",
    "\n",
    "```python\n",
    "plt.plot(X, Y)\n",
    "```\n",
    "\n",
    "と書くことで，x軸に変数 `X`，y軸に変数 `Y` を取った線グラフを表示することができる．\n",
    "このとき，`X` と `Y` にはリストやPandasのSeries，DataFrameなど様々指定できる．\n",
    "\n",
    "まずは，「日付」によって「客数」がどう変わるかをグラフ化してみよう．\n",
    "x軸に日付，y軸に客数を指定してグラフを描画すればよい．"
   ]
  },
  {
   "cell_type": "code",
   "execution_count": null,
   "metadata": {},
   "outputs": [],
   "source": [
    "plt.plot(df['日付'], df['客数']);"
   ]
  },
  {
   "cell_type": "markdown",
   "metadata": {},
   "source": [
    "なお，セルの最後に実行されたオブジェクトの出力表示を無くすため，これ以降グラフを描画する際は，セルの最後の行にセミコロン（`;`）をつけていることに注意されたい（セミコロンが無くてもグラフ自体は問題なく描画できる）．"
   ]
  },
  {
   "cell_type": "markdown",
   "metadata": {},
   "source": [
    "`plot` 関数ではグラフの線の種類や色，データポイントのマーカの種類を，様々な引数で指定できる．\n",
    "\n",
    "例えば，先ほど作成した線グラフにデータポイントの丸型マーカを加えたい場合，`plot` 関数の引数に `marker='o'` を追加する．"
   ]
  },
  {
   "cell_type": "code",
   "execution_count": null,
   "metadata": {},
   "outputs": [],
   "source": [
    "plt.plot(df['日付'], df['客数'], marker='o');"
   ]
  },
  {
   "cell_type": "markdown",
   "metadata": {},
   "source": [
    "引数 `marker` に違う値を指定するとマーカの形状が変わる．"
   ]
  },
  {
   "cell_type": "code",
   "execution_count": null,
   "metadata": {},
   "outputs": [],
   "source": [
    "plt.plot(df['日付'], df['客数'], marker='x');"
   ]
  },
  {
   "cell_type": "markdown",
   "metadata": {},
   "source": [
    "他にも，`linestyle` で線の種類を変えたり，`color` で線の色を変更したりできる．"
   ]
  },
  {
   "cell_type": "code",
   "execution_count": null,
   "metadata": {},
   "outputs": [],
   "source": [
    "plt.plot(df['日付'], df['客数'], marker='*', linestyle='--', color='green');"
   ]
  },
  {
   "cell_type": "markdown",
   "metadata": {},
   "source": [
    "それぞれの引数で指定可能な値は以下を参照されたい．\n",
    "\n",
    "- [linestyle](https://matplotlib.org/api/_as_gen/matplotlib.lines.Line2D.html#matplotlib.lines.Line2D.set_linestyle)\n",
    "- [color](https://matplotlib.org/api/colors_api.html?highlight=color#module-matplotlib.colors)\n",
    "- [marker](https://matplotlib.org/api/markers_api.html#module-matplotlib.markers)\n",
    "\n",
    "`pyplot` モジュールでは，グラフのタイトルと各軸のラベルを指定して表示することができる．\n",
    "タイトルは `title` 関数，x軸のラベルは `xlabel` 関数，y軸のラベルは `ylabel` 関数に文字列を渡すことで指定可能である．"
   ]
  },
  {
   "cell_type": "code",
   "execution_count": null,
   "metadata": {},
   "outputs": [],
   "source": [
    "plt.plot(df['日付'], df['客数'], marker='o') # グラフを作成\n",
    "plt.title('日付と客数の関係') # タイトルを追加\n",
    "plt.xlabel('日付') # x軸のラベルを追加\n",
    "plt.ylabel('客数 (人)'); # y軸のラベルを追加"
   ]
  },
  {
   "cell_type": "markdown",
   "metadata": {},
   "source": "> **❗ タイトルなどが文字化けする場合**\n> \n> PC環境によっては，日本語フォント表示用コードを実行してもグラフ中に日本語がうまく表示されず，文字が `□` のように表示されることがある．\n> \n> その場合は，以下のコードをコードセルに貼り付け，実行してからグラフを描画せよ．\n> \n> ```python\n> !pip install japanize-matplotlib\n> import japanize_matplotlib\n> japanize_matplotlib.japanize()\n> ```"
  },
  {
   "cell_type": "markdown",
   "metadata": {},
   "source": [
    "同様に，「日付」によって「最高気温」がどう変わるかを線グラフで描画してみよう．"
   ]
  },
  {
   "cell_type": "code",
   "execution_count": null,
   "metadata": {},
   "outputs": [],
   "source": [
    "plt.plot(df['日付'], df['最高気温'], marker='o') # グラフを作成\n",
    "plt.title('日付と最高気温の関係') # タイトルを追加\n",
    "plt.xlabel('日付') # x軸のラベルを追加\n",
    "plt.ylabel('最高気温（度）'); # y軸のラベルを追加"
   ]
  },
  {
   "cell_type": "markdown",
   "metadata": {},
   "source": [
    "さて，では「日付と客数」のグラフと，「日付と最高気温」のグラフを交互に見てみましょう．\n",
    "何か気がつくことがないだろうか？\n",
    "\n",
    "最高気温が高い日には客数も多く，最高気温が低い日には客数が少ない傾向があるように見える．\n",
    "\n",
    "2つの変数の関係を可視化するために，次に **散布図** というグラフで最高気温と客数の関係を見ていこう．"
   ]
  },
  {
   "cell_type": "markdown",
   "metadata": {},
   "source": [
    "### 散布図\n",
    "\n",
    "散布図とは，横軸と縦軸に異なる要素を設定し，それらの関係性を調べる際に用いられる．\n",
    "\n",
    "Matplotlibでは，`pyplot` モジュールの `scatter` 関数を用いて描画することができる．\n",
    "次のように，\n",
    "\n",
    "```python\n",
    "plt.scatter(X, Y)\n",
    "```\n",
    "\n",
    "と書くことで，x軸に変数 `X`，y軸に変数 `Y` を取った散布図を作成できる．\n",
    "このとき，線グラフの場合と同様に，さまざまな引数を指定することでグラフの見た目を変更できる．\n",
    "ここでは例として，引数 `s` と `alpha` を用いて，各マーカの大きさと透明度を指定している．"
   ]
  },
  {
   "cell_type": "code",
   "execution_count": null,
   "metadata": {},
   "outputs": [],
   "source": [
    "plt.scatter(df['最高気温'], df['客数'], s=100, alpha=0.5)\n",
    "plt.title('最高気温と客数の関係')\n",
    "plt.xlabel('最高気温（度）')\n",
    "plt.ylabel('客数（人）');"
   ]
  },
  {
   "cell_type": "markdown",
   "metadata": {},
   "source": [
    "このグラフをみると，最高気温と客数の間には，右肩上がりの関係があるように見える．\n",
    "つまり，最高気温が高くなればなるほど，客数は多くなるような関係がありそうだ．\n",
    "\n",
    "この関係については，後ほど詳しく考えてみるとして，その前に他のグラフをいくつか紹介する．"
   ]
  },
  {
   "cell_type": "markdown",
   "metadata": {},
   "source": [
    "### 棒グラフ\n",
    "\n",
    "棒グラフは日常でもよく目にするグラフの一つであり，横軸に項目，縦軸にデータ値をとり，棒の高さでデータの大きさを表している．\n",
    "\n",
    "Matplotlibでは，`pyplot` モジュールの `bar` 関数を用いて棒グラフを描画できる．\n",
    "\n",
    "```python\n",
    "plt.bar(X, Y)\n",
    "```\n",
    "\n",
    "先ほどは線グラフで「日付」ごとの「客数」を可視化したが，同じものを棒グラフで表現してみよう．"
   ]
  },
  {
   "cell_type": "code",
   "execution_count": null,
   "metadata": {},
   "outputs": [],
   "source": [
    "plt.bar(df['日付'], df['客数'])\n",
    "plt.title('日付と客数の関係') # タイトルを追加\n",
    "plt.xlabel('日付') # x軸のラベルを追加\n",
    "plt.ylabel('客数 (人)'); # y軸のラベルを追加"
   ]
  },
  {
   "cell_type": "markdown",
   "metadata": {},
   "source": "> **💡 線グラフと棒グラフの使い分け**\n> \n> 上記の通り，今回は「日付」と「客数」の関係を，線グラフと棒グラフという2種類の方法で可視化した．\n> グラフより，どちらも同じような情報を表しているが，どんな時に使い分ければよいだろうか？\n> \n> 線グラフの場合は，データ点同士が線で結ばれているため，より日付に応じた変化が強調されているような印象である．\n> 一方，棒グラフの場合は，ある日付と別の日付との間の値の差がより分かりやすい印象である．\n> つまり，線グラフは「変化」が強調されており，棒グラフは「大小の違い」が強調されているわけである．\n> \n> このことから，横軸の値が連続したデータ（例：年度ごとの売り上げの推移）に関しては，線グラフの方が分かりやすい場面が多い．\n> 一方，横軸の値が独立しているデータ（例：広島，岡山，島根の3地域の売り上げ）については，棒グラフの方が適切だろう．\n> \n> 今回の「日付」と「客数」の場合，横軸は連続した「日付」なので，線グラフの方が適切と思われる．\n> \n> ただし，「絶対にどちらかを使うべし」という厳密なルールは存在しない．\n> むしろ，そのグラフから自分がどのような主張を行いたいか，に応じて適切なグラフを使い分けることが大切である．"
  },
  {
   "cell_type": "markdown",
   "metadata": {},
   "source": [
    "### 【発展】ヒストグラム\n",
    "\n",
    "ヒストグラムは，データを階級で分割し，横軸に階級，縦軸に各階級の度数をとった統計グラフである．\n",
    "簡単にいうと，データをいくつかの均等な区間に分割するとともに，各区間に含まれるデータの個数を計算し，可視化したものである．\n",
    "主に，データの分布を調べるために用いられる．\n",
    "\n",
    "Matplotlibでは，`pyplot` モジュールの `hist` 関数を用いてヒストグラムを描画できる．\n",
    "\n",
    "```python\n",
    "plt.hist(data)\n",
    "```\n",
    "\n",
    "本来，ヒストグラムはデータ量がある程度多くないと描画が難しいが，今回はひとまず「客数」のデータのヒストグラムを表示してみよう．"
   ]
  },
  {
   "cell_type": "code",
   "execution_count": null,
   "metadata": {},
   "outputs": [],
   "source": [
    "plt.hist(df['客数'])\n",
    "plt.title('客数のヒストグラム')\n",
    "plt.xlabel('客数')\n",
    "plt.ylabel('度数');"
   ]
  },
  {
   "cell_type": "markdown",
   "metadata": {},
   "source": [
    "このグラフより，客数は300人から450人くらいの範囲に主に分布しており，客数が500人を超えることは稀であることがわかる．\n",
    "\n",
    "なお，`hist` 関数ではデフォルトの分割数として `10` が設定されているが，ここを手動で設定したい場合は引数 `bins` に分割数を指定すれば良い．\n",
    "例えば分割数により大きな `15` を設定すると，ヒストグラムの各棒が細くなり，分布の表現がより細かくなる．"
   ]
  },
  {
   "cell_type": "code",
   "execution_count": null,
   "metadata": {},
   "outputs": [],
   "source": [
    "plt.hist(df['客数'], bins=15)\n",
    "plt.title('客数のヒストグラム')\n",
    "plt.xlabel('客数')\n",
    "plt.ylabel('度数');"
   ]
  },
  {
   "cell_type": "markdown",
   "metadata": {},
   "source": [
    "### 複数のグラフの重ね合わせ\n",
    "\n",
    "Matplotlibでは，グラフ作成用関数を繰り返し実行することで，各グラフを重ねて表示することが可能である．\n",
    "\n",
    "例として，`df` のデータを第1週目（日付1〜7）と第2週目（日付8〜14）に分け，それぞれ対応する曜日と「客数」の線グラフを重ねて描画してみる．\n",
    "\n",
    "ここで，日付は月曜始まりとして扱う．つまり，日付1と8は月曜，日付2と9は火曜, ..., 日付7と14は日曜となる．"
   ]
  },
  {
   "cell_type": "code",
   "execution_count": null,
   "metadata": {},
   "outputs": [],
   "source": [
    "df_1st_week = df[df['日付'] <= 7] # 第1週目のDataFrameを抽出\n",
    "df_2nd_week = df[df['日付'] > 7] # 第2週目のDataFrameを抽出\n",
    "days = ['月', '火', '水', '木', '金', '土', '日'] # 横軸となる曜日のリストを作っておく\n",
    "\n",
    "plt.plot(days, df_1st_week['客数']) # 第1週目の線グラフ作成\n",
    "plt.plot(days, df_2nd_week['客数']) # 第2週目の線グラフ作成\n",
    "plt.title('曜日ごとの客数')\n",
    "plt.xlabel('曜日')\n",
    "plt.ylabel('客数（人）');"
   ]
  },
  {
   "cell_type": "markdown",
   "metadata": {},
   "source": [
    "上記からわかるように，線グラフを重ねたい場合は同じセル内で単純に `plt.plot` を複数実行すればよいことがわかる．\n",
    "また，各グラフは自動で色分けされている（もちろん，引数で任意の色を指定することもできる）．\n",
    "\n",
    "ただし，上記のグラフだけだと青色と橙色のどちらが1週目と2週目なのか判断がつかない．そのような場合は凡例を表示する必要がある．\n",
    "\n",
    "`plot` 関数の `label` 引数にグラフの各線の凡例として表示したい文字列を指定した上で，`legend` 関数を呼び出すことで，グラフ中に凡例を表示することができる．"
   ]
  },
  {
   "cell_type": "code",
   "execution_count": null,
   "metadata": {},
   "outputs": [],
   "source": [
    "plt.plot(days, df_1st_week['客数'], label='第1週') # 第1週目の線グラフ作成\n",
    "plt.plot(days, df_2nd_week['客数'], label='第2週') # 第2週目の線グラフ作成\n",
    "plt.title('曜日ごとの客数')\n",
    "plt.xlabel('曜日')\n",
    "plt.ylabel('客数（人）')\n",
    "plt.legend();"
   ]
  },
  {
   "cell_type": "markdown",
   "metadata": {},
   "source": "### グラフから読み取れる相関関係\n\nさて，話を少し戻そう．\n散布図の説明をした際に，「最高気温」と「客数」の間に，右肩上がりの関係が確認された．\n\nこのように，「x軸の値が大きくなるほど，y軸の値も大きくなる」ような関係性を，**正の相関** という．\n相関とは，「互いに関係がある」という意味である．\n\n逆に，「x軸の値が大きくなるほど，y軸の値は小さくなる」ことを **負の相関** という．\nこの場合，散布図は右肩下がりになるはずである．\n\n「x軸の値とy軸の値の間に明確な関係がない」場合，**無相関** と呼ばれる．\nこの場合，散布図に傾きはみられない．\n\nこのような2つの値の相関関係の強さを表す指標として， **相関係数** というものがある．\n相関係数は-1から1の値をとり，絶対値が大きいほど関係性が強いことを意味する．\n相関係数にはいくつかの定義がありますが，最も代表的なピアソンの積率相関係数 $r$ は以下の式で計算される．\n\n$$\nr = \\frac{\\sum_{i=1}^N (x_i - \\bar{x}) (y_i - \\bar{y})}{\\sqrt{\\sum_{i=1}^N(x_i - \\bar{x})^2 \\sum_{i=1}^N(y_i - \\bar{y})^2}}\n$$\n\n> **💡 相関係数の目安**\n> \n> 相関係数の値と相関の強さに関して，よく使われる目安は以下の通りである．\n> \n> | 相関係数の絶対値 | 目安 |\n> | --- | --- |\n> | 0.7〜1.0 | 強い相関 |\n> | 0.4〜0.7 | 中程度の相関 |\n> | 0.2〜0.4 | 弱い相関 |\n> | 0.0〜0.2 | ほとんど相関がない |\n> \n> ただしこれは絶対的な基準ではないことに注意されたい．\n\n相関係数も要約統計量と同様に，Pandasの機能を用いて計算することができる．\n\n相関係数を計算したい列を含むデータフレームに対し，\n\n```python\nDataFrame.corr()\n```\n\nとすれば計算結果が返ってくる．\n「最高気温」と「客数」の間の相関係数を計算してみよう．"
  },
  {
   "cell_type": "code",
   "execution_count": null,
   "metadata": {},
   "outputs": [],
   "source": [
    "df[['最高気温', '客数']].corr()"
   ]
  },
  {
   "cell_type": "markdown",
   "metadata": {},
   "source": "ここで返されるのは相関行列というものである．この行列の対角成分は同じ変数間の相関係数なので，「1」となる．\n「最高気温」と「客数」の間の相関係数を確認するためには，非対角成分の部分に着目すれば良い．\n\nこれより，「最高気温」と「客数」の間の相関係数は約0.698であることがわかった．\nさきほどの目安と照らし合わせると，中程度〜強い正の相関関係があるといえる．\n\n> **❗ 注意**\n> \n> 上記の相関行列において，非対角成分は2つあるが，どちらを見ればよいだろうか．\n> 正解は，「どちらでも良い」である．\n> \n> 「最高気温」と「客数」の間の相関も，その逆である「客数」と「最高気温」の間の相関も，同じ意味を持つ．\n> これは，上述の相関係数において $x$ と $y$ を入れ替えても本質的な計算は変わらないことからも明らかである．\n> つまり，相関行列は相関行列は対称行列の一種である．\n\nこのように，データから平均値など要約統計量を計算したり，散布図などを描画して可視化してみたり，相関係数を計算したりすることで，データの中の性質や関係性を理解したり分析したりすることができる．\n今回紹介したPandasやMatplotlibのように，Pythonにはこのようなデータ分析を実現するための様々なモジュール・ライブラリが揃っているため，それらを駆使することで幅広い応用に展開可能である．\n\n> **💡 【補足】相関関係と因果関係**\n> \n> 相関係数は，あくまで2つの変数の間の関係性の強さを示す指標に過ぎない\n> 今回の分析で「最高気温」と「客数」の間に正の相関があることは分かった．\n> これは，「最高気温が高いとき，アイスクリーム屋の客数も多い」ことを意味している．\n> \n> しかし，この結果から「最高気温が高いことが **原因** で，**結果** としてアイスクリーム屋の客数が増えた」と結論付けることはできないことに注意すること（なぜなら，もしかしたら他にも関係する変数が存在するかもしれないからである）．\n> 因果関係があるかどうかを示すためには，より複雑な別の分析を行う必要がある．"
  },
  {
   "cell_type": "markdown",
   "metadata": {},
   "source": "> **💡 Matplotlibによるデータの可視化のまとめ**\n> \n> - データを様々な方法で視覚的わかりやすく提示することを可視化と呼ぶ\n> - Matplotlibは，Pythonでよく用いられるグラフ描画ライブラリである\n> - 線グラフや棒グラフ，ヒストグラムなど，さまざまなグラフを描画できる"
  }
 ],
 "metadata": {
  "kernelspec": {
   "display_name": "Python 3",
   "language": "python",
   "name": "python3"
  },
  "language_info": {
   "codemirror_mode": {
    "name": "ipython",
    "version": 3
   },
   "file_extension": ".py",
   "mimetype": "text/x-python",
   "name": "python",
   "nbconvert_exporter": "python",
   "pygments_lexer": "ipython3",
   "version": "3.9.7"
  },
  "toc": {
   "base_numbering": 1,
   "nav_menu": {},
   "number_sections": false,
   "sideBar": true,
   "skip_h1_title": false,
   "title_cell": "Table of Contents",
   "title_sidebar": "Contents",
   "toc_cell": false,
   "toc_position": {},
   "toc_section_display": true,
   "toc_window_display": true
  },
  "vscode": {
   "interpreter": {
    "hash": "13b92c06b6e5ed457c2ffbe8aafd0597ab041ad1a918995ab3a6bf23080bab16"
   }
  }
 },
 "nbformat": 4,
 "nbformat_minor": 2
}