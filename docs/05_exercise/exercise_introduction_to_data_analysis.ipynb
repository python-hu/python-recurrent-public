{
 "cells": [
  {
   "cell_type": "markdown",
   "metadata": {},
   "source": [
    "# データ分析入門（演習）\n",
    "\n",
    "---"
   ]
  },
  {
   "cell_type": "markdown",
   "metadata": {},
   "source": [
    "## 演習１\n",
    "\n",
    "本演習では，講義資料と同じく [アイスクリーム屋さんで学ぶ楽しい統計学](http://kogolab.chillout.jp/elearn/icecream/index.html) というサイトの架空のデータを用いる（ただしデータの種類は少し異なる）．\n",
    "\n",
    "まずは以下のセルを実行し，データをダウンロードしよう．\n",
    "ダウンロードしたデータは `data` フォルダ内に `ice_cream_kadai.csv` という名前で保存される．"
   ]
  },
  {
   "cell_type": "code",
   "execution_count": null,
   "metadata": {},
   "outputs": [],
   "source": [
    "!mkdir -p data\n",
    "!wget -P data https://raw.githubusercontent.com/ground-zero-programming/zero-pro-data/refs/heads/main/data/data_analysis/exercise/ice_cream_kadai.csv -O data/ice_cream_kadai.csv"
   ]
  },
  {
   "cell_type": "markdown",
   "metadata": {},
   "source": [
    "本ファイルには，アイスクリーム屋の店舗別の平均客数と，駅からの距離（単位は [m] ）のデータが入っている．\n",
    "\n",
    "```csv\n",
    "店舗, 駅からの距離, 平均客数\n",
    "1, 10, 795\n",
    "2, 1200, 213\n",
    "3, 500, 465\n",
    "...\n",
    "```\n",
    "\n",
    "このデータに対して，MatplotlibやPandasを用いて解析を行う．\n",
    "適宜，これら外部ライブラリをインポートしながら以下の演習課題に解答せよ．"
   ]
  },
  {
   "cell_type": "markdown",
   "metadata": {},
   "source": [
    "### 演習1-1\n",
    "\n",
    "上記ファイル `ice_cream_kadai.csv` を読み込み，PandasのDataFrameとして変数 `df` に格納せよ．また， `df` の中身を表示し，正しく読み込めていることを確認せよ．"
   ]
  },
  {
   "cell_type": "code",
   "execution_count": null,
   "metadata": {},
   "outputs": [],
   "source": [
    "# 解答用セル\n"
   ]
  },
  {
   "cell_type": "markdown",
   "metadata": {},
   "source": [
    "### 演習1-2\n",
    "\n",
    "`df` のうち，「駅からの距離」が `500` 以上の行だけを抽出して表示せよ．"
   ]
  },
  {
   "cell_type": "code",
   "execution_count": null,
   "metadata": {},
   "outputs": [],
   "source": [
    "# 解答用セル\n"
   ]
  },
  {
   "cell_type": "markdown",
   "metadata": {},
   "source": [
    "### 演習1-3\n",
    "\n",
    "`df` のうち，「駅からの距離」が `500` 以上の行について，「平均客数」だけを抜き出して表示せよ．"
   ]
  },
  {
   "cell_type": "code",
   "execution_count": null,
   "metadata": {},
   "outputs": [],
   "source": [
    "# 解答用セル\n"
   ]
  },
  {
   "cell_type": "markdown",
   "metadata": {},
   "source": [
    "### 演習1-4\n",
    "\n",
    "`df` のうち，「平均客数」が `500` 未満の行について，「駅からの距離」の **最大値**，**最小値**，**平均値** をそれぞれ計算し，表示せよ．"
   ]
  },
  {
   "cell_type": "code",
   "execution_count": null,
   "metadata": {},
   "outputs": [],
   "source": [
    "# 解答用セル\n"
   ]
  },
  {
   "cell_type": "markdown",
   "metadata": {},
   "source": [
    "## 演習2\n",
    "\n",
    "`df` について，「駅からの距離」と「平均客数」の間の関係を散布図として出力せよ．\n",
    "ただし，図タイトル，x軸とy軸のタイトルを必ず付けること．\n",
    "それ以外に，グラフを見やすくする工夫を自分なりに考えて加えてよい．\n",
    "\n",
    "グラフ中で日本語フォントを利用するため，以下のセルをあらかじめ実行しておくこと．"
   ]
  },
  {
   "cell_type": "code",
   "execution_count": null,
   "metadata": {},
   "outputs": [],
   "source": [
    "from matplotlib import rcParams\n",
    "rcParams['font.family'] = 'sans-serif'\n",
    "rcParams['font.sans-serif'] = ['Hiragino Sans', 'Yu Gothic', 'Meiryo', 'Takao', 'IPAexGothic', 'IPAPGothic', 'VL PGothic', 'Noto Sans CJK JP']"
   ]
  },
  {
   "cell_type": "markdown",
   "metadata": {},
   "source": [
    "**出力例**\n",
    "\n",
    "![](./figs/kadai2_sample.png)"
   ]
  },
  {
   "cell_type": "markdown",
   "metadata": {},
   "source": [
    "**注意：タイトルなどが文字化けする場合**\n",
    "\n",
    "PC環境によっては，日本語フォント表示用コードを実行してもグラフ中に日本語がうまく表示されず，文字が `□` のように表示されることがある．\n",
    "\n",
    "その場合は，以下のコードをコードセルに貼り付け，実行してからグラフを描画せよ．\n",
    "\n",
    "```python\n",
    "!pip install japanize-matplotlib\n",
    "import japanize_matplotlib\n",
    "japanize_matplotlib.japanize()\n",
    "```"
   ]
  },
  {
   "cell_type": "code",
   "execution_count": null,
   "metadata": {},
   "outputs": [],
   "source": [
    "# 解答用セル\n"
   ]
  },
  {
   "cell_type": "markdown",
   "metadata": {},
   "source": [
    "## 演習３\n",
    "\n",
    "`df` について，「駅からの距離」と「平均客数」の間の相関係数を計算し，表示せよ．\n",
    "また，**説明** と書かれたMarkdownセルに，演習2の散布図と本演習で算出した相関係数の結果から，何が読み取れるか考えて自分なりに考察を書くこと．"
   ]
  },
  {
   "cell_type": "code",
   "execution_count": null,
   "metadata": {},
   "outputs": [],
   "source": [
    "# 解答用セル\n"
   ]
  },
  {
   "cell_type": "markdown",
   "metadata": {},
   "source": []
  },
  {
   "cell_type": "markdown",
   "metadata": {},
   "source": [
    "**説明**\n",
    "\n",
    "…"
   ]
  },
  {
   "cell_type": "markdown",
   "metadata": {},
   "source": [
    "## 演習4：発展課題"
   ]
  },
  {
   "cell_type": "markdown",
   "metadata": {},
   "source": [
    "これ以降は発展的な演習課題となります． \n",
    "解くことは必須ではありませんが，ぜひチャレンジしてみてください．"
   ]
  },
  {
   "cell_type": "markdown",
   "metadata": {},
   "source": [
    "演習4では，気象庁のオープンデータから取得した東広島市の1979年〜2021年までの月別平均気温のデータを用いる．\n",
    "本データは，`higashi-hiroshima-temps.csv` という CSVファイルに保存されている．\n",
    "\n",
    "まずは以下のセルを実行し，当該ファイルをダウンロードして `data` フォルダに格納せよ．"
   ]
  },
  {
   "cell_type": "code",
   "execution_count": null,
   "metadata": {},
   "outputs": [],
   "source": [
    "!mkdir -p data\n",
    "!wget -P data https://raw.githubusercontent.com/ground-zero-programming/zero-pro-data/refs/heads/main/data/data_analysis/exercise/higashi-hiroshima-temps.csv -O data/higashi-hiroshima-temps.csv"
   ]
  },
  {
   "cell_type": "markdown",
   "metadata": {},
   "source": [
    "次に，以下のセルを実行して `higashi-hiroshima-temps.csv` の内容を `df_temps` というDataFrameに格納せよ．"
   ]
  },
  {
   "cell_type": "code",
   "execution_count": null,
   "metadata": {},
   "outputs": [],
   "source": [
    "import pandas as pd\n",
    "\n",
    "df_temps = pd.read_csv('data/higashi-hiroshima-temps.csv') \n",
    "\n",
    "df_temps"
   ]
  },
  {
   "cell_type": "markdown",
   "metadata": {},
   "source": [
    "上記の出力結果から分かるように，本データは `年`，`月`，`平均気温` の3つの列から構成されており，1979年1月〜2022年10月までの平均気温が行方向に続いている．\n",
    "\n",
    "以降，この `df_temps` を用いて演習課題に解答すること．\n",
    "グラフを描画する際は，タイトルや軸ラベルなど，必要な情報を含めること．"
   ]
  },
  {
   "cell_type": "markdown",
   "metadata": {},
   "source": [
    "### 演習4-1\n",
    "\n",
    "`df_temps` から各年の11月の平均気温だけを抽出し，線グラフを描画せよ．\n",
    "なお，グラフの横軸は年，縦軸は平均気温とする．\n",
    "\n",
    "**出力例**\n",
    "\n",
    "![](./figs/kadai4-1_sample.png)"
   ]
  },
  {
   "cell_type": "code",
   "execution_count": null,
   "metadata": {},
   "outputs": [],
   "source": [
    "# 解答用セル\n"
   ]
  },
  {
   "cell_type": "markdown",
   "metadata": {},
   "source": [
    "### 演習4-2\n",
    "\n",
    "以下の仕様の関数を作成せよ．\n",
    "\n",
    "関数名：       `plot_temps` <br>\n",
    "引数：         `df`, `year`, `month` <br>\n",
    "処理の内容：    引数で渡されたDataFrame `df` に対し，`year` 年以降の `month` 月の平均気温を線グラフで出力する．\n",
    "\n",
    "※グラフの横軸は年，縦軸は平均気温とする．<br>\n",
    "※プログラムには，関数の呼び出し命令文を含めること（引数 `df` には `df_temps` を渡し，`year` と `month` は任意に設定して良い）．\n",
    "\n",
    "**実行例と出力例**\n",
    "\n",
    "```python\n",
    "# 2000年以降の11月の平均気温を出力したい場合\n",
    "plot_temps(df_temps, 2000, 11)\n",
    "```\n",
    "\n",
    "![](./figs/kadai4-2_sample.png)"
   ]
  },
  {
   "cell_type": "code",
   "execution_count": null,
   "metadata": {},
   "outputs": [],
   "source": [
    "# 解答用セル\n"
   ]
  },
  {
   "cell_type": "markdown",
   "metadata": {},
   "source": [
    "### 演習4-3\n",
    "\n",
    "以下の仕様の関数を作成せよ．\n",
    "\n",
    "関数名：       `plot_temps_multi` <br>\n",
    "引数：         `df`, `months` <br>\n",
    "処理の内容：    DataFrame `df` に対し，リスト `months` に格納された複数の月の平均気温をそえぞれ線グラフで重ねて出力する．\n",
    "\n",
    "※グラフの横軸は年，縦軸は平均気温とする．各線グラフは色分けし，グラフ中に凡例を示すこと．<br>\n",
    "※プログラムには，関数の呼び出し命令文を含めること（引数 `df` には `df_temps` を渡し，`year` と `month` は任意に設定して良い）．\n",
    "\n",
    "**実行例と出力例**\n",
    "\n",
    "```python\n",
    "# 1月, 4月, 9月, 12月の線グラフを重ねて表示する．\n",
    "plot_temps(df_temps, [1, 4, 9, 12])\n",
    "```\n",
    "\n",
    "![](./figs/kadai4-3_sample.png)"
   ]
  },
  {
   "cell_type": "code",
   "execution_count": null,
   "metadata": {},
   "outputs": [],
   "source": [
    "# 解答用セル\n"
   ]
  },
  {
   "cell_type": "markdown",
   "metadata": {},
   "source": [
    "### 演習4-4\n",
    "\n",
    "`df_temps` の1月〜12月の各月について，全ての年に対する「平均気温」の平均と標準偏差を計算せよ．\n",
    "\n",
    "また，横軸を「月」，縦軸を「平均気温」の平均とする棒グラフを描画せよ．\n",
    "このとき，棒グラフには「平均気温」の標準偏差をエラーバー（誤差範囲）として付与すること．\n",
    "\n",
    "**エラーバー（誤差範囲）の付け方**\n",
    "\n",
    "棒グラフにエラーバーを付ける際には，引数 `yerr` に誤差範囲を定義する値のリスト（例：標準偏差や標準誤差など）を渡せば良い．\n",
    "\n",
    "例えば，変数 `Y_std` に誤差範囲を定義する値のリストが入っている場合は，以下のように書く．\n",
    "\n",
    "```python\n",
    "plt.bar(X, Y, yerr=Y_std)\n",
    "```\n",
    "\n",
    "**出力例**\n",
    "\n",
    "![](./figs/kadai4-4_sample.png)"
   ]
  },
  {
   "cell_type": "code",
   "execution_count": null,
   "metadata": {},
   "outputs": [],
   "source": [
    "# 解答用セル\n"
   ]
  }
 ],
 "metadata": {
  "kernelspec": {
   "display_name": "Python 3.9.7 ('zeropro-book')",
   "language": "python",
   "name": "python3"
  },
  "language_info": {
   "codemirror_mode": {
    "name": "ipython",
    "version": 3
   },
   "file_extension": ".py",
   "mimetype": "text/x-python",
   "name": "python",
   "nbconvert_exporter": "python",
   "pygments_lexer": "ipython3",
   "version": "3.9.7"
  },
  "orig_nbformat": 4,
  "vscode": {
   "interpreter": {
    "hash": "13b92c06b6e5ed457c2ffbe8aafd0597ab041ad1a918995ab3a6bf23080bab16"
   }
  }
 },
 "nbformat": 4,
 "nbformat_minor": 2
}
