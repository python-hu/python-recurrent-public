{
 "cells": [
  {
   "cell_type": "markdown",
   "metadata": {},
   "source": [
    "# イントロダクションとGoogle Colaboratoryの導入\n",
    "\n",
    "担当：古居彬"
   ]
  },
  {
   "cell_type": "markdown",
   "metadata": {},
   "source": [
    "## Google Colaboratoryの使い方\n",
    "\n",
    "本講義では，Google Colabolatoryを用いてPythonによるプログラミングを学びます．\n",
    "Google Colabolatoryとは，その名の通りGoogleが提供するJupyter Notebook環境であり，クラウド上で実行できるため，ブラウザがあれば無料で利用することができます．\n",
    "\n",
    "Googleアカウントを持っていない人は，あらかじめ作成しておきましょう．\n",
    "\n",
    "### Colaboratoryの立ち上げ\n",
    "\n",
    "ブラウザにGoogleアカウントでログインした状態で，以下のURLを開いてください．\n",
    "\n",
    "- [https://colab.research.google.com](https://colab.research.google.com)\n",
    "\n",
    "以下の画面が出たら，ひとまず「キャンセル」を選択しておいたください．\n",
    "\n",
    "![](./figs/colab_0.png)\n",
    "\n",
    "\n",
    "### ノートブックの作成方法\n",
    "\n",
    "空のノートブックを新たに作成するには，Colaboratoryのファイルメニューから「ノートブックを新規作成」を選択してください．\n",
    "\n",
    "![](./figs/colab_1.png)\n",
    "\n",
    "以下のように，`Untitled0.ipynb` という名前のノートブックが作成されます．\n",
    "\n",
    "![](./figs/colab_2.png)\n",
    "\n",
    "ノートブックの名前を変更するには，上側に表示されたタイトル部分をクリックすればOKです．\n",
    "以下の例では，`test.ipynb` という名前に変更しています．\n",
    "\n",
    "![](./figs/colab_3.png)\n",
    "\n",
    "### ノートブックの保存場所\n",
    "\n",
    "作成したノートブックは，Googleドライブ上に自動的に保存されます．\n",
    "具体的には，Googleドライブの `マイドライブ -> Colab Notebooks` というフォルダ内になります．\n",
    "\n",
    "Colaboratoryのファイルメニューから「ドライブで探す」をクリックすると，直接上記フォルダを開くことができます．\n",
    "\n",
    "### ノートブックのダウンロード\n",
    "\n",
    "作成したノートブックは自分のパソコン上にダウンロードすることができます．\n",
    "\n",
    "Colaboratoryのファイルメニューで「ノートブックをダウンロード」を選択すればOKです．\n",
    "\n",
    "![](./figs/colab_download.png)\n",
    "\n",
    "### ノートブックのアップロード\n",
    "\n",
    "自分のパソコン上のノートブックは，Colaboratoryのファイルメニューで「ノートブックをアップロード」を選択することでアップロードして開くことができます．\n",
    "\n",
    "![](./figs/colab_upload.png)"
   ]
  },
  {
   "cell_type": "markdown",
   "metadata": {},
   "source": [
    "## Google Colaboratoryを使った教材の開き方\n",
    "\n",
    "本講義で利用する教材は，サポートページから直接Colaboratoryで開くことができます．\n",
    "\n",
    "実際に，このページをColaboratoryで開いてみましょう．\n",
    "\n",
    "ページ上方にロケットのようなマークがあるので，それにマウスカーソルを合わせましょう．\n",
    "「Colab」というメニューが表示されるので，それをクリックしてください．\n",
    "\n",
    "![](./figs/colab_bottun.png)\n",
    "\n",
    "すると，以下のようにGoogle Colaboratory上で本教材が開かれます．\n",
    "\n",
    "![](./figs/colab_launch.png)\n",
    "\n",
    "Google Colaboratoryで開いた教材を用いることで，実際に教材中のプログラムを動かしたり，自分でちょっと書き換えたりすることができます．\n",
    "\n",
    "なお，上記の手順で開いた教材ですが，ノートブックを操作した結果はGoogle Drive上に保存されません．\n",
    "ノートブックの上側にある「ドライブをコピー」というボタンを押せば，自分のGoogle Drive上にノートブックのコピーが作成されます．"
   ]
  },
  {
   "cell_type": "markdown",
   "metadata": {},
   "source": [
    "## ノートブックの操作\n",
    "\n",
    "ここからは，実際にGoogle Colaboratory上で本ノートブックを動かしながら進めましょう．\n",
    "\n",
    "### セル\n",
    "\n",
    "ノートブックはセルで構成されています．\n",
    "\n",
    "主に，以下の二種類のセルを用います．\n",
    "\n",
    "- コードセル：Pythonのコードが書かれたセルです．コードセルの左側には `[ ]` という表示があります．そこにマウスカーソルを持っていくと，再生ボタン `▶︎` が表示されます．コードセル内のコードを実行するには，この再生ボタン `▶︎` をクリックするか，対象のセルを選択した状態でキーボードのShiftを押しながらEnterを押します．\n",
    "- テキストセル：説明が書かれたセルです．このセル自身はテキストセルです．\n",
    "\n",
    "本講義では，主にコードセルを実行したり，自分でコードセルの内容を編集したりしながらプログラムを学習していきます．\n",
    "\n",
    "なお，教材のセルを実行する際，以下のような警告が出るかもしれません．\n",
    "\n",
    "![](./figs/colab_warning.png)\n",
    "\n",
    "その場合は，気にせず「そのまま実行」をクリックしてください．"
   ]
  },
  {
   "cell_type": "markdown",
   "metadata": {},
   "source": [
    "### セルの実行\n",
    "\n",
    "それでは早速セルを実行してみましょう．\n",
    "\n",
    "次のコードセル内にマウスカーソルを移動しクリックすると，コードセルが選択されます．\n",
    "その状態でセル左側の再生ボタン `▶︎` をクリックするか，Shiftを押しながらEnterを押してみてください．"
   ]
  },
  {
   "cell_type": "code",
   "execution_count": 1,
   "metadata": {},
   "outputs": [
    {
     "name": "stdout",
     "output_type": "stream",
     "text": [
      "Hello World!\n"
     ]
    }
   ],
   "source": [
    "print('Hello World!')"
   ]
  },
  {
   "cell_type": "markdown",
   "metadata": {},
   "source": [
    "コードセルの下に，「Hello World!」という文字列表示されたと思います．\n",
    "このように，実行したセルの下側にはそのセル内で実行した処理の結果が表示されます．\n",
    "\n",
    "ちなみに，上記の `print()`は，文字列を画面上に出力するための命令を与えるものです．\n",
    "\n",
    "```python\n",
    "print('出力したい文字列')\n",
    "```\n",
    "\n",
    "と書くことで，他の文字列も表示することができます．\n",
    "なお，出力したい文字列の前後を シングルクォーテーション（`'`）または ダブルクォーテーション（`\"`）で囲うことに注意しましょう．\n",
    "\n",
    "#### 練習\n",
    "\n",
    "では，少し練習してみましょう．\n",
    "次のコードセルを選択して，先ほど実行した例を参考に「Hello Python!」という文字列が出力されるようなコードを書いてみてください．"
   ]
  },
  {
   "cell_type": "code",
   "execution_count": 2,
   "metadata": {},
   "outputs": [
    {
     "name": "stdout",
     "output_type": "stream",
     "text": [
      "Hello Python!\n"
     ]
    }
   ],
   "source": [
    "print('Hello Python!')"
   ]
  },
  {
   "cell_type": "markdown",
   "metadata": {},
   "source": [
    "うまく動いたでしょうか？\n",
    "このようにセルにコードを書いたり，編集したりしながらプログラムを実行していきます．"
   ]
  },
  {
   "cell_type": "markdown",
   "metadata": {},
   "source": [
    "### 簡単な算術計算\n",
    "\n",
    "さて，文字列を表示する以外の例として，算術計算もやってみましょう．\n",
    "\n",
    "コードセル内に計算式を記入して実行すると，電卓のようにその計算結果が出力されます．\n",
    "例えば足し算の例として，以下のセルに `1 + 1` と入力し，実行してみてください．"
   ]
  },
  {
   "cell_type": "code",
   "execution_count": 3,
   "metadata": {},
   "outputs": [
    {
     "data": {
      "text/plain": [
       "2"
      ]
     },
     "execution_count": 3,
     "metadata": {},
     "output_type": "execute_result"
    }
   ],
   "source": [
    "1 + 1"
   ]
  },
  {
   "cell_type": "markdown",
   "metadata": {},
   "source": [
    "`1 + 1` の結果である `2` が出力されたかと思います．\n",
    "\n",
    "足し算以外にも一般的な四則演算として引き算 `-`，掛け算 `*`，割り算 `/` などが用意されています．\n",
    "\n",
    "それぞれやってみましょう．\n",
    "\n",
    "次のセルに `45 - 12` と入力して実行してください．"
   ]
  },
  {
   "cell_type": "code",
   "execution_count": 4,
   "metadata": {},
   "outputs": [
    {
     "data": {
      "text/plain": [
       "33"
      ]
     },
     "execution_count": 4,
     "metadata": {},
     "output_type": "execute_result"
    }
   ],
   "source": [
    "45 - 12"
   ]
  },
  {
   "cell_type": "markdown",
   "metadata": {},
   "source": [
    "次のセルに `12 * 10` と入力して実行してください．"
   ]
  },
  {
   "cell_type": "code",
   "execution_count": 5,
   "metadata": {},
   "outputs": [
    {
     "data": {
      "text/plain": [
       "120"
      ]
     },
     "execution_count": 5,
     "metadata": {},
     "output_type": "execute_result"
    }
   ],
   "source": [
    "12 * 10"
   ]
  },
  {
   "cell_type": "markdown",
   "metadata": {},
   "source": [
    "次のセルに `10 / 3` と入力して実行してください．"
   ]
  },
  {
   "cell_type": "code",
   "execution_count": 6,
   "metadata": {},
   "outputs": [
    {
     "data": {
      "text/plain": [
       "3.3333333333333335"
      ]
     },
     "execution_count": 6,
     "metadata": {},
     "output_type": "execute_result"
    }
   ],
   "source": [
    "10 / 3"
   ]
  },
  {
   "cell_type": "markdown",
   "metadata": {},
   "source": [
    "`//` を使うと余りが切り捨てられ，整数値が得られます．"
   ]
  },
  {
   "cell_type": "code",
   "execution_count": 7,
   "metadata": {},
   "outputs": [
    {
     "data": {
      "text/plain": [
       "5"
      ]
     },
     "execution_count": 7,
     "metadata": {},
     "output_type": "execute_result"
    }
   ],
   "source": [
    "17 // 3"
   ]
  },
  {
   "cell_type": "markdown",
   "metadata": {},
   "source": [
    "余り（剰余）は `%` で計算できます．例：17を3で割ると2余る"
   ]
  },
  {
   "cell_type": "code",
   "execution_count": 8,
   "metadata": {},
   "outputs": [
    {
     "data": {
      "text/plain": [
       "2"
      ]
     },
     "execution_count": 8,
     "metadata": {},
     "output_type": "execute_result"
    }
   ],
   "source": [
    "17 % 3"
   ]
  },
  {
   "cell_type": "markdown",
   "metadata": {},
   "source": [
    "べき乗の計算は `**` で実行できます．例：$2^{10} = 1024$"
   ]
  },
  {
   "cell_type": "code",
   "execution_count": 9,
   "metadata": {},
   "outputs": [
    {
     "data": {
      "text/plain": [
       "1024"
      ]
     },
     "execution_count": 9,
     "metadata": {},
     "output_type": "execute_result"
    }
   ],
   "source": [
    "2**10"
   ]
  },
  {
   "cell_type": "markdown",
   "metadata": {},
   "source": [
    "複数の計算はまとめることができます．"
   ]
  },
  {
   "cell_type": "code",
   "execution_count": 10,
   "metadata": {},
   "outputs": [
    {
     "data": {
      "text/plain": [
       "73.69426751592357"
      ]
     },
     "execution_count": 10,
     "metadata": {},
     "output_type": "execute_result"
    }
   ],
   "source": [
    "10 + 2 * 100 / 3.14"
   ]
  },
  {
   "cell_type": "markdown",
   "metadata": {},
   "source": [
    "数式の計算と同じように計算には優先順序があり，括弧 `( )` を使うことで優先的に計算されます．"
   ]
  },
  {
   "cell_type": "code",
   "execution_count": 11,
   "metadata": {},
   "outputs": [
    {
     "data": {
      "text/plain": [
       "-5.0"
      ]
     },
     "execution_count": 11,
     "metadata": {},
     "output_type": "execute_result"
    }
   ],
   "source": [
    "10 * (2 - 3) / 2"
   ]
  },
  {
   "cell_type": "markdown",
   "metadata": {},
   "source": [
    "せっかくですので，上記数式の中の数字を色々変えてみて，実際に計算結果が変わることを確かめてみてください．"
   ]
  },
  {
   "cell_type": "markdown",
   "metadata": {},
   "source": [
    "### セルの追加\n",
    "\n",
    "コードセルを新たに挿入するには，上側のメニューバーの「`+ コード`」ボタンをクリックします．\n",
    "\n",
    "![](./figs/colab_add_cell.png)\n",
    "\n",
    "現在選択されているセルの下にコードセルが新たに追加されます．\n",
    "\n",
    "試しに，↓のセルを選択した状態で，「`+ コード`」ボタンをクリックしてみてください．"
   ]
  },
  {
   "cell_type": "code",
   "execution_count": 12,
   "metadata": {},
   "outputs": [],
   "source": [
    "# このコードセルを選択した状態で，「+ コード」ボタンをクリックする"
   ]
  },
  {
   "cell_type": "markdown",
   "metadata": {},
   "source": [
    "空のコードセルが追加されたかと思います．\n",
    "\n",
    "同様に，テキストセルを追加したい場合は，同じメニューバーの「`+ テキスト`」をクリックすればOKです．"
   ]
  },
  {
   "cell_type": "markdown",
   "metadata": {},
   "source": [
    "### セルの操作\n",
    "\n",
    "セルを選択すると，セルの右上に色々なボタンが表示されます．\n",
    "\n",
    "これらをクリックすることで，セルの移動やコピー，削除などさまざまな操作を行うことができます．"
   ]
  },
  {
   "cell_type": "markdown",
   "metadata": {},
   "source": [
    "### コメント\n",
    "\n",
    "Pythonでは，コード中に `#` が記載してあると，それ以降，その行の終わりまでが **コメント** として扱われます．\n",
    "コメントの部分はプログラム実行時には無視されるため，コードに関する補足説明などを記載するときに利用されます．"
   ]
  },
  {
   "cell_type": "code",
   "execution_count": 13,
   "metadata": {},
   "outputs": [
    {
     "data": {
      "text/plain": [
       "2.0"
      ]
     },
     "execution_count": 13,
     "metadata": {},
     "output_type": "execute_result"
    }
   ],
   "source": [
    "# このように行頭に `#` を書くことで，その行全体がコメントとなる．\n",
    "\n",
    "10 / 5 # このように行の途中からコメントを書くこともできる"
   ]
  },
  {
   "cell_type": "code",
   "execution_count": 14,
   "metadata": {},
   "outputs": [
    {
     "data": {
      "text/plain": [
       "5.0"
      ]
     },
     "execution_count": 14,
     "metadata": {},
     "output_type": "execute_result"
    }
   ],
   "source": [
    "# 以下のようにコード行にコメントを付け，その部分を無視させることもよく行われる．\n",
    "\n",
    "# 10 / 5\n",
    "10 / 2 # こちらのみ実行される"
   ]
  },
  {
   "cell_type": "markdown",
   "metadata": {},
   "source": [
    "今後，コード中に補足説明などを示す場合にコメントが登場するので，注意しておきましょう．\n",
    "なお，コメントの部分は色も変わるので，実行されるコード部分との違いは比較的分かりやすいかと思います．"
   ]
  }
 ],
 "metadata": {
  "kernelspec": {
   "display_name": "Python 3.9.7 64-bit ('3.9.7')",
   "language": "python",
   "name": "python3"
  },
  "language_info": {
   "codemirror_mode": {
    "name": "ipython",
    "version": 3
   },
   "file_extension": ".py",
   "mimetype": "text/x-python",
   "name": "python",
   "nbconvert_exporter": "python",
   "pygments_lexer": "ipython3",
   "version": "3.9.7"
  },
  "orig_nbformat": 4,
  "vscode": {
   "interpreter": {
    "hash": "1dd5fcae8eee6fdb6791d29f7ff02c2b615e0a925eeacb222cc8b7dd54597305"
   }
  }
 },
 "nbformat": 4,
 "nbformat_minor": 2
}
