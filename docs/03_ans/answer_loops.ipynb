{
 "cells": [
  {
   "cell_type": "markdown",
   "metadata": {},
   "source": [
    "# 繰り返し処理（解答）"
   ]
  },
  {
   "cell_type": "markdown",
   "metadata": {},
   "source": [
    "## 演習1:`for`文による繰り返し処理"
   ]
  },
  {
   "cell_type": "markdown",
   "metadata": {},
   "source": [
    "### 演習1-1\n",
    "${0,1,2,...,10}$ の値を要素として持つリスト `l` を定義して，以下の出力例となるように各要素を `for` 文を使って出力せよ． \n",
    "\n",
    "**出力**\n",
    "```python\n",
    "0\n",
    "1\n",
    "2\n",
    "3\n",
    "4\n",
    "5\n",
    "6\n",
    "7\n",
    "8\n",
    "9\n",
    "10\n",
    "```"
   ]
  },
  {
   "cell_type": "code",
   "execution_count": 1,
   "metadata": {},
   "outputs": [
    {
     "name": "stdout",
     "output_type": "stream",
     "text": [
      "0\n",
      "1\n",
      "2\n",
      "3\n",
      "4\n",
      "5\n",
      "6\n",
      "7\n",
      "8\n",
      "9\n",
      "10\n"
     ]
    }
   ],
   "source": [
    "# 解答\n",
    "l = [0,1,2,3,4,5,6,7,8,9,10]\n",
    "for i in l:\n",
    "    print(i)"
   ]
  },
  {
   "cell_type": "markdown",
   "metadata": {},
   "source": [
    "### 演習1-2\n",
    "以下の出力結果となるように`range`関数と`for`文を用いて${0,1,2,...,10}$の値を出力する処理を作成せよ\n",
    "\n",
    "**出力**\n",
    "```python\n",
    "0\n",
    "1\n",
    "2\n",
    "3\n",
    "4\n",
    "5\n",
    "6\n",
    "7\n",
    "8\n",
    "9\n",
    "10\n",
    "```"
   ]
  },
  {
   "cell_type": "code",
   "execution_count": 2,
   "metadata": {},
   "outputs": [
    {
     "name": "stdout",
     "output_type": "stream",
     "text": [
      "0\n",
      "1\n",
      "2\n",
      "3\n",
      "4\n",
      "5\n",
      "6\n",
      "7\n",
      "8\n",
      "9\n",
      "10\n"
     ]
    }
   ],
   "source": [
    "# 解答\n",
    "for i in range(11):\n",
    "    print(i)"
   ]
  },
  {
   "cell_type": "markdown",
   "metadata": {},
   "source": [
    "### 演習1-3\n",
    "以下の出力結果となるように`range`関数と`for`文を用いて処理を作成せよ．\n",
    "\n",
    "**出力**\n",
    "```python\n",
    "1\n",
    "2\n",
    "4\n",
    "8\n",
    "16\n",
    "32\n",
    "64\n",
    "128\n",
    "256\n",
    "512\n",
    "1024\n",
    "```"
   ]
  },
  {
   "cell_type": "code",
   "execution_count": 3,
   "metadata": {},
   "outputs": [
    {
     "name": "stdout",
     "output_type": "stream",
     "text": [
      "1\n",
      "2\n",
      "4\n",
      "8\n",
      "16\n",
      "32\n",
      "64\n",
      "128\n",
      "256\n",
      "512\n",
      "1024\n"
     ]
    }
   ],
   "source": [
    "# 解答\n",
    "for i in range(11):\n",
    "    a = 2 ** i\n",
    "    print(a)"
   ]
  },
  {
   "cell_type": "markdown",
   "metadata": {},
   "source": [
    "### 演習1-4\n",
    "`range`関数と`for`文を用いて以下の要素を持つリストを作成せよ．\n",
    "\n",
    "ヒント：`append`関数を使うとリストに要素を追加できる．\n",
    "\n",
    "**出力**\n",
    "```python\n",
    "[0, 2, 4, 6, 8, 10, 12, 14, 16, 18, 20]\n",
    "```"
   ]
  },
  {
   "cell_type": "code",
   "execution_count": 4,
   "metadata": {},
   "outputs": [
    {
     "name": "stdout",
     "output_type": "stream",
     "text": [
      "[0, 2, 4, 6, 8, 10, 12, 14, 16, 18, 20]\n"
     ]
    }
   ],
   "source": [
    "# 解答\n",
    "l_loop = []\n",
    "for i in range(0, 22, 2):\n",
    "    l_loop.append(i)\n",
    "print(l_loop)"
   ]
  },
  {
   "cell_type": "markdown",
   "metadata": {},
   "source": [
    "### 演習1-5\n",
    "文字列`hiroshima`を作成し，以下の出力結果となるように`for`文を用いて繰り返し処理を作成せよ．\n",
    "\n",
    "**出力**\n",
    "```python\n",
    "h\n",
    "i\n",
    "r\n",
    "o\n",
    "s\n",
    "h\n",
    "i\n",
    "m\n",
    "a\n",
    "```"
   ]
  },
  {
   "cell_type": "code",
   "execution_count": 5,
   "metadata": {},
   "outputs": [
    {
     "name": "stdout",
     "output_type": "stream",
     "text": [
      "h\n",
      "i\n",
      "r\n",
      "o\n",
      "s\n",
      "h\n",
      "i\n",
      "m\n",
      "a\n"
     ]
    }
   ],
   "source": [
    "# 解答例\n",
    "ss = 'hiroshima'\n",
    "for s in ss:\n",
    "    print(s)"
   ]
  },
  {
   "cell_type": "markdown",
   "metadata": {},
   "source": [
    "### 演習1-6\n",
    "文字列`hiroshima`を作成し，以下の出力結果となるような繰り返し処理を作成せよ．\n",
    "\n",
    "**出力**\n",
    "```python\n",
    "h-1\n",
    "i-2\n",
    "r-3\n",
    "o-4\n",
    "s-5\n",
    "h-6\n",
    "i-7\n",
    "m-8\n",
    "a-9\n",
    "```"
   ]
  },
  {
   "cell_type": "code",
   "execution_count": 6,
   "metadata": {},
   "outputs": [
    {
     "name": "stdout",
     "output_type": "stream",
     "text": [
      "h-1\n",
      "i-2\n",
      "r-3\n",
      "o-4\n",
      "s-5\n",
      "h-6\n",
      "i-7\n",
      "m-8\n",
      "a-9\n"
     ]
    }
   ],
   "source": [
    "# 解答例\n",
    "ss = 'hiroshima'\n",
    "\n",
    "i = 1\n",
    "for s in ss:\n",
    "    print(f'{s}-{i}')\n",
    "    i = i + 1"
   ]
  },
  {
   "cell_type": "code",
   "execution_count": 7,
   "metadata": {},
   "outputs": [
    {
     "name": "stdout",
     "output_type": "stream",
     "text": [
      "h-1\n",
      "i-2\n",
      "r-3\n",
      "o-4\n",
      "s-5\n",
      "h-6\n",
      "i-7\n",
      "m-8\n",
      "a-9\n"
     ]
    }
   ],
   "source": [
    "# 解答例\n",
    "ss = 'hiroshima'\n",
    "\n",
    "for i, s in enumerate(ss):\n",
    "    print(f'{s}-{i+1}')"
   ]
  },
  {
   "cell_type": "markdown",
   "metadata": {},
   "source": [
    "### 演習1-7\n",
    "文字列`hiroshima`を作成し，以下の出力結果となるような繰り返し処理を作成せよ．\n",
    "\n",
    "**出力**\n",
    "```python\n",
    "h\n",
    "ii\n",
    "rrr\n",
    "oooo\n",
    "sssss\n",
    "hhhhhh\n",
    "iiiiiii\n",
    "mmmmmmmm\n",
    "aaaaaaaaa\n",
    "```"
   ]
  },
  {
   "cell_type": "code",
   "execution_count": null,
   "metadata": {},
   "outputs": [],
   "source": [
    "# 解答例\n",
    "ss = 'hiroshima'\n",
    "\n",
    "i = 1\n",
    "for s in ss:\n",
    "    print(s*i)\n",
    "    i = i + 1"
   ]
  },
  {
   "cell_type": "code",
   "execution_count": null,
   "metadata": {},
   "outputs": [],
   "source": [
    "# 解答例\n",
    "ss = 'hiroshima'\n",
    "\n",
    "for i, s in enumerate(ss):\n",
    "    print(s*(i+1))"
   ]
  },
  {
   "cell_type": "markdown",
   "metadata": {},
   "source": [
    "### 演習1-8\n",
    "文字列`hiroshima`を作成し，文字列の長さを繰り返し処理を用いて求めよ．ただし，`len`関数を用いてはならない．\n",
    "今回の `hiroshima` 例の場合，文字列の長さは `9` である．"
   ]
  },
  {
   "cell_type": "code",
   "execution_count": null,
   "metadata": {},
   "outputs": [],
   "source": [
    "# 解答例\n",
    "ss = 'hiroshima'\n",
    "\n",
    "i = 0\n",
    "for s in ss:\n",
    "    i += 1\n",
    "print(i)"
   ]
  },
  {
   "cell_type": "markdown",
   "metadata": {},
   "source": [
    "## 演習2:繰り返し処理と条件分岐"
   ]
  },
  {
   "cell_type": "markdown",
   "metadata": {},
   "source": [
    "### 演習2-1\n",
    "1から20までの整数を出力する際に，その数が偶数であれば\"偶数\"，奇数であれば\"奇数\"と出力するプログラムを繰り返し処理を用いて作成せよ\n",
    "\n",
    "**出力**\n",
    "```python\n",
    "1: 奇数\n",
    "2: 偶数\n",
    "3: 奇数\n",
    "4: 偶数\n",
    "...\n",
    "```"
   ]
  },
  {
   "cell_type": "code",
   "execution_count": null,
   "metadata": {},
   "outputs": [],
   "source": [
    "# 解答セル"
   ]
  },
  {
   "cell_type": "code",
   "execution_count": null,
   "metadata": {},
   "outputs": [],
   "source": [
    "# 解答例\n",
    "for i in range(1, 21):\n",
    "    if i % 2 == 0:\n",
    "        print(f\"{i}: 偶数\")\n",
    "    else:\n",
    "        print(f\"{i}: 奇数\")"
   ]
  },
  {
   "cell_type": "markdown",
   "metadata": {},
   "source": [
    "### 演習2-2\n",
    "以下の点数リストが与えられたとき，70点以上の点数を取った人は何人いるかを計算するプログラムを作成せよ．\n",
    "\n",
    "点数リスト: `[45, 78, 62, 89, 73, 55, 81, 68]`"
   ]
  },
  {
   "cell_type": "code",
   "execution_count": null,
   "metadata": {},
   "outputs": [],
   "source": [
    "# 解答例\n",
    "scores = [45, 78, 62, 89, 73, 55, 81, 68]\n",
    "count = 0\n",
    "for score in scores:\n",
    "    if score >= 70:\n",
    "        count += 1\n",
    "print(count)"
   ]
  },
  {
   "cell_type": "markdown",
   "metadata": {},
   "source": [
    "### 演習2-3\n",
    "以下の点数リストが与えられたとき，平均点を計算するプログラムを作成せよ．\n",
    "\n",
    "点数リスト: `[45, 78, 62, 89, 73, 55, 81, 68]`"
   ]
  },
  {
   "cell_type": "code",
   "execution_count": 14,
   "metadata": {},
   "outputs": [
    {
     "name": "stdout",
     "output_type": "stream",
     "text": [
      "68.875\n"
     ]
    }
   ],
   "source": [
    "# 解答例\n",
    "scores = [45, 78, 62, 89, 73, 55, 81, 68]\n",
    "total_score = 0\n",
    "for score in scores:\n",
    "    total_score += score\n",
    "average = total_score / len(scores)\n",
    "print(average)"
   ]
  },
  {
   "cell_type": "markdown",
   "metadata": {},
   "source": [
    "### 演習2-4\n",
    "文字列 `faehoieanfeaobasbaksfae` の中に含まれる `a` の数を繰り返し処理を用いて計算せよ．"
   ]
  },
  {
   "cell_type": "code",
   "execution_count": 15,
   "metadata": {},
   "outputs": [
    {
     "name": "stdout",
     "output_type": "stream",
     "text": [
      "6\n"
     ]
    }
   ],
   "source": [
    "# 解答例\n",
    "ss = 'faehoieanfeaobasbaksfae'\n",
    "i = 0\n",
    "for s in ss:\n",
    "    if s == 'a':\n",
    "        i = i + 1\n",
    "print(i)"
   ]
  },
  {
   "cell_type": "markdown",
   "metadata": {},
   "source": [
    "### 演習2-5\n",
    "以下の出力のように${1,2,...,999}$の数の中で$123$で割り切れる値をすべて出力せよ\n",
    "\n",
    "**出力**\n",
    "```python\n",
    "123\n",
    "246\n",
    "369\n",
    "492\n",
    "615\n",
    "738\n",
    "861\n",
    "984\n",
    "```"
   ]
  },
  {
   "cell_type": "code",
   "execution_count": 16,
   "metadata": {},
   "outputs": [
    {
     "name": "stdout",
     "output_type": "stream",
     "text": [
      "123\n",
      "246\n",
      "369\n",
      "492\n",
      "615\n",
      "738\n",
      "861\n",
      "984\n"
     ]
    }
   ],
   "source": [
    "# 解答例\n",
    "j = 123\n",
    "for i in range(1,1000):\n",
    "    if i % j == 0:\n",
    "        print(i)"
   ]
  },
  {
   "cell_type": "markdown",
   "metadata": {},
   "source": [
    "### 演習2-6\n",
    "以下の出力となるような繰り返し処理を作成せよ．ただし，`文字列.upper()`で小文字から大文字へ変換できるとする．\n",
    "\n",
    "**出力**\n",
    "```python\n",
    "h\n",
    "II\n",
    "rrr\n",
    "OOOO\n",
    "sssss\n",
    "HHHHHH\n",
    "iiiiiii\n",
    "MMMMMMMM\n",
    "aaaaaaaaa\n",
    "```"
   ]
  },
  {
   "cell_type": "code",
   "execution_count": 17,
   "metadata": {},
   "outputs": [
    {
     "name": "stdout",
     "output_type": "stream",
     "text": [
      "hiroshima\n",
      "HIROSHIMA\n"
     ]
    }
   ],
   "source": [
    "# サンプルコード\n",
    "s = 'hiroshima'\n",
    "print(s)\n",
    "\n",
    "print(s.upper())"
   ]
  },
  {
   "cell_type": "code",
   "execution_count": 18,
   "metadata": {},
   "outputs": [
    {
     "name": "stdout",
     "output_type": "stream",
     "text": [
      "h\n",
      "II\n",
      "rrr\n",
      "OOOO\n",
      "sssss\n",
      "HHHHHH\n",
      "iiiiiii\n",
      "MMMMMMMM\n",
      "aaaaaaaaa\n"
     ]
    }
   ],
   "source": [
    "# 解答例\n",
    "ss = 'hiroshima'\n",
    "\n",
    "i = 1\n",
    "for s in ss:\n",
    "    if i % 2 == 0:\n",
    "        s_ = s*i\n",
    "        print(s_.upper())\n",
    "    else:\n",
    "        print(s*i)\n",
    "    i = i + 1"
   ]
  },
  {
   "cell_type": "markdown",
   "metadata": {},
   "source": [
    "## 演習3:繰り返し処理と数列"
   ]
  },
  {
   "cell_type": "markdown",
   "metadata": {},
   "source": [
    "### 演習3-1\n",
    "1から10までの整数の総和（与えられた複数の数を全て足した和のこと）を求めるプログラムを`for`文を使用して作成せよ\n",
    "\n",
    "**出力**\n",
    "```python\n",
    "55\n",
    "```"
   ]
  },
  {
   "cell_type": "code",
   "execution_count": 19,
   "metadata": {},
   "outputs": [
    {
     "name": "stdout",
     "output_type": "stream",
     "text": [
      "55\n"
     ]
    }
   ],
   "source": [
    "# 解答例\n",
    "total = 0\n",
    "for i in range(1, 11):\n",
    "    total = total + i\n",
    "print(total)"
   ]
  },
  {
   "cell_type": "markdown",
   "metadata": {},
   "source": [
    "### 演習3-2\n",
    "1から5までの整数の総乗（与えられた複数の数を全て掛けた積のこと）を求めるプログラムを`for`文を使用して作成せよ\n",
    "\n",
    "**出力**\n",
    "```python\n",
    "120\n",
    "```"
   ]
  },
  {
   "cell_type": "code",
   "execution_count": 20,
   "metadata": {},
   "outputs": [
    {
     "name": "stdout",
     "output_type": "stream",
     "text": [
      "120\n"
     ]
    }
   ],
   "source": [
    "# 解答例\n",
    "product = 1\n",
    "for i in range(1, 6):\n",
    "    product = product * i\n",
    "print(product)"
   ]
  },
  {
   "cell_type": "markdown",
   "metadata": {},
   "source": [
    "### 演習3-3\n",
    "1から`n`までの整数の総和と総乗を求めるプログラムを`for`文を使用して作成せよ．\n",
    "\n",
    "ただし出力時は `n` に6以上の任意の値を代入せよ．\n",
    "\n",
    "**出力 (n=5の場合)**\n",
    "```python\n",
    "総和: 15\n",
    "総乗: 120\n",
    "```"
   ]
  },
  {
   "cell_type": "code",
   "execution_count": 21,
   "metadata": {},
   "outputs": [
    {
     "name": "stdout",
     "output_type": "stream",
     "text": [
      "総和: 15\n",
      "総乗: 120\n"
     ]
    }
   ],
   "source": [
    "# 解答例\n",
    "n = 5\n",
    "sum_value = 0\n",
    "prod_value = 1\n",
    "for i in range(1, n + 1):\n",
    "    sum_value = sum_value + i\n",
    "    prod_value = prod_value * i\n",
    "print(\"総和:\", sum_value)\n",
    "print(\"総乗:\", prod_value)"
   ]
  },
  {
   "cell_type": "markdown",
   "metadata": {},
   "source": [
    "## 演習4:発展課題\n",
    "これ以降は発展的な演習課題となります． 解くことは必須ではありませんがぜひチャレンジしてみてください．"
   ]
  },
  {
   "cell_type": "markdown",
   "metadata": {},
   "source": [
    "### 演習4-1\n",
    "繰り返し処理を使って以下の出力を得よ．\n",
    "\n",
    "**出力**\n",
    "```:python\n",
    "         H\n",
    "        III\n",
    "       RRRRR\n",
    "      OOOOOOO\n",
    "     SSSSSSSSS\n",
    "    HHHHHHHHHHH\n",
    "   IIIIIIIIIIIII\n",
    "  MMMMMMMMMMMMMMM\n",
    " AAAAAAAAAAAAAAAAA\n",
    "```"
   ]
  },
  {
   "cell_type": "code",
   "execution_count": 22,
   "metadata": {},
   "outputs": [
    {
     "name": "stdout",
     "output_type": "stream",
     "text": [
      "         H\n",
      "        III\n",
      "       RRRRR\n",
      "      OOOOOOO\n",
      "     SSSSSSSSS\n",
      "    HHHHHHHHHHH\n",
      "   IIIIIIIIIIIII\n",
      "  MMMMMMMMMMMMMMM\n",
      " AAAAAAAAAAAAAAAAA\n"
     ]
    }
   ],
   "source": [
    "# 解答例\n",
    "ss = 'HIROSHIMA'\n",
    "num_ss = len(ss)\n",
    "\n",
    "i = 0\n",
    "for s in ss:\n",
    "    side = ' ' * (num_ss-i)\n",
    "    print(side + s*i + s + s*i)\n",
    "    i = i + 1\n"
   ]
  },
  {
   "cell_type": "markdown",
   "metadata": {},
   "source": [
    "### 演習4-2\n",
    "\n",
    "条件分岐の発展課題のFizzBuzz問題を繰り返し処理で拡張する．\n",
    "変数 `number` の値を `1` から `20` まで繰り返し，`number` が\n",
    "\n",
    "- `3` で割り切れて `5` で割り切れないときは「`Fizz`」と出力\n",
    "- `5` で割り切れて `3` で割り切れない時は「`Buzz`」と出力\n",
    "- 両方で割り切れるときは「`FizzBuzz`」と出力\n",
    "- 両方で割り切れないときは，入力した数をそのまま出力\n",
    "\n",
    "とされるような繰り返し処理を実装せよ．\n",
    "\n",
    "出力例は以下である．\n",
    "\n",
    "**出力**\n",
    "```:python\n",
    "1\n",
    "2\n",
    "Fizz\n",
    "4\n",
    "Buzz\n",
    "Fizz\n",
    "7\n",
    "8\n",
    "Fizz\n",
    "Buzz\n",
    "11\n",
    "Fizz\n",
    "13\n",
    "14\n",
    "FizzBuzz\n",
    "16\n",
    "17\n",
    "Fizz\n",
    "19\n",
    "Buzz\n",
    "```"
   ]
  },
  {
   "cell_type": "code",
   "execution_count": 23,
   "metadata": {},
   "outputs": [
    {
     "name": "stdout",
     "output_type": "stream",
     "text": [
      "1\n",
      "2\n",
      "Fizz\n",
      "4\n",
      "Buzz\n",
      "Fizz\n",
      "7\n",
      "8\n",
      "Fizz\n",
      "Buzz\n",
      "11\n",
      "Fizz\n",
      "13\n",
      "14\n",
      "FizzBuzz\n",
      "16\n",
      "17\n",
      "Fizz\n",
      "19\n",
      "Buzz\n"
     ]
    }
   ],
   "source": [
    "# 解答例\n",
    "for number in range(1,21):\n",
    "    if number % 3 == 0 and number % 5 != 0:\n",
    "        print('Fizz')\n",
    "    elif number % 5 == 0 and number % 3 != 0:\n",
    "        print('Buzz')\n",
    "    elif number % 5 == 0 and number % 3 == 0:\n",
    "        print('FizzBuzz')\n",
    "    else:\n",
    "        print(number)"
   ]
  }
 ],
 "metadata": {
  "kernelspec": {
   "display_name": "zeropro-book",
   "language": "python",
   "name": "python3"
  },
  "language_info": {
   "codemirror_mode": {
    "name": "ipython",
    "version": 3
   },
   "file_extension": ".py",
   "mimetype": "text/x-python",
   "name": "python",
   "nbconvert_exporter": "python",
   "pygments_lexer": "ipython3",
   "version": "3.9.7"
  }
 },
 "nbformat": 4,
 "nbformat_minor": 2
}
