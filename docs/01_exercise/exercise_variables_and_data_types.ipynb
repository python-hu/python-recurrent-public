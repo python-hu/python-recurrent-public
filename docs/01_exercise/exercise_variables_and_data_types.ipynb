{
 "cells": [
  {
   "cell_type": "markdown",
   "metadata": {},
   "source": [
    "# 変数とデータ型（演習）\n",
    "\n",
    "---"
   ]
  },
  {
   "cell_type": "markdown",
   "metadata": {},
   "source": [
    "## 演習：変数の代入・出力・型の確認\n",
    "\n",
    "### 演習1\n",
    "整数`11`を変数`a`に代入し，`print`文を利用して変数を出力せよ"
   ]
  },
  {
   "cell_type": "code",
   "execution_count": null,
   "metadata": {},
   "outputs": [],
   "source": [
    "# 解答用セル"
   ]
  },
  {
   "cell_type": "markdown",
   "metadata": {},
   "source": [
    "### 演習2\n",
    "浮動小数点数 `3.14` を変数 `pi` に代入し，`print`文を利用して変数を出力せよ"
   ]
  },
  {
   "cell_type": "code",
   "execution_count": null,
   "metadata": {},
   "outputs": [],
   "source": [
    "# 解答用セル"
   ]
  },
  {
   "cell_type": "markdown",
   "metadata": {},
   "source": [
    "### 演習3\n",
    "文字列 `Hello, World!` を変数 `greeting` に代入し，`print`文を利用して変数を出力せよ"
   ]
  },
  {
   "cell_type": "code",
   "execution_count": null,
   "metadata": {},
   "outputs": [],
   "source": [
    "# 解答用セル"
   ]
  },
  {
   "cell_type": "markdown",
   "metadata": {},
   "source": [
    "### 演習４\n",
    "文字列 `広島大学` を変数 `university` に代入し，`print`文を利用して変数を出力せよ"
   ]
  },
  {
   "cell_type": "code",
   "execution_count": null,
   "metadata": {},
   "outputs": [],
   "source": [
    "# 解答用セル"
   ]
  },
  {
   "cell_type": "markdown",
   "metadata": {},
   "source": [
    "### 演習5\n",
    "リスト `[1, 2, 3, 4, 5]` を変数 `numbers` に代入し，`print`文を利用して変数を出力せよ"
   ]
  },
  {
   "cell_type": "code",
   "execution_count": null,
   "metadata": {},
   "outputs": [],
   "source": [
    "# 解答用セル"
   ]
  },
  {
   "cell_type": "markdown",
   "metadata": {},
   "source": [
    "### 演習6\n",
    "リスト `[1, \"one\", \"1\"]` を変数 `one` に代入し，その変数の型を確認せよ\n",
    "またリストのインデキシングを用いてリストの各要素の型を確認せよ"
   ]
  },
  {
   "cell_type": "code",
   "execution_count": null,
   "metadata": {},
   "outputs": [],
   "source": [
    "# 解答用セル"
   ]
  },
  {
   "cell_type": "markdown",
   "metadata": {},
   "source": [
    "## 演習：数値データの演算"
   ]
  },
  {
   "cell_type": "markdown",
   "metadata": {},
   "source": [
    "### 演習1\n",
    "整数値13が格納された変数`a`と整数値4が格納された変数`b`をそれぞれ定義し，`a`と`b`の足し算の結果を出力せよ\n",
    "\n",
    "**出力例**\n",
    "```python\n",
    "17\n",
    "```"
   ]
  },
  {
   "cell_type": "code",
   "execution_count": null,
   "metadata": {},
   "outputs": [],
   "source": [
    "# 解答用セル"
   ]
  },
  {
   "cell_type": "markdown",
   "metadata": {},
   "source": [
    "### 演習2\n",
    "整数値13が格納された変数`a`と整数値4が格納された変数`b`をそれぞれ定義し，`a`から`b`を引いた時の値を出力せよ\n",
    "\n",
    "**出力例**\n",
    "```python\n",
    "9\n",
    "```"
   ]
  },
  {
   "cell_type": "code",
   "execution_count": null,
   "metadata": {},
   "outputs": [],
   "source": [
    "# 解答用セル"
   ]
  },
  {
   "cell_type": "markdown",
   "metadata": {},
   "source": [
    "### 演習3\n",
    "整数値13が格納された変数`a`と整数値4が格納された変数`b`をそれぞれ定義し，`a`と`b`の積の結果を出力せよ\n",
    "\n",
    "**出力例**\n",
    "```python\n",
    "52\n",
    "```"
   ]
  },
  {
   "cell_type": "code",
   "execution_count": null,
   "metadata": {},
   "outputs": [],
   "source": [
    "# 解答用セル"
   ]
  },
  {
   "cell_type": "markdown",
   "metadata": {},
   "source": [
    "### 演習4\n",
    "整数値13が格納された変数`a`と整数値4が格納された変数`b`をそれぞれ定義し，`a`を`b`で割った結果を出力せよ\n",
    "\n",
    "**出力例**\n",
    "```python\n",
    "3.25\n",
    "```"
   ]
  },
  {
   "cell_type": "code",
   "execution_count": null,
   "metadata": {},
   "outputs": [],
   "source": [
    "# 解答用セル"
   ]
  },
  {
   "cell_type": "markdown",
   "metadata": {},
   "source": [
    "### 演習5\n",
    "整数値13が格納された変数`a`と整数値4が格納された変数`b`をそれぞれ定義し，`a`を`b`で割ったときの余りを出力せよ\n",
    "\n",
    "**出力例**\n",
    "```python\n",
    "1\n",
    "```"
   ]
  },
  {
   "cell_type": "code",
   "execution_count": null,
   "metadata": {},
   "outputs": [],
   "source": [
    "# 解答用セル"
   ]
  },
  {
   "cell_type": "markdown",
   "metadata": {},
   "source": [
    "### 演習6\n",
    "整数値13が格納された変数`a`と整数値4が格納された変数`b`をそれぞれ定義し，$a^b$の結果を出力せよ\n",
    "\n",
    "**出力例**\n",
    "```python\n",
    "28561\n",
    "```"
   ]
  },
  {
   "cell_type": "code",
   "execution_count": null,
   "metadata": {},
   "outputs": [],
   "source": [
    "# 解答用セル"
   ]
  },
  {
   "cell_type": "markdown",
   "metadata": {},
   "source": [
    "### 演習7\n",
    "$x^2 + 2x + 1$ に $x=1$ を代入したときの結果を求めよ．"
   ]
  },
  {
   "cell_type": "code",
   "execution_count": null,
   "metadata": {},
   "outputs": [],
   "source": [
    "# 解答用セル"
   ]
  },
  {
   "cell_type": "markdown",
   "metadata": {},
   "source": [
    "### 演習8\n",
    "$\\frac{a+b+c}{3}$ に $a=1, b=2, c=3$ を代入したときの結果を求めよ．"
   ]
  },
  {
   "cell_type": "code",
   "execution_count": null,
   "metadata": {},
   "outputs": [],
   "source": [
    "# 解答用セル"
   ]
  },
  {
   "cell_type": "markdown",
   "metadata": {},
   "source": [
    "### 演習9\n",
    "高さが2m，幅が3m，奥行きが4mの直方体の堆積を求めよ．"
   ]
  },
  {
   "cell_type": "code",
   "execution_count": null,
   "metadata": {},
   "outputs": [],
   "source": [
    "# 解答用セル"
   ]
  },
  {
   "cell_type": "markdown",
   "metadata": {},
   "source": [
    "### 演習10\n",
    "底辺が5cm，高さが10cmのときの三角形の面積を求めよ．"
   ]
  },
  {
   "cell_type": "code",
   "execution_count": null,
   "metadata": {},
   "outputs": [],
   "source": [
    "# 解答用セル"
   ]
  },
  {
   "cell_type": "markdown",
   "metadata": {},
   "source": [
    "## 演習：文字列\n",
    "### 演習1\n",
    "文字列`Ground Zero Programming!`が格納された変数`s`を定義し，変数の中身とデータ型を出力せよ\n",
    "\n",
    "**出力例**\n",
    "```python\n",
    "Ground Zero Programming!\n",
    "<class 'str'>\n",
    "```"
   ]
  },
  {
   "cell_type": "code",
   "execution_count": null,
   "metadata": {},
   "outputs": [],
   "source": [
    "# 解答用セル"
   ]
  },
  {
   "cell_type": "markdown",
   "metadata": {},
   "source": [
    "文字列の演習1で定義した変数`s`の文字数を出力せよ\n",
    "\n",
    "**出力例**\n",
    "```python\n",
    "24\n",
    "```"
   ]
  },
  {
   "cell_type": "code",
   "execution_count": null,
   "metadata": {},
   "outputs": [],
   "source": [
    "# 解答用セル"
   ]
  },
  {
   "cell_type": "markdown",
   "metadata": {},
   "source": [
    "### 演習3\n",
    "文字列の演習1で定義した変数`s`についてインデキシングを利用して`G`，`Z`，`P`，`!`を出力せよ\n",
    "\n",
    "**出力例**\n",
    "```python\n",
    "G\n",
    "Z\n",
    "P\n",
    "!\n",
    "```"
   ]
  },
  {
   "cell_type": "code",
   "execution_count": null,
   "metadata": {},
   "outputs": [],
   "source": [
    "# 解答用セル"
   ]
  },
  {
   "cell_type": "markdown",
   "metadata": {},
   "source": [
    "### 演習4\n",
    "文字列の演習1で定義した変数`s`についてスライシングを利用して`Zero`を出力せよ\n",
    "\n",
    "**出力例**\n",
    "```python\n",
    "Zero\n",
    "```"
   ]
  },
  {
   "cell_type": "code",
   "execution_count": null,
   "metadata": {},
   "outputs": [],
   "source": [
    "# 解答用セル"
   ]
  },
  {
   "cell_type": "markdown",
   "metadata": {},
   "source": [
    "### 演習5\n",
    "文字列 \"Hello\" と \"World\" を格納した変数をそれぞれ定義して，これらを連結した結果を出力せよ．\n",
    "\n",
    "**出力例**\n",
    "```python\n",
    "HelloWorld\n",
    "```"
   ]
  },
  {
   "cell_type": "code",
   "execution_count": null,
   "metadata": {},
   "outputs": [],
   "source": [
    "# 解答用セル"
   ]
  },
  {
   "cell_type": "markdown",
   "metadata": {},
   "source": [
    "### 演習6\n",
    "文字列 \"one,two,three\" を定義して，文字 \",\" で区切った \"one\"， \"two\"， \"three\"を含むリストを作成せよ\n",
    "\n",
    "**出力例**\n",
    "```python\n",
    "['one', 'two', 'three']\n",
    "```"
   ]
  },
  {
   "cell_type": "code",
   "execution_count": null,
   "metadata": {},
   "outputs": [],
   "source": [
    "# 解答用セル"
   ]
  },
  {
   "cell_type": "markdown",
   "metadata": {},
   "source": [
    "### 演習7\n",
    "文字列 \"abcdefghijklmn\" から偶数インデックスの文字だけを取り出し，その結果を出力せよ．\n",
    "\n",
    "**出力例**\n",
    "```python\n",
    "acegikm\n",
    "```"
   ]
  },
  {
   "cell_type": "code",
   "execution_count": null,
   "metadata": {},
   "outputs": [],
   "source": [
    "# 解答用セル"
   ]
  },
  {
   "cell_type": "markdown",
   "metadata": {},
   "source": [
    "### 演習8\n",
    "文字列 \"543212345\" の中央の文字を取り出し，その結果を出力せよ．ただし文字列の長さは奇数であるとする．\n",
    "\n",
    "**出力例**\n",
    "```python\n",
    "1\n",
    "```"
   ]
  },
  {
   "cell_type": "code",
   "execution_count": null,
   "metadata": {},
   "outputs": [],
   "source": [
    "# 解答用セル"
   ]
  },
  {
   "cell_type": "markdown",
   "metadata": {},
   "source": [
    "## 演習：リスト"
   ]
  },
  {
   "cell_type": "markdown",
   "metadata": {},
   "source": [
    "### 演習1\n",
    "以下の4つの値を持つリスト `l` を作成し，`l`の値とデータ型を出力せよ\n",
    "\n",
    "**値**\n",
    "```python\n",
    "27.4\n",
    "29.0\n",
    "33.8\n",
    "30.1\n",
    "```\n",
    "\n",
    "**出力例**\n",
    "```python\n",
    "[27.4, 29.0, 33.8, 30.1]\n",
    "<class 'list'>\n",
    "```"
   ]
  },
  {
   "cell_type": "code",
   "execution_count": null,
   "metadata": {},
   "outputs": [],
   "source": [
    "# 解答用セル"
   ]
  },
  {
   "cell_type": "markdown",
   "metadata": {},
   "source": [
    "### 演習2\n",
    "リストの演習1で定義したリスト`l`の要素数を出力せよ\n",
    "\n",
    "**出力例**\n",
    "```python\n",
    "4\n",
    "```"
   ]
  },
  {
   "cell_type": "code",
   "execution_count": null,
   "metadata": {},
   "outputs": [],
   "source": [
    "# 解答用セル"
   ]
  },
  {
   "cell_type": "markdown",
   "metadata": {},
   "source": [
    "### 演習3\n",
    "リストの演習1で定義したリスト`l`に含まれる値`33.8`をインデキシングを利用して出力せよ\n",
    "\n",
    "**出力例**\n",
    "```python\n",
    "33.8\n",
    "```"
   ]
  },
  {
   "cell_type": "code",
   "execution_count": null,
   "metadata": {},
   "outputs": [],
   "source": [
    "# 解答用セル"
   ]
  },
  {
   "cell_type": "markdown",
   "metadata": {},
   "source": [
    "### 演習4\n",
    "リストの演習1で定義したリスト`l`に含まれる2つの値`29.0`と`33.8`をスライシングを利用して出力せよ\n",
    "\n",
    "**出力例**\n",
    "```python\n",
    "[29.0, 33.8]\n",
    "```"
   ]
  },
  {
   "cell_type": "code",
   "execution_count": null,
   "metadata": {},
   "outputs": [],
   "source": [
    "# 解答用セル"
   ]
  },
  {
   "cell_type": "markdown",
   "metadata": {},
   "source": [
    "### 演習5\n",
    "リスト `[1, 2, 3, 4, 5]` の最初の要素を `10` に置き換えよ\n",
    "\n",
    "**出力例**\n",
    "```python\n",
    "[10, 2, 3, 4, 5]\n",
    "```"
   ]
  },
  {
   "cell_type": "code",
   "execution_count": null,
   "metadata": {},
   "outputs": [],
   "source": [
    "# 解答用セル"
   ]
  },
  {
   "cell_type": "markdown",
   "metadata": {},
   "source": [
    "### 演習6\n",
    "リスト `[1, 2, 3, 4, 5]` を定義して最初と最後の値を取得し，これらを置き換えたリストを作成せよ．\n",
    "\n",
    "**出力例**\n",
    "```python\n",
    "[5, 2, 3, 4, 1]\n",
    "```"
   ]
  },
  {
   "cell_type": "code",
   "execution_count": null,
   "metadata": {},
   "outputs": [],
   "source": [
    "# 解答用セル"
   ]
  },
  {
   "cell_type": "markdown",
   "metadata": {},
   "source": [
    "### 演習7\n",
    "`insert`と`remove`を用いてリスト `[1, 2, 3, 4, 5]` を1つ右に回転させよ．すなわち，出力例のように最後の要素が最初に移動する．\n",
    "\n",
    "**出力例**\n",
    "```python\n",
    "[5, 1, 2, 3, 4]\n",
    "```"
   ]
  },
  {
   "cell_type": "code",
   "execution_count": null,
   "metadata": {},
   "outputs": [],
   "source": [
    "# 解答用セル"
   ]
  }
 ],
 "metadata": {
  "kernelspec": {
   "display_name": "Python 3 (ipykernel)",
   "language": "python",
   "name": "python3"
  },
  "language_info": {
   "codemirror_mode": {
    "name": "ipython",
    "version": 3
   },
   "file_extension": ".py",
   "mimetype": "text/x-python",
   "name": "python",
   "nbconvert_exporter": "python",
   "pygments_lexer": "ipython3",
   "version": "3.9.13"
  },
  "vscode": {
   "interpreter": {
    "hash": "393df73654aeede13ebb91076020de1190a2bd60e987ac18d822283f0caa6730"
   }
  }
 },
 "nbformat": 4,
 "nbformat_minor": 2
}
