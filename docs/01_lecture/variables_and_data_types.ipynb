{
 "cells": [
  {
   "cell_type": "markdown",
   "metadata": {},
   "source": [
    "# 変数とデータ型（講義）\n",
    "担当：相澤宏旭"
   ]
  },
  {
   "cell_type": "markdown",
   "metadata": {},
   "source": [
    "## 内容\n",
    "変数とデータ型では，プログラミングの基礎である変数の概念と変数の種類に応じたデータ型について学ぶ．変数はPythonだけでなくC言語やJava言語など他のプログラミング言語にもわたる普遍的な仕組みである．変数の理解はデータの保存やデータ同士の演算だけでなく，効率的にデータを扱うために重要である．具体的には，以下の項目について理解し，変数を使いこなせることが本講義の目標である．\n",
    "\n",
    "- データが格納された変数の概念を理解する．\n",
    "- 変数の定義，参照，更新方法，定義した変数の型を調べる方法を学ぶ．\n",
    "- 変数同士の演算について学ぶ．\n",
    "- 変数のデータ型の変換や発展的なデータ型について学ぶ．"
   ]
  },
  {
   "cell_type": "markdown",
   "metadata": {},
   "source": [
    "## 変数とは？\n",
    "我々は **プログラミング言語** を介してコンピュータに任意の **演算** を指示することができる．演算とは四則演算や文字列処理などの小さなものであるが，これらの演算を組み合わせることで様々なソフトウェアを作成することができる．講義科目名にもある **プログラミング** とはプログラミング言語を介して何らかの演算をさせることである．プログラミングの第一歩として，第2回目の講義では，演算を実行するために必要なデータを取り扱う **変数（Variable）** について学ぶ．\n",
    "\n",
    "変数とは中学の数学で学んだ方程式 $y=2x+1$ における変数 $x,y$ と同じようなものである．式上では変数に具体的な数値は格納されていないが，我々は $x=10$ のように変数 $x$ に具体的な値 $10$ を代入したときの $y$ の値を計算できる．この処理をコンピュータで実行することをイメージされたい．必要な情報は演算 $y=2x+1$ と変数 $x,y$ の定義，そして変数への代入 $x=10$ である．では，この情報と処理をコンピュータにどのように演算として指示をすればいいだろうか？\n",
    "\n",
    "以降，Pythonを使ってこの演算を実行する．"
   ]
  },
  {
   "cell_type": "markdown",
   "metadata": {},
   "source": [
    "### 変数に値を代入する\n",
    "\n",
    "始めに，式を定義する前に，変数 $x$ に値 $10$ を代入する処理を学ぶ．この処理には変数 $x$ の定義と値 $10$ の代入という処理が含まれる．\n",
    "\n",
    "プログラミングにおける変数と代入を理解するためにはコンピュータ上でのデータの管理方法のイメージを掴む必要がある．詳細は省略するが，コンピュータはデータ（ここでは値 $10$）を **メモリ** 上で管理している．メモリは図に示すようにコンピュータ上の記憶領域である．また，記憶領域上の位置は **アドレス** とも呼ばれる．コンピュータはメモリに記録された値と演算時に参照するメモリ位置を使って変数を管理している．\n",
    "\n",
    "![](figs/var.png)\n",
    "\n",
    "実際には上図に示すように変数が格納されたメモリのアドレスはコンピュータによって自動的につけられた記号になっている．我々人間が演算に必要なすべてのアドレスを把握し管理するのは困難であるが，プログラミング言語では変数に名前をつけることで我々でもデータの値が格納されたメモリ位置を容易に管理できる（例えば変数名 `x` など）．この仕組みにより，人間が読めるプログラミング言語として任意のデータの **代入** や変数の中身のデータを **参照** できる．\n",
    "\n",
    "![](figs/assign.png)\n",
    "\n",
    "では，話を戻して，上図に示すように変数 `x` に数値データ `10` を代入する一連の手順を確認する．そのために，変数に変数名`x`を定義して，`x`に数値データ`10`を **代入演算子** `=`を使って代入する．代入演算子は名前の通り代入を意味する演算記号である．"
   ]
  },
  {
   "cell_type": "markdown",
   "metadata": {},
   "source": [
    "変数の定義，代入，参照を続くコードセルを実行して確認する．"
   ]
  },
  {
   "cell_type": "code",
   "execution_count": null,
   "metadata": {},
   "outputs": [],
   "source": [
    "x = 10"
   ]
  },
  {
   "cell_type": "markdown",
   "metadata": {},
   "source": "変数を定義するには，以下の構文を利用する．\n\n```python\n変数名 = 値\n```\n\nこの変数名の設定，すなわち値の代入はコンピュータ内部では以下の処理を行っている．\n\n1. コンピュータ内部のメモリ（記憶装置）に値を保存\n2. 保存したメモリに変数名を対応付け\n\nこれにより，変数名を介してメモリにアクセスできるようになる．実際に利用してみよう．\n\n> **💡 変数定義のルール**\n> \n> 数学で学ぶ $=$ は右辺と左辺が **等しい** ことを，プログラミングの `=` は値を変数に **代入する** ことを示す．意味が異なることに注意されたい．"
  },
  {
   "cell_type": "markdown",
   "metadata": {},
   "source": [
    "### 代入した値を参照する\n",
    "\n",
    "![](figs/refer.png)\n",
    "\n",
    "続いて，上図のように代入した値を変数名を指定することで出力（= **参照** ）する．上記のセルで代入した`10`が出力されれば正しく代入し，管理できていることが確認できる．Pythonでは `print(変数名)` とすることで変数名に含まれるデータを出力できる．"
   ]
  },
  {
   "cell_type": "code",
   "execution_count": null,
   "metadata": {},
   "outputs": [],
   "source": [
    "print(x)"
   ]
  },
  {
   "cell_type": "markdown",
   "metadata": {},
   "source": [
    "Jupyter Notebookでは特別に以下のプログラムでも参照できる"
   ]
  },
  {
   "cell_type": "code",
   "execution_count": null,
   "metadata": {},
   "outputs": [],
   "source": [
    "x"
   ]
  },
  {
   "cell_type": "markdown",
   "metadata": {},
   "source": [
    "### 式を計算する\n",
    "前述した方程式 $y=2x+1$ の右辺を変数 $x=10$ として計算する．詳細は後述するが，Pythonでは数値同士の四則演算がサポートされている．足し算は `+` 演算子，掛け算は `*` 演算子で実行することができる．"
   ]
  },
  {
   "cell_type": "code",
   "execution_count": null,
   "metadata": {},
   "outputs": [],
   "source": [
    "2 * x + 1"
   ]
  },
  {
   "cell_type": "markdown",
   "metadata": {},
   "source": [
    "実際の計算結果と一致することがわかる．続いて，左辺について変数 $y$ に上式の結果を代入する処理を実装する．代入は `=` で実行できる．"
   ]
  },
  {
   "cell_type": "code",
   "execution_count": null,
   "metadata": {},
   "outputs": [],
   "source": [
    "y = 2 * x + 1"
   ]
  },
  {
   "cell_type": "markdown",
   "metadata": {},
   "source": [
    "変数 $y$ の値を `print` 文で確認されたい．計算結果が代入されていることがわかる．"
   ]
  },
  {
   "cell_type": "code",
   "execution_count": null,
   "metadata": {},
   "outputs": [],
   "source": [
    "print(y)"
   ]
  },
  {
   "cell_type": "markdown",
   "metadata": {},
   "source": [
    "### 代入した値を変更する\n",
    "![](figs/reassign.png)\n",
    "\n",
    "では，最後に，変数 $x$ の中身を変更することを試みる．上記の代入手順を再度行うことで変数の中身を新たなデータで更新できる．"
   ]
  },
  {
   "cell_type": "code",
   "execution_count": null,
   "metadata": {},
   "outputs": [],
   "source": [
    "x = 100"
   ]
  },
  {
   "cell_type": "code",
   "execution_count": null,
   "metadata": {},
   "outputs": [],
   "source": [
    "print(x)"
   ]
  },
  {
   "cell_type": "markdown",
   "metadata": {},
   "source": [
    "再代入した変数 $x$ で前述の式を計算してみる．"
   ]
  },
  {
   "cell_type": "code",
   "execution_count": null,
   "metadata": {},
   "outputs": [],
   "source": [
    "y = 2 * x + 1\n",
    "print(y)"
   ]
  },
  {
   "cell_type": "markdown",
   "metadata": {},
   "source": [
    "結果が変わったことがわかる．$y=2x+1$ の $x$ に値を代入し式を計算するシンプルな問題を通して変数と演算のイメージを掴んでいただきたい．"
   ]
  },
  {
   "cell_type": "markdown",
   "metadata": {},
   "source": "例えば，変数 `x` を定義し，その値を `10` に変更したい場合以下のように書く．\n\n```python\nx = 20\nprint(x)  # 20が出力される\nx = 10\nprint(x)  # 10が出力される\n```\n\nこの例では，`x` は最初に `20` で定義され，その後 `10` で再定義されている．再定義された場合，**前回の値は削除され，新しい値で置き換えられる**．\n\n> **💡 Hint**\n> \n> 前述の説明はプログラミングの導入として非常に簡略化された説明である．そのため，メモリの仕組みやプログラムの処理手順については専門課程での講義に任せたい．また，情報系学生だけでなくより深く計算機科学について理解したい学生はサポートページ内の [さらに勉強したい方へ](../advanced_materials.md) を参照されたい．"
  },
  {
   "cell_type": "markdown",
   "metadata": {},
   "source": [
    "## 変数の型と名前\n",
    "先ほどの例では，数値を扱う変数を定義して演算を行った．Pythonでは数値だけでなく文字列，論理値，集合データなど様々なデータ（=変数）を変数として扱うことができる．このようなデータの種類を **データ型** （または単に，**型**）と呼ぶ．Pythonによってサポートされる変数は多岐にわたり，実は，変数自身も実装することができる．本講義で取り上げる代表的な変数を紹介する前に変数の種類について説明する．"
   ]
  },
  {
   "cell_type": "markdown",
   "metadata": {},
   "source": "## データ型\n\n変数には様々なデータの種類を格納できる．例えば，整数や小数，文字列，リスト，論理値などがある．このデータの種類のことを **データ型** と呼ぶ．\n\nPythonでは変数の型を確認するために `type` 関数を利用できる．\n\n> **💡 Tip**\n> \n> 発展的な内容であるが，本来ならばデータの種類に応じて変数の定義を行う必要がある．Pythonは`=`によって代入する値に応じて **自動的に** 変数（=メモリ）を確保する仕組みを持つ．これは **動的型付け** と呼ばれる仕組みである．データの種類に応じて私たちが型を定義することなく変数の定義ができる利点を持つが，大規模なプログラムを作成したり，変数が増えたとき，意図しないデータ同士の演算をしてしまうことがある．この意図しない処理を **バグ** と言う．代入されるデータ型を把握しておくことは，バグを生じさせないためにも重要である．"
  },
  {
   "cell_type": "markdown",
   "metadata": {},
   "source": [
    "### 変数の型の確認方法\n",
    "変数の型を調べるときは以下で確認できる．\n",
    "\n",
    "```python\n",
    "type(変数名)\n",
    "```"
   ]
  },
  {
   "cell_type": "markdown",
   "metadata": {},
   "source": [
    "以下のコードでは整数 `4` を代入した変数 `x` の型を確認している．Pythonでは整数を扱うデータ型は `int` 型と呼ばれ，`type(x)` の出力が `int` であることが確認できる．"
   ]
  },
  {
   "cell_type": "code",
   "execution_count": null,
   "metadata": {},
   "outputs": [],
   "source": [
    "x = 4\n",
    "type(x)"
   ]
  },
  {
   "cell_type": "markdown",
   "metadata": {},
   "source": "変数に格納されたデータの型を確認するには，`type`関数を利用する．\n\n```python\ntype(変数名)\n```\n\n以下のように利用できる．\n\n> **💡 Tip**\n> \n> `print`や`type`などPythonが提供する関数を**組み込み関数**と呼ぶ．Pythonでは様々な組み込み関数が提供されており，Pythonの[ドキュメントページ](https://docs.python.org/ja/3/library/functions.html)で確認できる．"
  },
  {
   "cell_type": "markdown",
   "metadata": {},
   "source": [
    "### 変数名\n",
    "\n",
    "データ型に加えて変数の名前にも注意が必要である．変数名には小文字の英字（`a-z`），大文字の英字（`A-Z`），数字（`0-9`），アンダースコア（`_`）を利用することができるが，変数名の付け方にはルールがある．具体的には，変数名の先頭が数字の場合や以下に示す変数名に使えない文字列で変数を定義した場合はエラーが生じる．これは変数名のルールに反したためである．エラーが生じた時は変数の名前を確認されたい．\n",
    "\n",
    "**変数名に使えない文字列**\n",
    "\n",
    "以下の単語はプログラム上で意味をなす役割を持った単語のため変数には利用できない．\n",
    "```python\n",
    "False, None, True, and, as, assert, break, class, continue, def, del, elif, else, except, finally, for, from, global, if, import, in, is, lambda, nonlocal, not, or, pass, raise, return, try, while, with, yield\n",
    "```"
   ]
  },
  {
   "cell_type": "markdown",
   "metadata": {},
   "source": "> **📝 変数のまとめ**\n> \n> - 変数の仕組みによってコンピュータ内部の挙動を把握することなくデータの読み書きができる．\n> - 変数にはデータに応じていくつかの種類があり，この種類のことをデータの型という．\n> - データの型は `type` で知ることができる．"
  },
  {
   "cell_type": "markdown",
   "metadata": {},
   "source": [
    "## 数値データ\n",
    "**数値データ型** は整数（$1$, $-10$,...），浮動小数点数（$3.14$, $-0.01$,...），複素数（$2+3i$，$5-2i$,...）といった数値を扱う際に定義される変数である．前述したようにPythonでは代入時の数値に応じて動的に変数の型が定義される．Pythonではスカラーだけでなくベクトルや行列もサポートされている．演算のために[Numpy](https://numpy.org)と呼ばれる数値計算ライブラリが一般的に利用されるが，詳細は次回以降のPythonの応用場面で紹介する．ここでは，代表的な数値データ型である`int`型と`float`型を紹介する．これらはそれぞれ整数値と浮動小数点数を扱うデータ型である．\n",
    "\n",
    "![](figs/num.png)\n",
    "\n",
    "発展的な内容であるが複素数（$2+3i$，$5-2i$,...）は`complex`型として定義される．"
   ]
  },
  {
   "cell_type": "markdown",
   "metadata": {},
   "source": [
    "### 代表的な数値データ型"
   ]
  },
  {
   "cell_type": "markdown",
   "metadata": {},
   "source": [
    "#### int型\n",
    "整数を扱う型を`int`型という．以下に`int`型の変数の代入例を示す．"
   ]
  },
  {
   "cell_type": "code",
   "execution_count": null,
   "metadata": {},
   "outputs": [],
   "source": [
    "x = 3\n",
    "print(x)"
   ]
  },
  {
   "cell_type": "markdown",
   "metadata": {},
   "source": [
    "`type`関数で変数`x`が`int`型であることを確認する．"
   ]
  },
  {
   "cell_type": "code",
   "execution_count": null,
   "metadata": {},
   "outputs": [],
   "source": [
    "type(x)"
   ]
  },
  {
   "cell_type": "markdown",
   "metadata": {},
   "source": [
    "負の値を代入したいときは`-`を加えれば良い．"
   ]
  },
  {
   "cell_type": "code",
   "execution_count": null,
   "metadata": {},
   "outputs": [],
   "source": [
    "x = -1\n",
    "print(x)"
   ]
  },
  {
   "cell_type": "code",
   "execution_count": null,
   "metadata": {},
   "outputs": [],
   "source": [
    "x = 0\n",
    "print(x)"
   ]
  },
  {
   "cell_type": "markdown",
   "metadata": {},
   "source": [
    "#### float型\n",
    "小数点を扱う型を`float`型という．以下に`float`型の変数の代入例を示す．"
   ]
  },
  {
   "cell_type": "code",
   "execution_count": null,
   "metadata": {},
   "outputs": [],
   "source": [
    "y = 3.14159\n",
    "print(y)"
   ]
  },
  {
   "cell_type": "markdown",
   "metadata": {},
   "source": [
    "`type`関数で変数`y`が`float`型であることを確認する．"
   ]
  },
  {
   "cell_type": "code",
   "execution_count": null,
   "metadata": {},
   "outputs": [],
   "source": [
    "type(y)"
   ]
  },
  {
   "cell_type": "code",
   "execution_count": null,
   "metadata": {},
   "outputs": [],
   "source": [
    "y = 0.12345\n",
    "print(y)"
   ]
  },
  {
   "cell_type": "code",
   "execution_count": null,
   "metadata": {},
   "outputs": [],
   "source": [
    "y = -1.2345\n",
    "print(y)"
   ]
  },
  {
   "cell_type": "markdown",
   "metadata": {},
   "source": [
    "### 数値データの演算\n",
    "数値データの定義の次は，数値データ同士の四則演算を紹介する．Pythonは `int` 型や `float` 型といった数値データに対して一般的な四則演算がサポートされており，1. 導入で行った数値データの演算を変数データに対しても同様に行うことができる．\n",
    "\n",
    "数値データ型の変数 `a` と `b` を作成し，足し算 `+` ，引き算 `-` ，掛け算 `*` ，割り算 `/` ，切り捨て `//` ，冪乗 `**` ，余剰 `%` の計算例を確認する．"
   ]
  },
  {
   "cell_type": "code",
   "execution_count": null,
   "metadata": {},
   "outputs": [],
   "source": [
    "a = 11\n",
    "b = 3\n",
    "print(a)\n",
    "print(b)"
   ]
  },
  {
   "cell_type": "code",
   "execution_count": null,
   "metadata": {},
   "outputs": [],
   "source": [
    "a + b"
   ]
  },
  {
   "cell_type": "code",
   "execution_count": null,
   "metadata": {},
   "outputs": [],
   "source": [
    "a - b"
   ]
  },
  {
   "cell_type": "code",
   "execution_count": null,
   "metadata": {},
   "outputs": [],
   "source": [
    "a * b"
   ]
  },
  {
   "cell_type": "code",
   "execution_count": null,
   "metadata": {},
   "outputs": [],
   "source": [
    "a / b"
   ]
  },
  {
   "cell_type": "markdown",
   "metadata": {},
   "source": [
    "`//`を使うと余りが切り捨てられ，整数値が得られる．"
   ]
  },
  {
   "cell_type": "code",
   "execution_count": null,
   "metadata": {},
   "outputs": [],
   "source": [
    "a // b"
   ]
  },
  {
   "cell_type": "markdown",
   "metadata": {},
   "source": [
    "冪乗の計算は`**`で実行できる．例：$a^{b}$"
   ]
  },
  {
   "cell_type": "code",
   "execution_count": null,
   "metadata": {},
   "outputs": [],
   "source": [
    "a**b"
   ]
  },
  {
   "cell_type": "markdown",
   "metadata": {},
   "source": [
    "余り（剰余）は `%` で計算できる．"
   ]
  },
  {
   "cell_type": "code",
   "execution_count": null,
   "metadata": {},
   "outputs": [],
   "source": [
    "a % b "
   ]
  },
  {
   "cell_type": "markdown",
   "metadata": {},
   "source": [
    "複数の計算はまとめることができる．"
   ]
  },
  {
   "cell_type": "code",
   "execution_count": null,
   "metadata": {},
   "outputs": [],
   "source": [
    "a + 2 * b / 3.14"
   ]
  },
  {
   "cell_type": "markdown",
   "metadata": {},
   "source": [
    "数式の計算と同じように計算には優先順序があり，`()`で囲うことで優先的に計算される．"
   ]
  },
  {
   "cell_type": "code",
   "execution_count": null,
   "metadata": {},
   "outputs": [],
   "source": [
    "(a + 2) * b / 3.14"
   ]
  },
  {
   "cell_type": "markdown",
   "metadata": {},
   "source": "> **📝 数値データ型のまとめ**\n> \n> - 数値データは種類に応じて `int`型，`float`型，`complex`型がある．\n> - 数値データ型には一般的な四則演算がサポートされている．"
  },
  {
   "cell_type": "markdown",
   "metadata": {},
   "source": [
    "## 文字列\n",
    "プログラミングを活用する場面では計算結果やエラー文を表示する際に文章を出力することが多々ある．ここでは，`A`，`Hello`，`This is a pen.`など文字，単語，文章をプログラミングで扱うことを考える．プログラミングでは，単語や文章など複数の **文字** が連なったものを **文字列** と呼び，PythonではPythonでは文字列は`str`型として扱われる．`str`型の変数の定義方法は，シングルクォーテーション `'` もしくはダブルクォーテーション `\"` で囲んだ文字または文字列を数値データと同様に代入すれば良い．\n",
    "\n",
    "![](figs/str.png)\n",
    "\n",
    "文字の場合は数値データと同様に一つの変数に文字データが格納されているとイメージすれば良い．一方で，文字列に関しては文字が格納された変数が複数個連なったデータをイメージされたい．これを上図に示す．`Hello`という文字列は単一の変数`s`に格納されているが各文字`H`，`e`，`l`，`l`，`o`はそれぞれ異なるメモリ位置に保存されていることに注意されたい．"
   ]
  },
  {
   "cell_type": "markdown",
   "metadata": {},
   "source": [
    "以下のコードは文字列を扱う `str` 変数 `s` に文字列 `Hello` を代入するものである．`print` 文で文字列が正しく代入されていることを確認されたい．"
   ]
  },
  {
   "cell_type": "code",
   "execution_count": null,
   "metadata": {},
   "outputs": [],
   "source": [
    "s = 'Hello'\n",
    "print(s)"
   ]
  },
  {
   "cell_type": "markdown",
   "metadata": {},
   "source": [
    "前述しように文字列はシングルクォーテーション `'` でもダブルクォーテーション `\"` で囲んでも代入できる．"
   ]
  },
  {
   "cell_type": "code",
   "execution_count": null,
   "metadata": {},
   "outputs": [],
   "source": [
    "s = \"Hello\"\n",
    "print(s)"
   ]
  },
  {
   "cell_type": "code",
   "execution_count": null,
   "metadata": {},
   "outputs": [],
   "source": [
    "type(s)"
   ]
  },
  {
   "cell_type": "markdown",
   "metadata": {},
   "source": [
    "文字列中に`\\n`を挿入することで任意の位置で改行できる．"
   ]
  },
  {
   "cell_type": "code",
   "execution_count": null,
   "metadata": {},
   "outputs": [],
   "source": [
    "s = 'Hel\\nlo'\n",
    "print(s)"
   ]
  },
  {
   "cell_type": "markdown",
   "metadata": {},
   "source": [
    "`str`型の注意点を述べたい．以下のコードのように`print`の結果は`1`が出力され，変数`s`の中身は整数の`int`型であると思われるかもしれない．しかしながら，`s='1'`と定義したため，変数`s`の型は文字列を表す`str`型となる．"
   ]
  },
  {
   "cell_type": "code",
   "execution_count": null,
   "metadata": {},
   "outputs": [],
   "source": [
    "s = '1'\n",
    "print(s)"
   ]
  },
  {
   "cell_type": "markdown",
   "metadata": {},
   "source": [
    "`type`関数でデータ型をチェックできる．Pythonは動的にデータ型が決定されるため注意されたい．"
   ]
  },
  {
   "cell_type": "code",
   "execution_count": null,
   "metadata": {},
   "outputs": [],
   "source": [
    "type(s)"
   ]
  },
  {
   "cell_type": "markdown",
   "metadata": {},
   "source": [
    "### 文字列の演算\n",
    "`str`型で定義される文字列について文字列同士の演算やサポートされている関数を紹介する．"
   ]
  },
  {
   "cell_type": "markdown",
   "metadata": {},
   "source": [
    "#### 文字列の長さの取得\n",
    "代入した文字列の文字数は`len`関数で取得できる．"
   ]
  },
  {
   "cell_type": "code",
   "execution_count": null,
   "metadata": {},
   "outputs": [],
   "source": [
    "s = 'Hello'\n",
    "len(s)"
   ]
  },
  {
   "cell_type": "markdown",
   "metadata": {},
   "source": [
    "空白（スペース）や改行は一文字としてカウントされる．"
   ]
  },
  {
   "cell_type": "code",
   "execution_count": null,
   "metadata": {},
   "outputs": [],
   "source": [
    "s = 'He llo'\n",
    "len(s)"
   ]
  },
  {
   "cell_type": "code",
   "execution_count": null,
   "metadata": {},
   "outputs": [],
   "source": [
    "s = 'He\\nllo'\n",
    "len(s)"
   ]
  },
  {
   "cell_type": "markdown",
   "metadata": {},
   "source": [
    "#### 文字列変数に対する足し算と掛け算\n",
    "複数の文字列の結合`+`や文字列の繰り返し`*`処理がサポートされている．同じ演算子であっても文字列と数値データでは処理が異なるため，データ型には常に注意されたい．"
   ]
  },
  {
   "cell_type": "code",
   "execution_count": null,
   "metadata": {},
   "outputs": [],
   "source": [
    "'AAA' + 'BBB' + 'CCC'"
   ]
  },
  {
   "cell_type": "code",
   "execution_count": null,
   "metadata": {},
   "outputs": [],
   "source": [
    "\"abcd_\" * 3"
   ]
  },
  {
   "cell_type": "markdown",
   "metadata": {},
   "source": "文字列データ型には`+`，`*`演算子がサポートされている．\n\n> **⚠️ 注意**\n> \n> 数値データの `+` や `*` と機能が異なる．データ型には注意されたい．"
  },
  {
   "cell_type": "markdown",
   "metadata": {},
   "source": [
    "#### 文字列中の文字を参照する\n",
    "\n",
    "![](figs/slice.png)\n",
    "\n",
    "続いて，定義した文字列中の文字を参照する方法を紹介する．例えば，`Hello` から最後の文字 `o` を出力する場面である．このような場面では要素の **インデックス（index）** を指定することで参照できる．前述したように文字列は文字が格納された変数の集まりであり，インデックスは文字列の各変数の番号を示していることを上図からイメージされたい．参照したい文字列の文字の先頭からの数がインデックスである．インデックスが計算できたら以下のように指定することで参照できる．\n",
    "\n",
    "```python\n",
    "文字列[インデックス]\n",
    "```\n",
    "\n",
    "注意点として先頭は $0$ 番目から始まる．そのため $0$ から開始して参照したい要素のインデックスを数える必要があることに注意されたい．また，インデックスを指定して要素を参照する処理を **インデキシング（indexing）** と呼ぶ．"
   ]
  },
  {
   "cell_type": "markdown",
   "metadata": {},
   "source": [
    "文字列`\"Hello\"`が格納された`str`型の変数`s`を定義し，各要素を参照する．"
   ]
  },
  {
   "cell_type": "code",
   "execution_count": null,
   "metadata": {},
   "outputs": [],
   "source": [
    "s = 'Hello'\n",
    "s[0]"
   ]
  },
  {
   "cell_type": "code",
   "execution_count": null,
   "metadata": {},
   "outputs": [],
   "source": [
    "s[4]"
   ]
  },
  {
   "cell_type": "markdown",
   "metadata": {},
   "source": [
    "`len`関数で文字数を取得できるため，`len(変数)-1`とすると最後の文字を参照できる．"
   ]
  },
  {
   "cell_type": "code",
   "execution_count": null,
   "metadata": {},
   "outputs": [],
   "source": [
    "s[len(s)-1]"
   ]
  },
  {
   "cell_type": "markdown",
   "metadata": {},
   "source": [
    "インデックスは`-`をつけると最後尾から数えたインデックスとなる．"
   ]
  },
  {
   "cell_type": "code",
   "execution_count": null,
   "metadata": {},
   "outputs": [],
   "source": [
    "s[-1]"
   ]
  },
  {
   "cell_type": "markdown",
   "metadata": {},
   "source": [
    "#### 文字列中の部分文字列を参照する\n",
    "\n",
    "![](figs/slice_start_end.png)\n",
    "\n",
    "前述のように文字列から文字を抽出する際はインデックスを指定すれば良い．ここでは，文字列から部分文字列を参照することを考える．例えば，上図のように文字列`Hello`から部分文字列`ell`を抽出する場面である．このような処理を実現するためには，参照したい部分文字列の開始インデックスと終了インデックスをコロン`:`を用いて以下のように指定すれば良い．\n",
    "\n",
    "```python\n",
    "文字列[開始インデックス:終了インデックス]\n",
    "```\n",
    "\n",
    "文字列から部分文字列を上記のように参照することを **スライシング（Slicing）** と呼ぶ"
   ]
  },
  {
   "cell_type": "markdown",
   "metadata": {},
   "source": [
    "スライシングを利用しないと以下のように参照したい文字数だけ `print` 文による出力が必要となる．参照したい文字列が増えると可読性が低い冗長なプログラムになる．"
   ]
  },
  {
   "cell_type": "code",
   "execution_count": null,
   "metadata": {},
   "outputs": [],
   "source": [
    "s = 'Hello'"
   ]
  },
  {
   "cell_type": "code",
   "execution_count": null,
   "metadata": {},
   "outputs": [],
   "source": [
    "print(s[1],s[2],s[3])"
   ]
  },
  {
   "cell_type": "markdown",
   "metadata": {},
   "source": [
    "スライシングを利用するとシンプルに参照できる．"
   ]
  },
  {
   "cell_type": "code",
   "execution_count": null,
   "metadata": {},
   "outputs": [],
   "source": [
    "s[1:4]"
   ]
  },
  {
   "cell_type": "markdown",
   "metadata": {},
   "source": "```python\ns = \"Hello\"\nprint(s[1:4])  # ell\n```\n\n> **⚠️ 注意**\n> \n> `s[1:4]`で終了インデックスは`4`を指定したが`s[4]`の要素である`o`は参照されないことに注意されたい．スライシングにおいて終了インデックスは`抽出したい要素のインデックス+1`と覚えておくと良い．"
  },
  {
   "cell_type": "markdown",
   "metadata": {},
   "source": [
    "次のようなスライシングも可能である．"
   ]
  },
  {
   "cell_type": "code",
   "execution_count": null,
   "metadata": {},
   "outputs": [],
   "source": [
    "s = 'Hello World!'\n",
    "s"
   ]
  },
  {
   "cell_type": "markdown",
   "metadata": {},
   "source": [
    "あるインデックス$i$から文字列の末尾までを部分文字列として参照する際は終了インデックスを省略できる．\n",
    "\n",
    "```python\n",
    "文字列[開始インデックス:]\n",
    "```"
   ]
  },
  {
   "cell_type": "code",
   "execution_count": null,
   "metadata": {},
   "outputs": [],
   "source": [
    "i = 3\n",
    "s[i:]"
   ]
  },
  {
   "cell_type": "markdown",
   "metadata": {},
   "source": [
    "`len`関数で文字数が取得できるため上記の処理は下記の処理と等しい．"
   ]
  },
  {
   "cell_type": "code",
   "execution_count": null,
   "metadata": {},
   "outputs": [],
   "source": [
    "s[i:len(s)]"
   ]
  },
  {
   "cell_type": "markdown",
   "metadata": {},
   "source": [
    "文字列の最初の最初の文字（`0`インデックス）からあるインデックス$j$までを部分文字列として参照する際は開始インデックスを省略できる．\n",
    "\n",
    "```python\n",
    "文字列[:終了インデックス]\n",
    "```"
   ]
  },
  {
   "cell_type": "code",
   "execution_count": null,
   "metadata": {},
   "outputs": [],
   "source": [
    "j = 3\n",
    "s[:j]"
   ]
  },
  {
   "cell_type": "markdown",
   "metadata": {},
   "source": [
    "上記の処理は最初の文字のインデックスは`0`であるため`文字列[0:終了インデックス]`と等しい．"
   ]
  },
  {
   "cell_type": "code",
   "execution_count": null,
   "metadata": {},
   "outputs": [],
   "source": [
    "s[0:j]"
   ]
  },
  {
   "cell_type": "markdown",
   "metadata": {},
   "source": [
    "開始インデックス$i$から終了インデックス$j$まで$k$文字ごとに参照する場合は以下で書ける．\n",
    "\n",
    "```python\n",
    "文字列[開始インデックス:終了インデックス:スキップ数]\n",
    "```"
   ]
  },
  {
   "cell_type": "code",
   "execution_count": null,
   "metadata": {},
   "outputs": [],
   "source": [
    "i, j, k = 2, 8, 2\n",
    "s[i:j:k]"
   ]
  },
  {
   "cell_type": "markdown",
   "metadata": {},
   "source": "> **📝 文字列データ型のまとめ**\n> \n> - 文字列は `str`型として扱われる．\n> - 文字列から文字または文字列を参照するときはインデキシングまたはスライシングを用いる．\n> - 文字列の長さは `len`関数で取得できる．"
  },
  {
   "cell_type": "markdown",
   "metadata": {},
   "source": [
    "## リスト\n",
    "\n",
    "![](figs/list.png)\n",
    "\n",
    "**リスト** は複数のデータを扱いたいときに利用されるデータ型である．例えば，3日間の平均気温をプログラム上で定義したいとき3日分の3つの変数を定義することなく，1つのリストで管理することができる．リストは以下のように `[]` の中に，値（要素とも呼ばれる）をカンマ `,` 区切りで並べることで定義できる．\n",
    "\n",
    "```\n",
    "リスト = [要素1, 要素2, 要素3,...]\n",
    "```\n",
    "\n",
    "後述するがリストには `str` 型と同じ参照（インデキシングやスライシング）の機能がサポートされている．`str` 型は複数の値（文字）が格納されたデータ構造であるがリストとは異なるデータ型であることに注意されたい．"
   ]
  },
  {
   "cell_type": "code",
   "execution_count": null,
   "metadata": {},
   "outputs": [],
   "source": [
    "l = [0, 1, 2]\n",
    "print(l)"
   ]
  },
  {
   "cell_type": "markdown",
   "metadata": {},
   "source": [
    "リストは`type(リスト)`とすると`list`と呼ばれるデータ型が出力される．"
   ]
  },
  {
   "cell_type": "code",
   "execution_count": null,
   "metadata": {},
   "outputs": [],
   "source": [
    "type(l)"
   ]
  },
  {
   "cell_type": "markdown",
   "metadata": {},
   "source": [
    "リストと文字列は異なるデータ構造であるがリストの値に文字を代入することもできる．"
   ]
  },
  {
   "cell_type": "code",
   "execution_count": null,
   "metadata": {},
   "outputs": [],
   "source": [
    "l = ['a', 'b', 'c', 'd', 'e']\n",
    "print(l)"
   ]
  },
  {
   "cell_type": "markdown",
   "metadata": {},
   "source": [
    "リストの要素数は`len`関数を利用することで取得できる．"
   ]
  },
  {
   "cell_type": "code",
   "execution_count": null,
   "metadata": {},
   "outputs": [],
   "source": [
    "len(l)"
   ]
  },
  {
   "cell_type": "markdown",
   "metadata": {},
   "source": [
    "リストの要素は異なるデータ型でも良い．"
   ]
  },
  {
   "cell_type": "code",
   "execution_count": null,
   "metadata": {},
   "outputs": [],
   "source": [
    "l = ['a', 0, 1, True]\n",
    "print(l)"
   ]
  },
  {
   "cell_type": "markdown",
   "metadata": {},
   "source": [
    "リストの中にリストを定義できる．これは **多重リスト** とも呼ばれる．"
   ]
  },
  {
   "cell_type": "code",
   "execution_count": null,
   "metadata": {},
   "outputs": [],
   "source": [
    "l = [[0,1],[1,0]]\n",
    "print(l)"
   ]
  },
  {
   "cell_type": "markdown",
   "metadata": {},
   "source": [
    "### リストの演算\n",
    "リスト型に定義されているインデキシングとスライシングによる参照方法，リスト同士の演算，値の操作を紹介する．これらの方法は文字列と同じである．"
   ]
  },
  {
   "cell_type": "markdown",
   "metadata": {},
   "source": [
    "#### リストのインデキシング\n",
    "![](figs/list_index.png)\n",
    "\n",
    "リストには`str`型と同様にインデキシングがサポートされる．\n",
    "そのためリストの要素へは以下で参照できる．\n",
    "\n",
    "```\n",
    "リスト[インデックス]\n",
    "```\n",
    "\n",
    "リスト型においてもインデックスはリスト内の要素番号を示し，$0$番目から開始する．"
   ]
  },
  {
   "cell_type": "code",
   "execution_count": null,
   "metadata": {},
   "outputs": [],
   "source": [
    "l = ['a', 'b', 'c', 'd']"
   ]
  },
  {
   "cell_type": "code",
   "execution_count": null,
   "metadata": {},
   "outputs": [],
   "source": [
    "l[0]"
   ]
  },
  {
   "cell_type": "code",
   "execution_count": null,
   "metadata": {},
   "outputs": [],
   "source": [
    "l[3]"
   ]
  },
  {
   "cell_type": "markdown",
   "metadata": {},
   "source": [
    "リスト型においても`-`をつけると最後尾から数えたインデックスとなる．"
   ]
  },
  {
   "cell_type": "code",
   "execution_count": null,
   "metadata": {},
   "outputs": [],
   "source": [
    "l[-1]"
   ]
  },
  {
   "cell_type": "markdown",
   "metadata": {},
   "source": [
    "#### リストのスライシング\n",
    "リストにはスライシングもまたサポートされている．`str`型と同様に開始インデックスと終了インデックスを指定することで部分要素を参照できる．\n",
    "参照方法は以下である．\n",
    "\n",
    "```python\n",
    "リスト[開始インデックス:終了インデックス]\n",
    "```"
   ]
  },
  {
   "cell_type": "code",
   "execution_count": null,
   "metadata": {},
   "outputs": [],
   "source": [
    "l = [0, 1, 2, 3, 4, 5, 6, 7, 8, 9]\n",
    "print(l)"
   ]
  },
  {
   "cell_type": "code",
   "execution_count": null,
   "metadata": {},
   "outputs": [],
   "source": [
    "i = 3\n",
    "l[3:]"
   ]
  },
  {
   "cell_type": "code",
   "execution_count": null,
   "metadata": {},
   "outputs": [],
   "source": [
    "j = 3\n",
    "l[:j]"
   ]
  },
  {
   "cell_type": "code",
   "execution_count": null,
   "metadata": {},
   "outputs": [],
   "source": [
    "i, j = 2, 8\n",
    "l[i:j]"
   ]
  },
  {
   "cell_type": "code",
   "execution_count": null,
   "metadata": {},
   "outputs": [],
   "source": [
    "i, j, k = 2, 8, 2\n",
    "l[i:j:k]"
   ]
  },
  {
   "cell_type": "markdown",
   "metadata": {},
   "source": [
    "#### 要素の追加\n",
    "リストへ新たな要素を追加する際は`リスト.append(追加する値)`を呼び出す．追加された値は末尾に挿入される．"
   ]
  },
  {
   "cell_type": "code",
   "execution_count": null,
   "metadata": {},
   "outputs": [],
   "source": [
    "print(l)"
   ]
  },
  {
   "cell_type": "code",
   "execution_count": null,
   "metadata": {},
   "outputs": [],
   "source": [
    "l.append(10)\n",
    "print(l)"
   ]
  },
  {
   "cell_type": "markdown",
   "metadata": {},
   "source": [
    "#### 要素の削除\n",
    "要素の削除は`リスト.remove(削除する値)`で行う．ただし，最初にヒットした値を持つ要素が削除されることに注意されたい．"
   ]
  },
  {
   "cell_type": "code",
   "execution_count": null,
   "metadata": {},
   "outputs": [],
   "source": [
    "l.remove(10)\n",
    "print(l)"
   ]
  },
  {
   "cell_type": "markdown",
   "metadata": {},
   "source": [
    "#### 要素の挿入\n",
    "値を挿入したい位置のインデックスを指定して`リスト.insert(インデックス, 値)`と実行することで任意の位置に値を挿入できる．"
   ]
  },
  {
   "cell_type": "code",
   "execution_count": null,
   "metadata": {},
   "outputs": [],
   "source": [
    "l.insert(2, 100)\n",
    "print(l)"
   ]
  },
  {
   "cell_type": "markdown",
   "metadata": {},
   "source": [
    "#### リストの連結\n",
    "二つのリストを連結したいとき，`+`演算子を利用して以下のように実行する．\n",
    "\n",
    "```python\n",
    "リスト1 + リスト2\n",
    "```"
   ]
  },
  {
   "cell_type": "code",
   "execution_count": null,
   "metadata": {},
   "outputs": [],
   "source": [
    "l1 = [1,2,3]\n",
    "l2 = [10,11,12]\n",
    "l3 = l1 + l2"
   ]
  },
  {
   "cell_type": "code",
   "execution_count": null,
   "metadata": {},
   "outputs": [],
   "source": [
    "print(l3)"
   ]
  },
  {
   "cell_type": "markdown",
   "metadata": {},
   "source": [
    "3つ以上のリストの連結も同時にできる．"
   ]
  },
  {
   "cell_type": "code",
   "execution_count": null,
   "metadata": {},
   "outputs": [],
   "source": [
    "l1 = [1,2,3]\n",
    "l2 = [10,11,12]\n",
    "l3 = [100,101,102]\n",
    "l4 = l1 + l2 + l3"
   ]
  },
  {
   "cell_type": "code",
   "execution_count": null,
   "metadata": {},
   "outputs": [],
   "source": [
    "print(l4)"
   ]
  },
  {
   "cell_type": "markdown",
   "metadata": {},
   "source": "```python\nl1 = [1, 2, 3]\nl2 = [4, 5, 6]\nl1.append(l2)\nprint(l1)  # [1, 2, 3, [4, 5, 6]]\n```\n\n> **⚠️ 注意**\n> \n> 二つのリストを連結したいとき，`append`関数を利用すると意図しない結合となる．`+`演算子を利用せずに結合したい場合は`extend`関数を利用すると良い．"
  },
  {
   "cell_type": "code",
   "execution_count": null,
   "metadata": {},
   "outputs": [],
   "source": [
    "l1 = [1,2,3]\n",
    "l2 = [10,11,12]\n",
    "l1.append(l2)"
   ]
  },
  {
   "cell_type": "code",
   "execution_count": null,
   "metadata": {},
   "outputs": [],
   "source": [
    "print(l1)"
   ]
  },
  {
   "cell_type": "code",
   "execution_count": null,
   "metadata": {},
   "outputs": [],
   "source": [
    "l1 = [1,2,3]\n",
    "l2 = [10,11,12]\n",
    "l1.extend(l2)"
   ]
  },
  {
   "cell_type": "code",
   "execution_count": null,
   "metadata": {},
   "outputs": [],
   "source": [
    "print(l1)"
   ]
  },
  {
   "cell_type": "markdown",
   "metadata": {},
   "source": "> **📝 リスト型のまとめ**\n> \n> - 複数データを扱うときはリストを利用する．\n> - 文字列と同様にインデキシングやスライシングがサポートされている．\n> - リストの要素の操作やリスト間の操作に関する機能がサポートされている．"
  },
  {
   "cell_type": "markdown",
   "metadata": {},
   "source": [
    "## print文\n",
    "第1回の講義で変数の中身を参照する`print`文について学んだ．ここではより直感的に変数を出力できる`f-string`記法について紹介する．例えば，`変数xの値は...です．`と文字を含めて`print`で出力したいとする．このとき，Pythonでは次の方法で出力できる．"
   ]
  },
  {
   "cell_type": "markdown",
   "metadata": {},
   "source": [
    "### 文字連結によるprint出力\n",
    "文字列で学んだように，変数が文字列型の場合，`+`演算子で文字列を連結できる．連結した文字列を`print`出力することで文字列と変数を同時に出力できる．"
   ]
  },
  {
   "cell_type": "code",
   "execution_count": null,
   "metadata": {},
   "outputs": [],
   "source": [
    "x = 10\n",
    "print(\"変数xの値は\" + str(x) + \"です．\")"
   ]
  },
  {
   "cell_type": "markdown",
   "metadata": {},
   "source": [
    "### カンマ（,）によるprint出力\n",
    "pythonでは以下のようにカンマ **,** で区切ることで複数の変数を同時に出力できる．"
   ]
  },
  {
   "cell_type": "code",
   "execution_count": null,
   "metadata": {},
   "outputs": [],
   "source": [
    "print(\"変数xの値は\", x, \"です．\")"
   ]
  },
  {
   "cell_type": "markdown",
   "metadata": {},
   "source": [
    "### format表記によるprint出力\n",
    "文字列内に`{}`で示される位置に`.format(変数)`を利用して値を文字列に埋め込むことでも出力できる．"
   ]
  },
  {
   "cell_type": "code",
   "execution_count": null,
   "metadata": {},
   "outputs": [],
   "source": [
    "print(\"変数xの値は{}です．\".format(x))"
   ]
  },
  {
   "cell_type": "markdown",
   "metadata": {},
   "source": [
    "### f-string表記によるprint出力\n",
    "変数を含んだ文字列を出力する際に，`f\"文字列{変数}\"`として記載することで`format`を利用せずに変数を埋め込むことができる．"
   ]
  },
  {
   "cell_type": "code",
   "execution_count": null,
   "metadata": {},
   "outputs": [],
   "source": [
    "print(f\"変数xの値は{x}です．\")"
   ]
  },
  {
   "cell_type": "markdown",
   "metadata": {},
   "source": [
    "Pythonでは上記のような出力方法が提供されている．本講義では可読性を考慮し，**f-string**記法を利用して説明する．"
   ]
  },
  {
   "cell_type": "markdown",
   "metadata": {},
   "source": [
    "---"
   ]
  },
  {
   "cell_type": "markdown",
   "metadata": {},
   "source": [
    "## 【発展】変数のアドレス\n",
    "PythonではC言語と異なり動的にメモリを確保する仕組みが提供されているため，メモリの確保やメモリ上の位置はユーザには秘匿されている．しかしながら，内部では前述したように変数はメモリ上に格納され，演算時はメモリのアドレスに基づいて参照される．このときのメモリのアドレスは`id`関数を利用することで取得できる．"
   ]
  },
  {
   "cell_type": "code",
   "execution_count": null,
   "metadata": {},
   "outputs": [],
   "source": [
    "x = 10\n",
    "print(id(x))"
   ]
  },
  {
   "cell_type": "markdown",
   "metadata": {},
   "source": [
    "## 【発展】タプル\n",
    "リストと似たデータ型に**タプル**がある．タプルはリストと異なり後から値を変更することができない．そのため，意図せず書き換えることを防ぐためにタプルが利用される．タプルはカンマ区切りの値の集合を`()`で囲うことで定義できる．\n",
    "\n",
    "```python\n",
    "タプル = (要素1, 要素2, 要素3,...)\n",
    "```"
   ]
  },
  {
   "cell_type": "code",
   "execution_count": null,
   "metadata": {},
   "outputs": [],
   "source": [
    "t = (0, 1, 2)\n",
    "print(t)"
   ]
  },
  {
   "cell_type": "code",
   "execution_count": null,
   "metadata": {},
   "outputs": [],
   "source": [
    "type(t)"
   ]
  },
  {
   "cell_type": "markdown",
   "metadata": {},
   "source": [
    "タプルは要素の変更ができないことを確認する．以下のコードをコメントアウトして実行するとエラーが発生することがわかる．"
   ]
  },
  {
   "cell_type": "code",
   "execution_count": null,
   "metadata": {},
   "outputs": [],
   "source": [
    "# t[0] = 100"
   ]
  },
  {
   "cell_type": "code",
   "execution_count": null,
   "metadata": {},
   "outputs": [],
   "source": [
    "t = ('a', 'b', 'c', 'd', 'e')\n",
    "print(t)"
   ]
  },
  {
   "cell_type": "markdown",
   "metadata": {},
   "source": [
    "タプルの要素を参照するときはリストと同様にインデックスを指定する．"
   ]
  },
  {
   "cell_type": "code",
   "execution_count": null,
   "metadata": {},
   "outputs": [],
   "source": [
    "print(t[3])"
   ]
  },
  {
   "cell_type": "markdown",
   "metadata": {},
   "source": [
    "タプルの長さも同様である．"
   ]
  },
  {
   "cell_type": "code",
   "execution_count": null,
   "metadata": {},
   "outputs": [],
   "source": [
    "len(t)"
   ]
  },
  {
   "cell_type": "markdown",
   "metadata": {},
   "source": "タプルは作成時に設定した値を変更できない．例えば，先程のリストの例で利用した`append`関数はタプルには存在しない．\n\n> **💡 Tip**\n> \n> リストのように要素を変更できるオブジェクトを**ミュータブル**オブジェクト，タプルのように要素を変更できないオブジェクトを**イミュータブル**オブジェクトと呼ぶ．"
  },
  {
   "cell_type": "markdown",
   "metadata": {},
   "source": [
    "## 【発展】辞書\n",
    "\n",
    "![](figs/dict.png)\n",
    "\n",
    "**辞書**は**キー**を使って複数の値を管理するために利用されるデータ型（`dict`）である．辞書は以下のようにキーから値を参照できる．\n",
    "\n",
    "```\n",
    "辞書[キー]\n",
    "```\n",
    "\n",
    "辞書は以下のように定義できる．\n",
    "\n",
    "```\n",
    "辞書 = {キー1: 値1, キー2: 値2, キー3: 値3}\n",
    "```"
   ]
  },
  {
   "cell_type": "markdown",
   "metadata": {},
   "source": [
    "例えば，広島県（`hiroshima`），岡山県（`okayama`），島根県（`shimane`），鳥取県（`tottori`），山口県（`yamaguchi`）の8月の平均気温を辞書`d`で管理したいとする．このとき，リストを利用すると各県のリストへ格納された順番を記録しておく必要があるが，辞書で管理することで`d['hiroshima']`で広島県の平均気温を参照できる．"
   ]
  },
  {
   "cell_type": "code",
   "execution_count": null,
   "metadata": {},
   "outputs": [],
   "source": [
    "d = {'hiroshima': 35.0, 'okayama': 35.5, 'shimane': 34.0, 'tottori': 34.3, 'yamaguchi': 35.2}\n",
    "print(d)"
   ]
  },
  {
   "cell_type": "code",
   "execution_count": null,
   "metadata": {},
   "outputs": [],
   "source": [
    "print(d['hiroshima'])"
   ]
  },
  {
   "cell_type": "code",
   "execution_count": null,
   "metadata": {},
   "outputs": [],
   "source": [
    "type(d)"
   ]
  },
  {
   "cell_type": "markdown",
   "metadata": {},
   "source": [
    "### 辞書の演算"
   ]
  },
  {
   "cell_type": "markdown",
   "metadata": {},
   "source": [
    "#### 値の取得\n",
    "キーワードよって参照される辞書に格納された全ての値は`辞書.values()`で取得できる．"
   ]
  },
  {
   "cell_type": "code",
   "execution_count": null,
   "metadata": {},
   "outputs": [],
   "source": [
    "d = {'key1': 1, 'key2': 2, 'key3': 3}"
   ]
  },
  {
   "cell_type": "code",
   "execution_count": null,
   "metadata": {},
   "outputs": [],
   "source": [
    "print(d.values())"
   ]
  },
  {
   "cell_type": "markdown",
   "metadata": {},
   "source": "```python\ndic = {\"apple\": 100, \"banana\": 200}\nprint(dic.values())  # dict_values([100, 200])\n```\n\n> **⚠️ 注意**\n> \n> `values()`関数の返り値は`dict_values`型であることに注意されたい．これは第6回繰り返し処理で発展内容として紹介するイテラブルなオブジェクトである．リストやタプルとして利用したい場合は，後述するデータ型の変換を行う必要がある．"
  },
  {
   "cell_type": "markdown",
   "metadata": {},
   "source": [
    "#### キーの取得\n",
    "値を参照するためのキーワードは`辞書.keys()`で取得できる．"
   ]
  },
  {
   "cell_type": "code",
   "execution_count": null,
   "metadata": {},
   "outputs": [],
   "source": [
    "print(d.keys())"
   ]
  },
  {
   "cell_type": "markdown",
   "metadata": {},
   "source": [
    "#### 値とキーの取得\n",
    "キーワードと値を同時に取得したいときは`辞書.items()`を利用する．"
   ]
  },
  {
   "cell_type": "code",
   "execution_count": null,
   "metadata": {},
   "outputs": [],
   "source": [
    "print(d.items())"
   ]
  },
  {
   "cell_type": "markdown",
   "metadata": {},
   "source": "```python\ndic = {\"apple\": 100, \"banana\": 200}\nprint(dic.items())  # dict_items([('apple', 100), ('banana', 200)])\n```\n\n> **💡 Tip**\n> \n> 上記の`keys()`，`values()`，`items()`は第6回で学ぶ繰り返し処理と合わせて利用される．例えば，辞書の値に対してなんらかの演算処理を施したい場合に便利な関数である．"
  },
  {
   "cell_type": "markdown",
   "metadata": {},
   "source": [
    "#### 要素の追加\n",
    "辞書に新たな要素を加えるときは`辞書[新しいキーワード]=新しい値`とする．このとき既に定義済みのキーワードを指定すると値が更新されるので注意されたい．前述の`keys()`関数で定義済みのキーワードの管理をすると意図しない更新を避けることができる．"
   ]
  },
  {
   "cell_type": "code",
   "execution_count": null,
   "metadata": {},
   "outputs": [],
   "source": [
    "d['key4'] = 4"
   ]
  },
  {
   "cell_type": "code",
   "execution_count": null,
   "metadata": {},
   "outputs": [],
   "source": [
    "print(d)"
   ]
  },
  {
   "cell_type": "markdown",
   "metadata": {},
   "source": [
    "#### 辞書の追加\n",
    "辞書に別の辞書を追加するためには`辞書.update(追加したい辞書)`とする．重複するキーが含まれているときは追加側の辞書の値が優先される．"
   ]
  },
  {
   "cell_type": "code",
   "execution_count": null,
   "metadata": {},
   "outputs": [],
   "source": [
    "new_d = {'key10': 10, 'key11': 11}\n",
    "print(new_d)"
   ]
  },
  {
   "cell_type": "code",
   "execution_count": null,
   "metadata": {},
   "outputs": [],
   "source": [
    "d.update(new_d)"
   ]
  },
  {
   "cell_type": "code",
   "execution_count": null,
   "metadata": {},
   "outputs": [],
   "source": [
    "print(d)"
   ]
  },
  {
   "cell_type": "markdown",
   "metadata": {},
   "source": [
    "## 【発展】　論理値\n",
    "プログラムである条件を満たしていることを`True`，満たしていないことを`False`といい，第4回の講義で行う**条件分岐**で必要な型となる．詳細は次回で説明するがここでは簡単に論理値とは何か？を紹介したい．\n",
    "\n",
    "例えば，変数`x`の中身の数値（`int`型）が`0`より大きい場合，処理Aを行うプログラムを書きたいとする．このとき，条件は `x>0`であり，変数`x`の値がこの条件を満たすとき，`True`，満たさないとき，`False`となる．`True`と`False`も論理値（または真偽値）と呼ばれる`bool`型である．"
   ]
  },
  {
   "cell_type": "code",
   "execution_count": null,
   "metadata": {},
   "outputs": [],
   "source": [
    "b = True\n",
    "print(b)"
   ]
  },
  {
   "cell_type": "code",
   "execution_count": null,
   "metadata": {},
   "outputs": [],
   "source": [
    "type(b)"
   ]
  },
  {
   "cell_type": "code",
   "execution_count": null,
   "metadata": {},
   "outputs": [],
   "source": [
    "b = False\n",
    "print(b)"
   ]
  },
  {
   "cell_type": "code",
   "execution_count": null,
   "metadata": {},
   "outputs": [],
   "source": [
    "type(b)"
   ]
  },
  {
   "cell_type": "markdown",
   "metadata": {},
   "source": "```python\nTrue = 1  # Trueは事前定義済みの変数で，変数名として利用してはいけない．\n```\n\n> **⚠️ 注意**\n> \n> 上記のコードからわかるように，論理値はPythonによって事前に定義された**変数**であり，変数名として再定義してはいけない．"
  },
  {
   "cell_type": "markdown",
   "metadata": {},
   "source": [
    "## 【発展】代入演算子\n",
    "値を変数に代入する操作は上記の`var = 10`以外も提供されている．例えば，変数1（`var1`）と変数2（`var2`）を足して新たな変数（`var3`）を定義できる．"
   ]
  },
  {
   "cell_type": "code",
   "execution_count": null,
   "metadata": {},
   "outputs": [],
   "source": [
    "var1 = 10\n",
    "var2 = 2\n",
    "var3 = var1 + var2"
   ]
  },
  {
   "cell_type": "code",
   "execution_count": null,
   "metadata": {},
   "outputs": [],
   "source": [
    "print(var3)"
   ]
  },
  {
   "cell_type": "markdown",
   "metadata": {},
   "source": [
    "上記の代入は`var3`を定義することなく`var1`に`var2`を足す代入演算子`+=`で書くこともできる．"
   ]
  },
  {
   "cell_type": "code",
   "execution_count": null,
   "metadata": {},
   "outputs": [],
   "source": [
    "var1 += var2"
   ]
  },
  {
   "cell_type": "code",
   "execution_count": null,
   "metadata": {},
   "outputs": [],
   "source": [
    "print(var1)"
   ]
  },
  {
   "cell_type": "markdown",
   "metadata": {},
   "source": [
    "二変数の足し算だけでなく引き算（`-=`），掛け算（`*=`），割り算（`/=`）も同様に定義されている．"
   ]
  },
  {
   "cell_type": "markdown",
   "metadata": {},
   "source": "> **❗ 重要**\n> \n> ここまで数値データから始まり，文字列，リスト，タプル，辞書，論理値，代入演算子と多くのPythonの文法を学んだが，例えば，リストの `append`関数やスライシングなど本講義で学ぶ文法やテクニックを丸暗記する必要は全くない．研究や商用レベルではもちろん細かなアルゴリズムや仕組みの理解が求められるが，要求されるプログラムを作成するためにどのような機能や関数を利用するべきか？ということがイメージできれば「ゼロからはじめるプログラミング」の単位取得条件としては十分である．細かな仕様や実装方法は本講義資料，書籍，Google検索などを用いて適宜調べれば良い．このように本講義を通して，Pythonの使い方だけでなく，プログラミングの思考を学ぶことも意識されたい．"
  },
  {
   "cell_type": "markdown",
   "metadata": {},
   "source": [
    "## 【発展】データ型の変換"
   ]
  },
  {
   "cell_type": "markdown",
   "metadata": {},
   "source": [
    "Pythonでは動的に確保したデータ型を任意のデータ型へ変更することができる．このような変換を**キャスト**と呼ぶ．数値データに対して文字列の繰り返し処理`*`を適用する際など便利な枠組みである．しかしながら，文字データの例で確認したように出力が数値であってもデータ型は数値データ型であるとは限らない．また，文字データと数値データで同一の演算子であっても同一の処理をするとは限らない．このようなデータ型と演算子の定義に応じた処理の違いはバグの温床となりうるため，プログラムを作成する際はデータ型の確認（`type()`関数）を心がけたい．以降，主要なデータ型についてデータ型の変換が必要な場面とその変換方法を紹介する．"
   ]
  },
  {
   "cell_type": "markdown",
   "metadata": {},
   "source": [
    "### `int`型から`float`型へ，`float`型から`int`型への変換\n",
    "`int`型から`float`型への変換は`float()`関数を，`float`型から`int`型への変換は`int()`関数を利用することで行うことができる．ただし，`int`型への変換は小数点以下が切り捨てられることに注意されたい．以下に変換例を示す．"
   ]
  },
  {
   "cell_type": "code",
   "execution_count": null,
   "metadata": {},
   "outputs": [],
   "source": [
    "x = 2\n",
    "print(x)\n",
    "print(type(x))"
   ]
  },
  {
   "cell_type": "code",
   "execution_count": null,
   "metadata": {},
   "outputs": [],
   "source": [
    "x = float(x)\n",
    "print(x)\n",
    "print(type(x))"
   ]
  },
  {
   "cell_type": "code",
   "execution_count": null,
   "metadata": {},
   "outputs": [],
   "source": [
    "x = 3.14\n",
    "print(x)\n",
    "print(type(x))"
   ]
  },
  {
   "cell_type": "code",
   "execution_count": null,
   "metadata": {},
   "outputs": [],
   "source": [
    "x = int(3.14)\n",
    "print(x)\n",
    "print(type(x))"
   ]
  },
  {
   "cell_type": "markdown",
   "metadata": {},
   "source": [
    "### `str`型から`int`型へ，`int`型から`str`型への変換"
   ]
  },
  {
   "cell_type": "markdown",
   "metadata": {},
   "source": [
    "#### 意図した例\n",
    "数値$2$が格納された変数`x`を$3$倍した結果を変数$y$に代入する．"
   ]
  },
  {
   "cell_type": "code",
   "execution_count": null,
   "metadata": {},
   "outputs": [],
   "source": [
    "x = 2\n",
    "print(x)"
   ]
  },
  {
   "cell_type": "code",
   "execution_count": null,
   "metadata": {},
   "outputs": [],
   "source": [
    "y = 3 * x\n",
    "print(y)"
   ]
  },
  {
   "cell_type": "markdown",
   "metadata": {},
   "source": [
    "#### 意図しない例\n",
    "`print`の出力は数値データのように思えても変数`x`のデータ型が`str`型の場合，意図しない結果が出力される．"
   ]
  },
  {
   "cell_type": "code",
   "execution_count": null,
   "metadata": {},
   "outputs": [],
   "source": [
    "x = '2'\n",
    "print(x)"
   ]
  },
  {
   "cell_type": "code",
   "execution_count": null,
   "metadata": {},
   "outputs": [],
   "source": [
    "y = 3 * x\n",
    "print(y)"
   ]
  },
  {
   "cell_type": "markdown",
   "metadata": {},
   "source": [
    "#### 変換方法\n",
    "変数を`int()`で囲むとデータ型を`int`型へ変更できる．反対に，`str()`で囲むと`str`型へ変更できる．"
   ]
  },
  {
   "cell_type": "code",
   "execution_count": null,
   "metadata": {},
   "outputs": [],
   "source": [
    "x = '2'\n",
    "print(x)\n",
    "print(type(x))"
   ]
  },
  {
   "cell_type": "code",
   "execution_count": null,
   "metadata": {},
   "outputs": [],
   "source": [
    "x = int(x)\n",
    "print(x)\n",
    "print(type(x))"
   ]
  },
  {
   "cell_type": "code",
   "execution_count": null,
   "metadata": {},
   "outputs": [],
   "source": [
    "y = 3 * x\n",
    "print(y)"
   ]
  },
  {
   "cell_type": "markdown",
   "metadata": {},
   "source": [
    "### タプル型からリスト型へ，リスト型からタプル型への変換\n",
    "タプル型（`tuple`）をリスト型（`list`）へ，リスト型からタプル型へ変換する方法を学ぶ．タプルとリストの違いは要素の変更ができるかどうかである．プログラム内で意図しない変更を避けたいときはリストからタプルへ変更すると良い．また，ユーザ入力に応じた変更など要素を変更したい場面ではタプルからリストへ変換する必要がある．"
   ]
  },
  {
   "cell_type": "markdown",
   "metadata": {},
   "source": [
    "#### タプル型からリスト型への変換"
   ]
  },
  {
   "cell_type": "code",
   "execution_count": null,
   "metadata": {},
   "outputs": [],
   "source": [
    "data = ('a', 'b', 'c')\n",
    "print(data)\n",
    "print(type(data))"
   ]
  },
  {
   "cell_type": "markdown",
   "metadata": {},
   "source": [
    "タプル型は要素を変更できない．コメントアウトして確認されたい．"
   ]
  },
  {
   "cell_type": "code",
   "execution_count": null,
   "metadata": {},
   "outputs": [],
   "source": [
    "# data[0] = 'd'"
   ]
  },
  {
   "cell_type": "markdown",
   "metadata": {},
   "source": [
    "リスト型への変換は変数を`list()`で囲うことで実現できる．"
   ]
  },
  {
   "cell_type": "code",
   "execution_count": null,
   "metadata": {},
   "outputs": [],
   "source": [
    "list_data = list(data)\n",
    "print(list_data)\n",
    "print(type(list_data))"
   ]
  },
  {
   "cell_type": "code",
   "execution_count": null,
   "metadata": {},
   "outputs": [],
   "source": [
    "list_data[0] = 'd'\n",
    "print(list_data)"
   ]
  },
  {
   "cell_type": "markdown",
   "metadata": {},
   "source": [
    "#### リスト型からタプル型への変換\n",
    "タプル型への変換は変数を`tuple()`で囲うことで実現．"
   ]
  },
  {
   "cell_type": "code",
   "execution_count": null,
   "metadata": {},
   "outputs": [],
   "source": [
    "tuple_data = tuple(list_data)\n",
    "print(tuple_data)\n",
    "print(type(tuple_data))"
   ]
  },
  {
   "cell_type": "markdown",
   "metadata": {},
   "source": [
    "タプル型へ変換した後の変数は要素を変更できない．コメントアウトして確認されたい．"
   ]
  },
  {
   "cell_type": "code",
   "execution_count": null,
   "metadata": {},
   "outputs": [],
   "source": [
    "# tuple_data[0] = 'e'"
   ]
  }
 ],
 "metadata": {
  "kernelspec": {
   "display_name": "Python 3 (ipykernel)",
   "language": "python",
   "name": "python3"
  },
  "language_info": {
   "codemirror_mode": {
    "name": "ipython",
    "version": 3
   },
   "file_extension": ".py",
   "mimetype": "text/x-python",
   "name": "python",
   "nbconvert_exporter": "python",
   "pygments_lexer": "ipython3",
   "version": "3.9.13"
  },
  "vscode": {
   "interpreter": {
    "hash": "393df73654aeede13ebb91076020de1190a2bd60e987ac18d822283f0caa6730"
   }
  }
 },
 "nbformat": 4,
 "nbformat_minor": 2
}